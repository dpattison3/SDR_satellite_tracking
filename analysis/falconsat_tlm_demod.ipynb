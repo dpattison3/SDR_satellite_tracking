{
 "cells": [
  {
   "cell_type": "code",
   "execution_count": null,
   "metadata": {},
   "outputs": [],
   "source": [
    "from rtlsdr import RtlSdr\n",
    "import pylab\n",
    "import os\n",
    "import sys\n",
    "sys.path.insert(0, os.path.abspath('..'))\n",
    "\n",
    "\n",
    "from util.plotting import compute_fft_plot, compute_fft_plot_from_sample_rate, compute_frequency_response\n",
    "from util.filtering import compute_lpf_coeff, filter_complex_signal, filter_real_signal\n",
    "from util.data_io import read_sdriq_data\n",
    "from util.demodulation import demodulate_signal, chunked_demodulate_signal\n",
    "import numpy as np\n",
    "from scipy.io import wavfile"
   ]
  },
  {
   "cell_type": "code",
   "execution_count": null,
   "metadata": {},
   "outputs": [],
   "source": [
    "# Crop and save the data. It's too much!\n",
    "fs = 1920000\n",
    "full_raw_file = \"/Users/benjaminpattison/Documents/Projects/satNav/SDR_satellite_tracking/data/gqrx_20211121_204702_435103000_1920000_fc.raw\"\n",
    "cropped_raw_file = \"/Users/benjaminpattison/Documents/Projects/satNav/SDR_satellite_tracking/data/gqrx_20211121_204702_435103000_1920000_fc_cropped.raw\"\n",
    "\n",
    "raw_signal = np.fromfile(full_raw_file, dtype=\"uint8\")\n",
    "\n",
    "total_cropped_length = 120  # [s]\n",
    "cropped_start = 120  # [s]\n",
    "cropped_start_index = 120 * fs\n",
    "# We do 2x the expected length because the I and Q data are interleaved.\n",
    "cropped_end_index = cropped_start_index + 2*total_cropped_length * fs\n",
    "cropped_raw_signal = raw_signal[cropped_start_index:cropped_end_index]\n",
    "raw_signal = None  # hack to clear the memory usage\n",
    "\n",
    "np.save(cropped_raw_file, cropped_raw_signal)\n",
    "\n",
    "# Arg! Numpy adds a non-optional .npy extension, but we want this to be consistent\n",
    "# with our other names. Rename to be consistent...\n",
    "os.rename(cropped_raw_file + \".npy\", cropped_raw_file)"
   ]
  },
  {
   "cell_type": "code",
   "execution_count": null,
   "metadata": {},
   "outputs": [],
   "source": [
    "fs = 1920000\n",
    "center_frequency = 435103000\n",
    "\n",
    "signal = read_sdriq_data(cropped_raw_file)\n",
    "print(f\"signal is of length {len(signal) / fs} seconds\")"
   ]
  },
  {
   "cell_type": "code",
   "execution_count": null,
   "metadata": {},
   "outputs": [],
   "source": [
    "signal_trimmed = signal[169:int(fs/9600)]\n",
    "\n",
    "print(\"max:\" , np.max(np.abs(signal_trimmed)))\n",
    "print(\"min:\" , np.min(np.abs(signal_trimmed)))\n",
    "print(\"mean:\" , np.mean(np.abs(signal_trimmed)))\n",
    "print(\"max - min:\" , np.max(np.abs(signal_trimmed)) - np.min(np.abs(signal_trimmed)))\n",
    "print(\"max - mean:\" , np.max(np.abs(signal_trimmed)) - np.mean(np.abs(signal_trimmed)))\n",
    "\n",
    "pylab.figure(2,figsize=[10,10])\n",
    "pylab.plot(np.abs(signal_trimmed) - np.mean(np.abs(signal_trimmed)))\n",
    "pylab.title(\"Signal minus its mean\")\n",
    "pylab.show(2)\n",
    "\n",
    "phase_angles = np.angle(signal_trimmed)\n",
    "phase_angle_diff = np.diff(phase_angles)\n",
    "\n",
    "pylab.figure(3,figsize=[10,10])\n",
    "pylab.plot(phase_angles)\n",
    "pylab.title(\"Phase angles\")\n",
    "pylab.show(3)\n",
    "\n",
    "pylab.figure(4,figsize=[10,10])\n",
    "pylab.plot(phase_angle_diff)\n",
    "pylab.title(\"Diff of the phase angles\")\n",
    "pylab.show(4)"
   ]
  },
  {
   "cell_type": "code",
   "execution_count": null,
   "metadata": {},
   "outputs": [],
   "source": [
    "# Low pass and sub-sample the signal to get it into a more reasonable sampling rate\n",
    "filtered_signal = filter_complex_signal(\n",
    "    signal=signal,\n",
    "    cutoff_frequency=48E3,\n",
    "    sample_rate=fs,\n",
    "    apply_mean_shift=False\n",
    ")\n",
    "downsample_factor = 15\n",
    "filtered_signal_downsampled = filtered_signal[::15]\n",
    "downsampled_fs = int(fs / 15)"
   ]
  },
  {
   "cell_type": "code",
   "execution_count": null,
   "metadata": {},
   "outputs": [],
   "source": [
    "# Now try out the filtering that we found in GNU radio code.\n",
    "def conjugate_filter(input):\n",
    "    # Product of the complex conjugate of the original signal and\n",
    "    # the 1-sample-time-delayed signal.\n",
    "    # Note, this will be 1 sample shorter than the input.\n",
    "    return np.conjugate(input[1:]) * input[:-1]\n"
   ]
  },
  {
   "cell_type": "code",
   "execution_count": null,
   "metadata": {},
   "outputs": [],
   "source": [
    "conjugate_down_sampled_filtered_signal = conjugate_filter(filtered_signal_downsampled)"
   ]
  },
  {
   "cell_type": "code",
   "execution_count": null,
   "metadata": {},
   "outputs": [],
   "source": [
    "pylab.figure(1,figsize=[10,10])\n",
    "pylab.specgram(filtered_signal_downsampled,Fc=0,Fs=downsampled_fs,NFFT=1024)\n",
    "pylab.show()"
   ]
  },
  {
   "cell_type": "code",
   "execution_count": null,
   "metadata": {},
   "outputs": [],
   "source": [
    "pylab.figure(1,figsize=[10,10])\n",
    "pylab.specgram(conjugate_down_sampled_filtered_signal,Fc=0,Fs=downsampled_fs,NFFT=1024)\n",
    "pylab.show()"
   ]
  },
  {
   "cell_type": "code",
   "execution_count": null,
   "metadata": {},
   "outputs": [],
   "source": [
    "# Plot 1ms worth of samples of the original\n",
    "\n",
    "pylab.figure()\n",
    "pylab.plot(filtered_signal_downsampled[:int(downsampled_fs*0.001)])\n",
    "pylab.show()"
   ]
  },
  {
   "cell_type": "code",
   "execution_count": null,
   "metadata": {},
   "outputs": [],
   "source": [
    "# Plot 1ms worth of samples of the original\n",
    "\n",
    "pylab.figure()\n",
    "pylab.plot(conjugate_down_sampled_filtered_signal[:int(downsampled_fs*0.001)])\n",
    "pylab.show()"
   ]
  },
  {
   "cell_type": "code",
   "execution_count": null,
   "metadata": {},
   "outputs": [],
   "source": [
    "phase_angles = np.angle(conjugate_down_sampled_filtered_signal)\n",
    "phase_angle_diff = np.unwrap(np.diff(phase_angles))"
   ]
  },
  {
   "cell_type": "code",
   "execution_count": null,
   "metadata": {},
   "outputs": [],
   "source": [
    "# Plot 1ms worth of samples of the original\n",
    "\n",
    "pylab.figure()\n",
    "pylab.plot(phase_angles[:int(downsampled_fs*0.001)])\n",
    "pylab.show()"
   ]
  },
  {
   "cell_type": "code",
   "execution_count": null,
   "metadata": {},
   "outputs": [],
   "source": [
    "# Plot 1ms worth of samples of the original\n",
    "\n",
    "pylab.figure()\n",
    "pylab.plot(phase_angle_diff[:int(downsampled_fs*0.02)])\n",
    "pylab.show()"
   ]
  },
  {
   "cell_type": "code",
   "execution_count": null,
   "metadata": {},
   "outputs": [],
   "source": []
  },
  {
   "cell_type": "code",
   "execution_count": null,
   "metadata": {},
   "outputs": [],
   "source": [
    "np.angle(conjugate_down_sampled_filtered_signal[:10])"
   ]
  },
  {
   "cell_type": "code",
   "execution_count": null,
   "metadata": {},
   "outputs": [],
   "source": [
    "\n",
    "\n",
    "phase_angles = np.angle(filtered_signal_downsampled)\n",
    "phase_angle_diff = np.unwrap(np.diff(phase_angles))\n",
    "phase_angle_diff[:10]"
   ]
  },
  {
   "cell_type": "code",
   "execution_count": null,
   "metadata": {},
   "outputs": [],
   "source": []
  },
  {
   "cell_type": "code",
   "execution_count": null,
   "metadata": {},
   "outputs": [],
   "source": []
  },
  {
   "cell_type": "code",
   "execution_count": null,
   "metadata": {},
   "outputs": [],
   "source": []
  },
  {
   "cell_type": "code",
   "execution_count": null,
   "metadata": {},
   "outputs": [],
   "source": []
  },
  {
   "cell_type": "code",
   "execution_count": null,
   "metadata": {},
   "outputs": [],
   "source": [
    "signal_cut = signal[30*fs:90*fs]\n",
    "filtered_signal_cut = filter_complex_signal(signal=signal_cut, cutoff_frequency=2*9600, sample_rate=fs)\n",
    "filtered_signal_down = filtered_signal_cut[0::int(fs/4/9600)]\n",
    "fs_down = int(filtered_signal_down.shape[0]/60)\n",
    "print(fs_down)\n",
    "print(filtered_signal_cut.shape)\n",
    "print(filtered_signal_down.shape)"
   ]
  },
  {
   "cell_type": "code",
   "execution_count": null,
   "metadata": {},
   "outputs": [],
   "source": [
    "pylab.figure(1,figsize=[10,10])\n",
    "pylab.specgram(signal_cut,Fc=center_frequency,Fs=fs,NFFT=16384,window=np.hamming(16384))\n",
    "pylab.ylim((center_frequency-10e3,center_frequency+10e3))\n",
    "pylab.show()"
   ]
  },
  {
   "cell_type": "code",
   "execution_count": null,
   "metadata": {},
   "outputs": [],
   "source": [
    "angles = np.angle(filtered_signal_down)\n",
    "# Difference the phase angle and convert to +/-pi range.\n",
    "angle_diff = np.unwrap(np.diff(angles))\n",
    "pylab.figure()\n",
    "pylab.plot(angle_diff[0:50])\n",
    "pylab.show()\n",
    "\"\"\"filtered_angle_diff = filter_real_signal(signal=angle_diff, cutoff_frequency=20e3, sample_rate=fs)\n",
    "angle_diff_downsampled = filtered_angle_diff[::int(fs/1200)]\n",
    "rounded_samples = np.round(angle_diff_downsampled).astype(int)\n",
    "print(np.max(rounded_samples))\n",
    "print(np.min(rounded_samples))\"\"\"\n",
    "\n",
    "\n"
   ]
  },
  {
   "cell_type": "code",
   "execution_count": null,
   "metadata": {},
   "outputs": [],
   "source": [
    "\"\"\"\n",
    "window_size = 1 # second\n",
    "for idx in [0]: #range(signal.shape[0]/(window_size*fs)):\n",
    "    start_index = 0 + (window_size*fs*idx)\n",
    "    stop_index = (window_size*fs*(idx+1))\n",
    "    this_chunk = filtered_signal[start_index:stop_index]\n",
    "    spectrum, frequencies, _, _ = pylab.specgram(this_chunk,NFFT=1024,Fc=center_frequency,Fs=fs)\n",
    "\n",
    "import struct\n",
    "format_string = \">b\"\n",
    "test_bytes = [struct.pack(format_string, i) for i in np.round(angle_diff_downsampled).astype(int)]\n",
    "print(test_bytes[:100])\n",
    "pylab.figure()\n",
    "pylab.plot(np.round(angle_diff_downsampled).astype(int))\n",
    "pylab.show()\n",
    "\"\"\"\n",
    "#print(np.round(angle_diff_downsampled[:100]).astype(int))\n",
    "#print(angle_diff_downsampled[:100])"
   ]
  }
 ],
 "metadata": {
  "interpreter": {
   "hash": "397e3b623edf964fc26f04e4624ddb7ac88e2978d6d450dff6bbbe0e3384e210"
  },
  "kernelspec": {
   "display_name": "Python 3.8.6 64-bit ('python_venv': venv)",
   "language": "python",
   "name": "python3"
  },
  "language_info": {
   "codemirror_mode": {
    "name": "ipython",
    "version": 3
   },
   "file_extension": ".py",
   "mimetype": "text/x-python",
   "name": "python",
   "nbconvert_exporter": "python",
   "pygments_lexer": "ipython3",
   "version": "3.8.6"
  },
  "orig_nbformat": 4
 },
 "nbformat": 4,
 "nbformat_minor": 2
}
