{
 "cells": [
  {
   "cell_type": "code",
   "execution_count": null,
   "metadata": {},
   "outputs": [],
   "source": [
    "import scipy.signal\n",
    "\n",
    "import numpy as np\n",
    "import matplotlib.pyplot as plt\n",
    "import plotly.graph_objects as go\n",
    "import scipy.io.wavfile as wavfile\n",
    "\n",
    "from util.plotting import compute_fft_plot_from_sample_rate\n",
    "from util.data_io import read_rtl_raw_data, read_gqrx_raw_data\n",
    "from util.filtering import low_pass_filter_complex_signal, band_pass_filter_complex_signal\n"
   ]
  },
  {
   "cell_type": "code",
   "execution_count": null,
   "metadata": {},
   "outputs": [],
   "source": [
    "fs = 10000\n",
    "\n",
    "times = np.linspace(0, 10, 10*fs)\n",
    "# signal = np.cos(2*np.pi*times*100) + np.cos(2*np.pi*times*250) + np.cos(2*np.pi*times*300)\n",
    "signal = np.exp(2j*np.pi*times*100) + np.exp(-2j*np.pi*times*100) + np.exp(2j*np.pi*times*250) + np.exp(-2j*np.pi*times*250) + np.exp(2j*np.pi*times*300) \\\n",
    "        + np.exp(2j*np.pi*times*1000) + np.exp(-2j*np.pi*times*1000)"
   ]
  },
  {
   "cell_type": "code",
   "execution_count": null,
   "metadata": {},
   "outputs": [],
   "source": [
    "f,m = compute_fft_plot_from_sample_rate(signal, fs)\n",
    "\n",
    "fig = go.Figure()\n",
    "fig.add_scatter(x=f,y=m)\n",
    "fig.show()"
   ]
  },
  {
   "cell_type": "code",
   "execution_count": null,
   "metadata": {},
   "outputs": [],
   "source": [
    "f,m = compute_fft_plot_from_sample_rate(np.real(signal), fs)\n",
    "\n",
    "fig = go.Figure()\n",
    "fig.add_scatter(x=f,y=m)\n",
    "fig.show()"
   ]
  },
  {
   "cell_type": "code",
   "execution_count": null,
   "metadata": {},
   "outputs": [],
   "source": [
    "def compute_complex_bandpass_filter_coefficients(num_coefficients, center_frequency, bandwidth, sample_rate, window=\"hamming\"):\n",
    "    \"\"\"\n",
    "    Inspired by:\n",
    "    https://dsp.stackexchange.com/questions/41361/how-to-implement-bandpass-filter-on-complex-valued-signal\n",
    "\n",
    "    It is recommended to use an odd number of coefficients. This creates a linear phase FIR.\n",
    "    \"\"\"\n",
    "    # First compute the coefficients of a FIR low pass filter of the half the given bandwidth. Half\n",
    "    # the bandwidth is used because it is symmetric around 0.\n",
    "    filter_coefficients = scipy.signal.firwin(numtaps=num_coefficients, cutoff=bandwidth/2, window=window, fs=sample_rate)\n",
    "\n",
    "    # Now, we shift the coefficients by the desired frequency.\n",
    "    filter_shift = center_frequency / sample_rate\n",
    "\n",
    "    complex_filter_coefficients = []\n",
    "    for i, f in enumerate(filter_coefficients):\n",
    "        complex_coeff = f * np.exp(2j * np.pi * filter_shift * i)\n",
    "        complex_filter_coefficients.append(complex_coeff)\n",
    "    \n",
    "    return complex_filter_coefficients\n"
   ]
  },
  {
   "cell_type": "code",
   "execution_count": null,
   "metadata": {},
   "outputs": [],
   "source": [
    "filter_coefficients = compute_complex_bandpass_filter_coefficients(num_coefficients=101, center_frequency=-1000, bandwidth=50, sample_rate=fs)\n",
    "\n",
    "w, h = scipy.signal.freqz(filter_coefficients)\n",
    "\n",
    "fig = go.Figure()\n",
    "fig.add_scatter(x=w*fs/(2*np.pi),y=np.abs(h))\n",
    "fig.show()"
   ]
  },
  {
   "cell_type": "code",
   "execution_count": null,
   "metadata": {},
   "outputs": [],
   "source": [
    "filtered_signal = scipy.signal.filtfilt(filter_coefficients, a=1, x=signal)\n",
    "\n",
    "\n",
    "f,m = compute_fft_plot_from_sample_rate(filtered_signal, fs)\n",
    "\n",
    "fig = go.Figure()\n",
    "fig.add_scatter(x=f,y=m)\n",
    "fig.show()"
   ]
  },
  {
   "cell_type": "code",
   "execution_count": null,
   "metadata": {},
   "outputs": [],
   "source": [
    "real_filtered_signal = scipy.signal.filtfilt(filter_coefficients, a=1, x=np.real(signal))\n",
    "imag_filtered_signal = scipy.signal.filtfilt(filter_coefficients, a=1, x=np.imag(signal))\n",
    "filtered_signal = real_filtered_signal + 1j * imag_filtered_signal\n",
    "\n",
    "\n",
    "f,m = compute_fft_plot_from_sample_rate(filtered_signal, fs)\n",
    "\n",
    "fig = go.Figure()\n",
    "fig.add_scatter(x=f,y=m)\n",
    "fig.show()"
   ]
  },
  {
   "cell_type": "code",
   "execution_count": null,
   "metadata": {},
   "outputs": [],
   "source": []
  }
 ],
 "metadata": {
  "kernelspec": {
   "display_name": "Python 3",
   "language": "python",
   "name": "python3"
  },
  "orig_nbformat": 4
 },
 "nbformat": 4,
 "nbformat_minor": 2
}
