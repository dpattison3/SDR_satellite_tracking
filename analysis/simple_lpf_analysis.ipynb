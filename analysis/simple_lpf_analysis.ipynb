{
 "cells": [
  {
   "cell_type": "code",
   "execution_count": null,
   "metadata": {},
   "outputs": [],
   "source": [
    "import sys\n",
    "sys.path.append(\"..\")"
   ]
  },
  {
   "cell_type": "code",
   "execution_count": null,
   "metadata": {},
   "outputs": [],
   "source": [
    "import numpy as np\n",
    "import matplotlib.pyplot as plt\n",
    "import plotly.graph_objects as go\n",
    "from scipy import signal\n",
    "import scipy.io.wavfile as wavfile\n",
    "from scipy.signal import resample, correlate, hilbert\n",
    "from PIL import Image\n",
    "\n",
    "\n",
    "from util.plotting import compute_fft_plot_from_sample_rate\n",
    "from util.data_io import read_rtl_raw_data, read_gqrx_raw_data\n",
    "from util.filtering import low_pass_filter_complex_signal, low_pass_filter_real_signal\n",
    "from util.demodulation import chunked_demodulate_signal\n",
    "from util.phase_locked_loop import phase_locked_loop"
   ]
  },
  {
   "cell_type": "code",
   "execution_count": null,
   "metadata": {},
   "outputs": [],
   "source": [
    "class LowPassFilter():\n",
    "    def __init__(self, frequency_cutoff: float, sample_rate: int, order: int) -> None:\n",
    "        self.b,self.a = signal.butter(N=order, Wn=frequency_cutoff, fs=sample_rate)\n",
    "        self.y = np.zeros((len(self.a) - 1,))\n",
    "        self.x = np.zeros((len(self.b),))\n",
    "    \n",
    "    def step(self, x: float):\n",
    "        self.x = np.concatenate([[x], self.x[:-1]])\n",
    "        y = (1/self.a[0]) * (self.x.dot(self.b) - self.y.dot(self.a[1:]))\n",
    "        self.y = np.concatenate([[y], self.y[:-1]])\n",
    "\n",
    "        return y"
   ]
  },
  {
   "cell_type": "code",
   "execution_count": null,
   "metadata": {},
   "outputs": [],
   "source": [
    "sample_rate = 1000\n",
    "length = 60 * sample_rate\n",
    "time = np.arange(length) / sample_rate\n",
    "test_signal = np.zeros((length,), dtype=float)\n",
    "\n",
    "frequencies = np.linspace(25, 250, num=10)\n",
    "for f in frequencies:\n",
    "    test_signal += np.cos(2 * np.pi * f * time)"
   ]
  },
  {
   "cell_type": "code",
   "execution_count": null,
   "metadata": {},
   "outputs": [],
   "source": [
    "f,m = compute_fft_plot_from_sample_rate(test_signal, sampling_rate=sample_rate)\n",
    "\n",
    "fig = go.Figure()\n",
    "fig.add_scattergl(x=f,y=m)\n",
    "fig.show()"
   ]
  },
  {
   "cell_type": "code",
   "execution_count": null,
   "metadata": {},
   "outputs": [],
   "source": [
    "lpf = LowPassFilter(frequency_cutoff=150, sample_rate=sample_rate, order=10)\n"
   ]
  },
  {
   "cell_type": "code",
   "execution_count": null,
   "metadata": {},
   "outputs": [],
   "source": [
    "f,m = signal.freqz(b=lpf.b, a=lpf.a, fs=sample_rate)\n",
    "\n",
    "fig = go.Figure()\n",
    "fig.add_scattergl(x=f,y=np.abs(m))\n",
    "fig.show()"
   ]
  },
  {
   "cell_type": "code",
   "execution_count": null,
   "metadata": {},
   "outputs": [],
   "source": [
    "lpf.b"
   ]
  },
  {
   "cell_type": "code",
   "execution_count": null,
   "metadata": {},
   "outputs": [],
   "source": [
    "lpf.a"
   ]
  },
  {
   "cell_type": "code",
   "execution_count": null,
   "metadata": {},
   "outputs": [],
   "source": [
    "np.set_printoptions(suppress=True, precision=3)\n",
    "\n",
    "filtered = []\n",
    "\n",
    "i = 0\n",
    "for x in test_signal:\n",
    "    filtered.append(lpf.step(x))\n",
    "    # i+=1\n",
    "    # if i > 5:\n",
    "    #     break\n",
    "\n",
    "filtered = np.array(filtered)"
   ]
  },
  {
   "cell_type": "code",
   "execution_count": null,
   "metadata": {},
   "outputs": [],
   "source": [
    "f,m = compute_fft_plot_from_sample_rate(filtered, sampling_rate=sample_rate)\n",
    "\n",
    "fig = go.Figure()\n",
    "fig.add_scattergl(x=f,y=m)\n",
    "fig.show()"
   ]
  },
  {
   "cell_type": "code",
   "execution_count": null,
   "metadata": {},
   "outputs": [],
   "source": [
    "filtered_alt = signal.lfilter(b=lpf.b, a=lpf.a, x=test_signal)\n",
    "\n",
    "\n",
    "f,m = compute_fft_plot_from_sample_rate(filtered_alt, sampling_rate=sample_rate)\n",
    "\n",
    "fig = go.Figure()\n",
    "fig.add_scattergl(x=f,y=m)\n",
    "fig.show()"
   ]
  },
  {
   "cell_type": "code",
   "execution_count": null,
   "metadata": {},
   "outputs": [],
   "source": []
  }
 ],
 "metadata": {
  "kernelspec": {
   "display_name": "jrti",
   "language": "python",
   "name": "python3"
  },
  "language_info": {
   "codemirror_mode": {
    "name": "ipython",
    "version": 3
   },
   "file_extension": ".py",
   "mimetype": "text/x-python",
   "name": "python",
   "nbconvert_exporter": "python",
   "pygments_lexer": "ipython3",
   "version": "3.10.8"
  }
 },
 "nbformat": 4,
 "nbformat_minor": 2
}
