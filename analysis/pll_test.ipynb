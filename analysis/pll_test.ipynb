{
 "cells": [
  {
   "cell_type": "code",
   "execution_count": null,
   "metadata": {},
   "outputs": [],
   "source": [
    "import numpy as np\n",
    "import matplotlib.pyplot as plt\n",
    "import plotly.graph_objects as go\n",
    "import scipy.io.wavfile as wavfile\n",
    "import scipy.signal\n",
    "\n",
    "from util.plotting import compute_fft_plot_from_sample_rate\n",
    "from util.data_io import read_rtl_raw_data, read_gqrx_raw_data\n",
    "from util.filtering import low_pass_filter_complex_signal, band_pass_filter_complex_signal, low_pass_filter_real_signal\n",
    "from util.phase_locked_loop import phase_locked_loop"
   ]
  },
  {
   "cell_type": "markdown",
   "metadata": {},
   "source": [
    "# Test PLL with a dummy signal"
   ]
  },
  {
   "cell_type": "markdown",
   "metadata": {},
   "source": [
    "## Generate a test signal"
   ]
  },
  {
   "cell_type": "code",
   "execution_count": null,
   "metadata": {},
   "outputs": [],
   "source": [
    "fs = 5000\n",
    "\n",
    "signal_length = 10\n",
    "time_vector = np.linspace(0, signal_length, signal_length*fs)\n",
    "signal_frequency = 225\n",
    "phase_offset = np.pi/2\n",
    "\n",
    "\n",
    "# Interestingly, the PLL I've used as reference are just copying positive frequencies. If we use a\n",
    "# positive frequency, then we get very little error. Using a cos does also work though.\n",
    "\n",
    "# signal = np.cos(2*np.pi*signal_frequency*time_vector + phase_offset)\n",
    "signal = np.exp(2j*np.pi*signal_frequency*time_vector + 2j*phase_offset)"
   ]
  },
  {
   "cell_type": "markdown",
   "metadata": {},
   "source": [
    "## View the test signal"
   ]
  },
  {
   "cell_type": "code",
   "execution_count": null,
   "metadata": {},
   "outputs": [],
   "source": [
    "start = 0\n",
    "end = int(0.05*fs)\n",
    "\n",
    "time = time_vector[start:end]\n",
    "fig = go.Figure()\n",
    "fig.add_scatter(x=time, y=np.real(signal[start:end]).astype(np.float32), name=\"original\")\n",
    "fig.show()"
   ]
  },
  {
   "cell_type": "code",
   "execution_count": null,
   "metadata": {},
   "outputs": [],
   "source": [
    "f,m = compute_fft_plot_from_sample_rate(signal, fs)\n",
    "fig = go.Figure()\n",
    "fig.add_scatter(x=f,y=m)\n",
    "fig.show()"
   ]
  },
  {
   "cell_type": "markdown",
   "metadata": {},
   "source": [
    "## Generate PLL reference and harmonic at double the frequency"
   ]
  },
  {
   "cell_type": "code",
   "execution_count": null,
   "metadata": {},
   "outputs": [],
   "source": [
    "output, output_harmonic, error = phase_locked_loop(signal, fs, 215, 20, output_frequency_harmonic=2)"
   ]
  },
  {
   "cell_type": "markdown",
   "metadata": {},
   "source": [
    "## View the results from the PLL and compare to the input"
   ]
  },
  {
   "cell_type": "code",
   "execution_count": null,
   "metadata": {},
   "outputs": [],
   "source": [
    "f,m = compute_fft_plot_from_sample_rate(output, fs)\n",
    "\n",
    "fig = go.Figure()\n",
    "fig.add_scatter(x=f,y=m)\n",
    "fig.show()"
   ]
  },
  {
   "cell_type": "code",
   "execution_count": null,
   "metadata": {},
   "outputs": [],
   "source": [
    "f,m = compute_fft_plot_from_sample_rate(output_harmonic, fs)\n",
    "\n",
    "fig = go.Figure()\n",
    "fig.add_scatter(x=f,y=m)\n",
    "fig.show()"
   ]
  },
  {
   "cell_type": "code",
   "execution_count": null,
   "metadata": {},
   "outputs": [],
   "source": [
    "start = int(0*fs)\n",
    "end = int(1.0*fs)\n",
    "\n",
    "time = time_vector[start:end]\n",
    "fig = go.Figure()\n",
    "fig.add_scatter(x=time, y=np.real(signal[start:end]).astype(np.float32), name=\"original\")\n",
    "fig.add_scatter(x=time, y=np.real(output[start:end]).astype(np.float32), name=\"pll\")\n",
    "fig.add_scatter(x=time, y=np.real(output_harmonic[start:end]).astype(np.float32), name=\"pll harmonic\")\n",
    "fig.show()"
   ]
  },
  {
   "cell_type": "code",
   "execution_count": null,
   "metadata": {},
   "outputs": [],
   "source": []
  }
 ],
 "metadata": {
  "kernelspec": {
   "display_name": "Python 3",
   "language": "python",
   "name": "python3"
  },
  "language_info": {
   "codemirror_mode": {
    "name": "ipython",
    "version": 3
   },
   "file_extension": ".py",
   "mimetype": "text/x-python",
   "name": "python",
   "nbconvert_exporter": "python",
   "pygments_lexer": "ipython3",
   "version": "3.8.10"
  },
  "orig_nbformat": 4
 },
 "nbformat": 4,
 "nbformat_minor": 2
}
