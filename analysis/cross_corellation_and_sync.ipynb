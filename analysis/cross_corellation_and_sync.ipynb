{
 "cells": [
  {
   "cell_type": "code",
   "execution_count": null,
   "id": "fitted-invite",
   "metadata": {},
   "outputs": [],
   "source": [
    "import pylab\n",
    "\n",
    "import numpy as np\n",
    "from scipy.io import wavfile\n",
    "\n",
    "from scipy.signal import correlate\n",
    "from scipy.signal import correlation_lags"
   ]
  },
  {
   "cell_type": "code",
   "execution_count": null,
   "id": "applicable-recall",
   "metadata": {},
   "outputs": [],
   "source": [
    "# NOTE(dominic): This is super lame, but iptyhon kernels are running in the directory they are\n",
    "# contained. That means, we cannot access any other sub-modules from within these notebooks.\n",
    "# We resolve this by temporarily adding the parent directory to the path.\n",
    "\n",
    "import os\n",
    "import sys\n",
    "sys.path.insert(0, os.path.abspath('..'))\n",
    "\n",
    "\n",
    "from util.data_io import read_sdriq_data\n",
    "from util.demodulation import chunked_demodulate_signal\n",
    "from util.time_sync import compute_time_lag_in_samples, shift_signals_with_lag"
   ]
  },
  {
   "cell_type": "code",
   "execution_count": null,
   "id": "center-equity",
   "metadata": {},
   "outputs": [],
   "source": [
    "signal = read_sdriq_data('/Users/dominic/Software/SDR_satellite_tracking/data/dom_test_6.sdriq')\n",
    "\n",
    "fs = 2e6\n",
    "\n",
    "dom_signal_crops = list()\n",
    "band_filter_cutoffs = list()\n",
    "\n",
    "dom_signal_crops.append( signal[:int(8 * fs)] )\n",
    "band_filter_cutoffs.append(80e3)\n",
    "dom_signal_crops.append( signal[int(12 * fs):int(18 * fs)] )\n",
    "band_filter_cutoffs.append(15e3)\n",
    "dom_signal_crops.append( signal[int(22 * fs):] )\n",
    "band_filter_cutoffs.append(80e3)\n",
    "\n",
    "signal = None\n",
    "\n",
    "dom_output_audio_signals = list()\n",
    "\n",
    "\n",
    "for i, crop_signal in enumerate(dom_signal_crops):\n",
    "    band_filter_cutoff = band_filter_cutoffs[i]\n",
    "\n",
    "    audio_signal, audio_signal_fs = chunked_demodulate_signal(crop_signal, sample_rate=fs,\n",
    "                                                             band_filter_cutoff=band_filter_cutoff)\n",
    "    wavfile.write(f'/Users/dominic/Software/SDR_satellite_tracking/data/dom_test_6_crop{i}.wav',\n",
    "                  int(audio_signal_fs), audio_signal)\n",
    "        \n",
    "    dom_output_audio_signals.append(audio_signal)"
   ]
  },
  {
   "cell_type": "code",
   "execution_count": null,
   "id": "challenging-handy",
   "metadata": {},
   "outputs": [],
   "source": [
    "signal = read_sdriq_data('/Users/dominic/Software/SDR_satellite_tracking/data/ben_test_6.sdriq')\n",
    "\n",
    "fs = 2e6\n",
    "\n",
    "ben_signal_crops = list()\n",
    "\n",
    "ben_signal_crops.append( signal[:int(8 * fs)] )\n",
    "ben_signal_crops.append( signal[int(12 * fs):int(18 * fs)] )\n",
    "ben_signal_crops.append( signal[int(22 * fs):] )\n",
    "\n",
    "signal = None\n",
    "\n",
    "\n",
    "ben_output_audio_signals = list()\n",
    "\n",
    "\n",
    "for i, crop_signal in enumerate(ben_signal_crops):\n",
    "\n",
    "    band_filter_cutoff = band_filter_cutoffs[i]\n",
    "\n",
    "    audio_signal, audio_signal_fs = chunked_demodulate_signal(crop_signal, sample_rate=fs,\n",
    "                                                             band_filter_cutoff=band_filter_cutoff)\n",
    "    wavfile.write(f'/Users/dominic/Software/SDR_satellite_tracking/data/ben_test_6_crop{i}.wav',\n",
    "                  int(audio_signal_fs), audio_signal)\n",
    "    \n",
    "    ben_output_audio_signals.append(audio_signal)"
   ]
  },
  {
   "cell_type": "code",
   "execution_count": null,
   "id": "miniature-protein",
   "metadata": {},
   "outputs": [],
   "source": [
    "unsynced_combined_audio_crop0 = dom_output_audio_signals[0] + ben_output_audio_signals[0]\n",
    "unsynced_combined_audio_crop2 = dom_output_audio_signals[2] + ben_output_audio_signals[2]\n",
    "\n",
    "wavfile.write('/Users/dominic/Software/SDR_satellite_tracking/data/test_6_combined_unsynced_crop0.wav',\n",
    "              int(audio_signal_fs), unsynced_combined_audio_crop0)\n",
    "\n",
    "wavfile.write('/Users/dominic/Software/SDR_satellite_tracking/data/test_6_combined_unsynced_crop2.wav',\n",
    "              int(audio_signal_fs), unsynced_combined_audio_crop2)"
   ]
  },
  {
   "cell_type": "code",
   "execution_count": null,
   "id": "significant-state",
   "metadata": {},
   "outputs": [],
   "source": [
    "cross_correlation0 = correlate(dom_output_audio_signals[0], ben_output_audio_signals[0], mode=\"full\")\n",
    "cross_correlation2 = correlate(dom_output_audio_signals[2], ben_output_audio_signals[2], mode=\"full\")"
   ]
  },
  {
   "cell_type": "code",
   "execution_count": null,
   "id": "early-democrat",
   "metadata": {},
   "outputs": [],
   "source": [
    "pylab.plot(cross_correlation0)"
   ]
  },
  {
   "cell_type": "code",
   "execution_count": null,
   "id": "owned-account",
   "metadata": {},
   "outputs": [],
   "source": [
    "pylab.plot(cross_correlation2)"
   ]
  },
  {
   "cell_type": "code",
   "execution_count": null,
   "id": "ancient-trauma",
   "metadata": {},
   "outputs": [],
   "source": [
    "signal0_lag = compute_time_lag_in_samples(dom_output_audio_signals[0], ben_output_audio_signals[0])\n",
    "\n",
    "dom_output_audio_signal_shifted0, ben_output_audio_signal_shifted0 = shift_signals_with_lag(\n",
    "    dom_output_audio_signals[0], ben_output_audio_signals[0], signal0_lag)\n",
    "\n",
    "\n",
    "signal2_lag = compute_time_lag_in_samples(dom_output_audio_signals[2], ben_output_audio_signals[2])\n",
    "\n",
    "dom_output_audio_signal_shifted2, ben_output_audio_signal_shifted2 = shift_signals_with_lag(\n",
    "    dom_output_audio_signals[2], ben_output_audio_signals[2], signal2_lag)\n"
   ]
  },
  {
   "cell_type": "code",
   "execution_count": null,
   "id": "muslim-award",
   "metadata": {},
   "outputs": [],
   "source": [
    "signal0_lag / audio_signal_fs, signal2_lag / audio_signal_fs"
   ]
  },
  {
   "cell_type": "code",
   "execution_count": null,
   "id": "thorough-worth",
   "metadata": {},
   "outputs": [],
   "source": [
    "synced_combined_audio_crop0 = dom_output_audio_signal_shifted0 + ben_output_audio_signal_shifted0\n",
    "wavfile.write('/Users/dominic/Software/SDR_satellite_tracking/data/test_6_combined_synced_crop0.wav',\n",
    "              int(audio_signal_fs), synced_combined_audio_crop0)\n",
    "\n",
    "\n",
    "synced_combined_audio_crop2 = dom_output_audio_signal_shifted2 + ben_output_audio_signal_shifted2\n",
    "wavfile.write('/Users/dominic/Software/SDR_satellite_tracking/data/test_6_combined_synced_crop2.wav',\n",
    "              int(audio_signal_fs), synced_combined_audio_crop2)\n"
   ]
  },
  {
   "cell_type": "code",
   "execution_count": null,
   "id": "enabling-driving",
   "metadata": {},
   "outputs": [],
   "source": []
  },
  {
   "cell_type": "code",
   "execution_count": null,
   "id": "alleged-substitute",
   "metadata": {},
   "outputs": [],
   "source": []
  }
 ],
 "metadata": {
  "kernelspec": {
   "display_name": "Python 3",
   "language": "python",
   "name": "python3"
  },
  "language_info": {
   "codemirror_mode": {
    "name": "ipython",
    "version": 3
   },
   "file_extension": ".py",
   "mimetype": "text/x-python",
   "name": "python",
   "nbconvert_exporter": "python",
   "pygments_lexer": "ipython3",
   "version": "3.8.2"
  }
 },
 "nbformat": 4,
 "nbformat_minor": 5
}
