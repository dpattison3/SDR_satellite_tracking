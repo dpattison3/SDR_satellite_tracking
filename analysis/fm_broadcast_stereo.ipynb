{
 "cells": [
  {
   "cell_type": "code",
   "execution_count": null,
   "metadata": {},
   "outputs": [],
   "source": [
    "import numpy as np\n",
    "import matplotlib.pyplot as plt\n",
    "import plotly.graph_objects as go\n",
    "import scipy.io.wavfile as wavfile\n",
    "import scipy.signal\n",
    "\n",
    "from util.plotting import compute_fft_plot_from_sample_rate\n",
    "from util.data_io import read_rtl_raw_data, read_gqrx_raw_data\n",
    "from util.filtering import low_pass_filter_complex_signal, band_pass_filter_complex_signal, low_pass_filter_real_signal\n",
    "from util.phase_lock_loop import phase_lock_loop"
   ]
  },
  {
   "cell_type": "markdown",
   "metadata": {},
   "source": [
    "# Read an FM broadcast and use standard demodulation\n",
    "\n",
    "We'll read the file, crop to 5s (for speed), LPF, detect FM using angle differencing.\n",
    "Then, we detect and sync to the pilot tone. Finally, we detect the stereo difference channel and save"
   ]
  },
  {
   "cell_type": "code",
   "execution_count": null,
   "metadata": {},
   "outputs": [],
   "source": [
    "fs = 2048000\n",
    "center_frequency = 98500000\n",
    "\n",
    "fm_signal = read_rtl_raw_data(\"/home/dominic/radio/data/long_test.raw\")\n",
    "fm_signal = fm_signal[:fs*5]\n",
    "len(fm_signal) / fs"
   ]
  },
  {
   "cell_type": "code",
   "execution_count": null,
   "metadata": {},
   "outputs": [],
   "source": [
    "filtered_signal = low_pass_filter_complex_signal(signal=fm_signal, cutoff_frequency=55E3, sample_rate=fs)\n",
    "filtered_fs = fs / 10\n",
    "filtered_signal = filtered_signal[::10]\n",
    "\n",
    "angle_diff = np.angle(\n",
    "    np.conjugate(filtered_signal[:-1]) * filtered_signal[1:]\n",
    ")"
   ]
  },
  {
   "cell_type": "markdown",
   "metadata": {},
   "source": [
    "## View the FM spectrum"
   ]
  },
  {
   "cell_type": "code",
   "execution_count": null,
   "metadata": {},
   "outputs": [],
   "source": [
    "f,m = compute_fft_plot_from_sample_rate(angle_diff, filtered_fs)\n",
    "\n",
    "plt.plot(f,m)"
   ]
  },
  {
   "cell_type": "markdown",
   "metadata": {},
   "source": [
    "## Extract the pilot tone carrier wave"
   ]
  },
  {
   "cell_type": "code",
   "execution_count": null,
   "metadata": {},
   "outputs": [],
   "source": [
    "# TODO(dominic): Move this into a utility.\n",
    "filter_coefficients = scipy.signal.firwin(numtaps=129, cutoff=(18E3, 20E3), window=\"hamming\", fs=filtered_fs, pass_zero=\"bandpass\")\n",
    "\n",
    "# NOTE(dominic): It's important to use a linear phase filter, or do acausal filtering like we do\n",
    "# below. This is so that after filtering, we get a sinusoid that is exactly in-phase with the\n",
    "# original.\n",
    "pilot_signal = scipy.signal.filtfilt(b=filter_coefficients, a=1, x=angle_diff)"
   ]
  },
  {
   "cell_type": "markdown",
   "metadata": {},
   "source": [
    "## Use a PLL to synchronize to the pilot tone"
   ]
  },
  {
   "cell_type": "code",
   "execution_count": null,
   "metadata": {},
   "outputs": [],
   "source": [
    "# We are searching for a 19khz signal and we want to generate a 38khz reference.\n",
    "pilot_pll_recovered, pilot_pll_recovered_harmonic, _ = phase_lock_loop(\n",
    "    pilot_signal, fs=filtered_fs, initial_frequency_estimate=19E3, frequency_bandwidth=250,\n",
    "    output_frequency_multiplier=2\n",
    ")"
   ]
  },
  {
   "cell_type": "markdown",
   "metadata": {},
   "source": [
    "## Check the pilot tone phase with the PLL output"
   ]
  },
  {
   "cell_type": "code",
   "execution_count": null,
   "metadata": {},
   "outputs": [],
   "source": [
    "start_idx = int(filtered_fs*1.0)\n",
    "end_idx = int(filtered_fs*1.001)\n",
    "\n",
    "scale = np.mean(np.abs(np.real(pilot_signal[start_idx:end_idx])))\n",
    "\n",
    "plt.figure(figsize=(10,10))\n",
    "plt.plot(pilot_signal[start_idx:end_idx])\n",
    "plt.plot(np.real(pilot_pll_recovered[start_idx:end_idx]*scale))\n",
    "plt.legend()"
   ]
  },
  {
   "cell_type": "markdown",
   "metadata": {},
   "source": [
    "## Extract the stereo difference signal and save the audio"
   ]
  },
  {
   "cell_type": "code",
   "execution_count": null,
   "metadata": {},
   "outputs": [],
   "source": [
    "stereo_difference = np.real(angle_diff * np.conjugate(pilot_pll_recovered_harmonic))\n",
    "stereo_sum = angle_diff\n",
    "\n",
    "stereo_left = stereo_sum + stereo_difference  # L+R + L-R = 2L\n",
    "stereo_right = stereo_sum - stereo_difference  # L+R - (L-R) = 2R\n",
    "\n",
    "\n",
    "# Low-pass filter both stereo channels.\n",
    "stereo_left = low_pass_filter_real_signal(stereo_left, cutoff_frequency=15E3, sample_rate=filtered_fs)\n",
    "stereo_right = low_pass_filter_real_signal(stereo_right, cutoff_frequency=15E3, sample_rate=filtered_fs)\n",
    "\n",
    "audio_downsample_factor = 4\n",
    "stereo_left = stereo_left[::audio_downsample_factor]\n",
    "stereo_right = stereo_right[::audio_downsample_factor]\n",
    "audio_fs = filtered_fs / audio_downsample_factor"
   ]
  },
  {
   "cell_type": "code",
   "execution_count": null,
   "metadata": {},
   "outputs": [],
   "source": [
    "f,m = compute_fft_plot_from_sample_rate(stereo_left, audio_fs)\n",
    "\n",
    "# plt.plot(f,m)\n",
    "fig = go.Figure()\n",
    "fig.add_scatter(x=f,y=m)\n",
    "fig.show()"
   ]
  },
  {
   "cell_type": "code",
   "execution_count": null,
   "metadata": {},
   "outputs": [],
   "source": [
    "f,m = compute_fft_plot_from_sample_rate(stereo_right, audio_fs)\n",
    "\n",
    "\n",
    "fig = go.Figure()\n",
    "fig.add_scatter(x=f,y=m)\n",
    "fig.show()\n",
    "# plt.plot(f,m)"
   ]
  },
  {
   "cell_type": "code",
   "execution_count": null,
   "metadata": {},
   "outputs": [],
   "source": [
    "wavfile.write(\"data/stereo_sum.wav\", int(filtered_fs), stereo_sum)\n",
    "wavfile.write(\"data/stereo_difference.wav\", int(filtered_fs), stereo_difference)\n",
    "\n",
    "\n",
    "wavfile.write(\"data/stereo_left.wav\", int(audio_fs), stereo_left)\n",
    "wavfile.write(\"data/stereo_right.wav\", int(audio_fs), stereo_right)\n",
    "\n",
    "joint_stereo = np.concatenate([np.expand_dims(stereo_left, axis=1), np.expand_dims(stereo_right, axis=1)], axis=1)\n",
    "wavfile.write(\"data/stereo_joint.wav\", int(audio_fs), joint_stereo)\n"
   ]
  }
 ],
 "metadata": {
  "kernelspec": {
   "display_name": "Python 3",
   "language": "python",
   "name": "python3"
  },
  "language_info": {
   "codemirror_mode": {
    "name": "ipython",
    "version": 3
   },
   "file_extension": ".py",
   "mimetype": "text/x-python",
   "name": "python",
   "nbconvert_exporter": "python",
   "pygments_lexer": "ipython3",
   "version": "3.8.10"
  },
  "orig_nbformat": 4
 },
 "nbformat": 4,
 "nbformat_minor": 2
}
