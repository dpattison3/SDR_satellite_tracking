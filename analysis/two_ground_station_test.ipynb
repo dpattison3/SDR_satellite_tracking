{
 "cells": [
  {
   "cell_type": "code",
   "execution_count": 10,
   "metadata": {},
   "outputs": [],
   "source": [
    "# import tools\n",
    "import numpy as np\n",
    "import matplotlib.pyplot as plt\n",
    "import scipy.signal as signal\n",
    "from scipy.fft import fft, fftfreq\n",
    "import scipy\n",
    "import plotly.graph_objects as go\n"
   ]
  },
  {
   "cell_type": "code",
   "execution_count": 28,
   "metadata": {},
   "outputs": [],
   "source": [
    "# Define some useful constants\n",
    "\n",
    "# how many samples to cut out of the frequency transitions\n",
    "# - guessing at this based on reference scripts and int() because it can't be a float for indexing\n",
    "gate = int(200e3)\n",
    "\n",
    "# sample rate of the measurements\n",
    "sampleRate = 2e6\n",
    "\n",
    "# some things for plotting\n",
    "nSamples = int(3*20e6)\n",
    "t = np.linspace(0,30,nSamples)\n",
    "\n",
    "# things for filtering\n",
    "nyq = .5 * sampleRate\n",
    "refCtrFreq = 98.5e6\n",
    "band = .3e6\n",
    "lwr = 0 - band; upr = 0 + band\n",
    "bandPass = [lwr / nyq, upr / nyq]"
   ]
  },
  {
   "cell_type": "code",
   "execution_count": 4,
   "metadata": {},
   "outputs": [],
   "source": [
    "# import the binary files\n",
    "rawData_benGS = np.fromfile(\n",
    "    \"/Users/benjaminpattison/Documents/Projects/satNav/SDR_satellite_tracking/data/test5_benGS.dat\",\n",
    "    dtype=\"uint8\",\n",
    ")\n",
    "rawData_domGS = np.fromfile(\n",
    "    \"/Users/benjaminpattison/Documents/Projects/satNav/SDR_satellite_tracking/data/test5_domGS.dat\",\n",
    "    dtype=\"uint8\",\n",
    ")\n",
    "\n",
    "# subtract 255/2 to go from unsigned to signed values\n",
    "benData = rawData_benGS - 127.5\n",
    "domData = rawData_domGS - 127.5\n",
    "\n",
    "# split the data into its real and imaginary parts\n",
    "benRealParts = benData[0::2]\n",
    "benImagParts = benData[1::2]\n",
    "domRealParts = domData[0::2]\n",
    "domImagParts = domData[1::2]\n",
    "\n",
    "# create a variable that has the real and imaginary parts together\n",
    "benCplx = benRealParts + 1j * benImagParts\n",
    "domCplx = domRealParts + 1j * domImagParts\n"
   ]
  },
  {
   "cell_type": "code",
   "execution_count": 5,
   "metadata": {},
   "outputs": [],
   "source": [
    "# Define somethings for slicing the data into parts\n",
    "# number of samples for each frequency\n",
    "ben_nS = np.size(benCplx, 0)\n",
    "dom_nS = np.size(domCplx, 0)\n",
    "if ben_nS != dom_nS:\n",
    "    print(\"You don't have the same number of samples from each ground station\")\n",
    "    exit()\n",
    "else:\n",
    "    nS_total = dom_nS\n",
    "    nS_each = int(nS_total / 3)\n"
   ]
  },
  {
   "cell_type": "code",
   "execution_count": 34,
   "metadata": {},
   "outputs": [
    {
     "data": {
      "image/png": "[encoded data removed]",
      "text/plain": [
       "<Figure size 432x288 with 1 Axes>"
      ]
     },
     "metadata": {
      "needs_background": "light"
     },
     "output_type": "display_data"
    }
   ],
   "source": [
    "# Apply a filter to the reference signals\n",
    "sos = signal.butter(10, .25e6, btype=\"low\", fs=sampleRate, output=\"sos\")\n",
    "\n",
    "# the ones in campbell first\n",
    "benRef1 = benCplx[: nS_each - gate]\n",
    "benRef1_filtered = signal.sosfilt(sos, benRef1)\n",
    "\n",
    "benRef2 = benCplx[-nS_each + gate :]\n",
    "benRef2_filtered = signal.sosfilt(sos, benRef2)\n",
    "\n",
    "# the ones in cupertino next\n",
    "domRef1 = domCplx[: nS_each - gate]\n",
    "domRef1_filtered = signal.sosfilt(sos, domRef1)\n",
    "\n",
    "domRef2 = domCplx[-nS_each + gate :]\n",
    "domRef2_filtered = signal.sosfilt(sos, domRef2)\n",
    "\n",
    "w, h = signal.sosfreqz(sos,fs=sampleRate)\n",
    "plt.plot((sampleRate * 0.5 / np.pi) * w, abs(h))\n",
    "plt.show()"
   ]
  },
  {
   "cell_type": "code",
   "execution_count": 46,
   "metadata": {},
   "outputs": [
    {
     "data": {
      "image/png": "[encoded data removed]",
      "text/plain": [
       "<Figure size 432x288 with 4 Axes>"
      ]
     },
     "metadata": {
      "needs_background": "light"
     },
     "output_type": "display_data"
    }
   ],
   "source": [
    "# plot the frequency response of the reference and then the filtered reference\n",
    "fig, axs = plt.subplots(2,2)\n",
    "n = len(benRef1)\n",
    "yf = fft(benRef1)\n",
    "yf_filt = fft(benRef1_filtered)\n",
    "xf = fftfreq(n, 1/sampleRate) + refCtrFreq\n",
    "axs[0,0].plot(xf,np.abs(yf))\n",
    "axs[0,0].plot(xf,np.abs(yf_filt))\n",
    "axs[0,0].set_title(\"Campbell Reference 1\")\n",
    "\n",
    "n = len(benRef2)\n",
    "yf = fft(benRef2)\n",
    "yf_filt = fft(benRef2_filtered)\n",
    "xf = fftfreq(n, 1/sampleRate) + refCtrFreq\n",
    "axs[0,1].plot(xf,np.abs(yf))\n",
    "axs[0,1].plot(xf,np.abs(yf_filt))\n",
    "axs[0,1].set_title(\"Campbell Reference 2\")\n",
    "\n",
    "n = len(domRef1)\n",
    "yf = fft(domRef1)\n",
    "yf_filt = fft(domRef1_filtered)\n",
    "xf = fftfreq(n, 1/sampleRate) + refCtrFreq\n",
    "axs[1,0].plot(xf,np.abs(yf))\n",
    "axs[1,0].plot(xf,np.abs(yf_filt))\n",
    "axs[1,0].set_title(\"Cupertino Reference 1\")\n",
    "\n",
    "n = len(domRef2)\n",
    "yf = fft(domRef2)\n",
    "yf_filt = fft(domRef2_filtered)\n",
    "xf = fftfreq(n, 1/sampleRate) + refCtrFreq\n",
    "axs[1,1].plot(xf,np.abs(yf))\n",
    "axs[1,1].plot(xf,np.abs(yf_filt))\n",
    "axs[1,1].set_title(\"Cupertino Reference 2\")\n",
    "\n",
    "for ax in axs.flat:\n",
    "    ax.set(xlabel='Frequency [Hz]', ylabel='y-label')\n",
    "\n",
    "# Hide x labels and tick labels for top plots and y ticks for right plots.\n",
    "for ax in axs.flat:\n",
    "    ax.label_outer()"
   ]
  },
  {
   "cell_type": "code",
   "execution_count": 39,
   "metadata": {},
   "outputs": [
    {
     "name": "stdout",
     "output_type": "stream",
     "text": [
      "For the first reference: the lag in time is 0.3340835 and the lag in samples is 668167\n",
      "For the second reference: the lag in time is 1.879027 and the lag in samples is 3758054\n"
     ]
    }
   ],
   "source": [
    "# Correlation of the two reference signals using the differential phase method discussed here: http://www.panoradio-sdr.de/correlation-for-time-delay-analysis/\n",
    "# and referencing some of the code from the matlab scripts in his library\n",
    "\"\"\"\n",
    "Transmitter location according to wikipedia\n",
    "https://geohack.toolforge.org/geohack.php?pagename=KUFX&params=37.205_N_121.950_W_type:landmark_region:US-CA_source:FCC\n",
    "repeaters here\n",
    "    37.151583    -121.609917 (SE of SJ)\n",
    "    37.659389    -121.933028 (NE of Fremont)\n",
    "\"\"\"\n",
    "# The first reference\n",
    "# diff the signal\n",
    "dPhase1_benGS = np.diff(np.unwrap(np.angle(benRef1_filtered)))\n",
    "dPhase1_domGS = np.diff(np.unwrap(np.angle(domRef1_filtered)))\n",
    "\n",
    "# remove the mean\n",
    "dPhase1_benGS = dPhase1_benGS - np.mean(dPhase1_benGS)\n",
    "dPhase1_domGS = dPhase1_domGS - np.mean(dPhase1_domGS)\n",
    "\n",
    "# correlate the signals\n",
    "dPhaseXcorr1 = signal.correlate(dPhase1_benGS, dPhase1_domGS)\n",
    "dPhaseXcorr1_lags = signal.correlation_lags(len(dPhase1_benGS), len(dPhase1_domGS))\n",
    "dPhaseXcorr1_max = np.max(dPhaseXcorr1)\n",
    "\n",
    "refSig1Lag_samples = np.abs(dPhaseXcorr1_lags[np.argmax(dPhaseXcorr1)])\n",
    "refSig1Lag_time = refSig1Lag_samples / sampleRate\n",
    "\n",
    "# same process, for the second reference signal\n",
    "dPhase2_benGS = np.diff(np.unwrap(np.angle(benRef2_filtered)))\n",
    "dPhase2_domGS = np.diff(np.unwrap(np.angle(domRef2_filtered)))\n",
    "\n",
    "dPhase_benGS = dPhase2_benGS - np.mean(dPhase2_benGS)\n",
    "dPhase_domGS = dPhase2_domGS - np.mean(dPhase2_domGS)\n",
    "\n",
    "dPhaseXcorr2 = signal.correlate(dPhase2_benGS, dPhase2_domGS)\n",
    "dPhaseXcorr2_lags = signal.correlation_lags(len(dPhase2_benGS), len(dPhase2_domGS))\n",
    "dPhaseXcorr_max2 = np.max(dPhaseXcorr1)\n",
    "\n",
    "refSig2Lag_samples = np.abs(dPhaseXcorr2_lags[np.argmax(dPhaseXcorr2)])\n",
    "refSig2Lag_time = refSig2Lag_samples / sampleRate\n",
    "\n",
    "# print out the two lags (in units of seconds)\n",
    "print(\n",
    "    f\"For the first reference: the lag in time is {refSig1Lag_time} and the lag in samples is {refSig1Lag_samples}\"\n",
    ")\n",
    "print(\n",
    "    f\"For the second reference: the lag in time is {refSig2Lag_time} and the lag in samples is {refSig2Lag_samples}\"\n",
    ")\n"
   ]
  },
  {
   "cell_type": "code",
   "execution_count": null,
   "metadata": {},
   "outputs": [],
   "source": [
    "# plot some things\n",
    "# plot the original spectrum\n",
    "\n",
    "start = int(2e6)\n",
    "stop = start + 500\n",
    "\n",
    "plt.subplot(2,1,1)\n",
    "plt.plot(t[start:stop], benCplx[start:stop])\n",
    "plt.plot(t[start:stop], domCplx[start:stop])\n",
    "plt.xlabel(\"Time [seconds]\")\n",
    "plt.ylabel(\"Signal [units tbd]\")\n",
    "plt.title(\"Original Complex Signals (real parts only)\")\n",
    "\n",
    "plt.subplot(2,1,2)\n",
    "plt.plot(t[start:stop], np.angle(benCplx[start:stop]))\n",
    "plt.plot(t[start:stop], np.angle(domCplx[start:stop]))\n",
    "plt.xlabel(\"Time [seconds]\")\n",
    "plt.ylabel(\"Phase angle [radians probably]\")\n",
    "\n",
    "plt.show()"
   ]
  },
  {
   "cell_type": "code",
   "execution_count": null,
   "metadata": {},
   "outputs": [],
   "source": [
    "# plot some things\n",
    "# plot the differential phase\n",
    "\n",
    "start = int(2e6)\n",
    "stop = start + 100\n",
    "\n",
    "\n",
    "plt.plot(t[start:stop], dPhase1_benGS[start:stop])\n",
    "plt.plot(t[start:stop], dPhase1_domGS[start:stop])\n",
    "plt.xlabel(\"Time [seconds]\")\n",
    "plt.ylabel(\"Phase angle [radians probably]\")\n",
    "plt.title(\"Differential phase\")\n",
    "plt.show()"
   ]
  },
  {
   "cell_type": "code",
   "execution_count": null,
   "metadata": {},
   "outputs": [],
   "source": [
    "# plot some things\n",
    "# plot the spectrogram (PSD) of the references for each ground station\n",
    "# note that frequency=0 corresponds to the center frequency, in this case 98.5 MHz\n",
    "\n",
    "pxx, freqs, bins, im = plt.specgram(benCplx[: nS_each - gate], NFFT=16*1024, Fs=sampleRate, noverlap=0, scale=\"dB\")\n",
    "plt.ylim([-250000,250000])\n",
    "plt.xlabel(\"Time [seconds]\")\n",
    "plt.ylabel(\"Frequency (deviation from 98.5 MHz) [Hz]\")\n",
    "plt.title(\"Campbell ground station 1st reference sample frequency response\")\n",
    "plt.show()\n",
    "\n",
    "pxx, freqs, bins, im = plt.specgram(domCplx[: nS_each - gate], NFFT=16*1024, Fs=sampleRate, noverlap=0, scale=\"dB\")\n",
    "plt.ylim([-250000,250000])\n",
    "plt.xlabel(\"Time [seconds]\")\n",
    "plt.ylabel(\"Frequency (deviation from 98.5 MHz) [Hz]\")\n",
    "plt.title(\"Cupertino ground station 1st reference sample frequency response\")\n",
    "plt.show()\n",
    "\n",
    "pxx, freqs, bins, im = plt.specgram(benCplx[-nS_each + gate :], NFFT=16*1024, Fs=sampleRate, noverlap=0, scale=\"dB\")\n",
    "plt.ylim([-250000,250000])\n",
    "plt.xlabel(\"Time [seconds]\")\n",
    "plt.ylabel(\"Frequency (deviation from 98.5 MHz) [Hz]\")\n",
    "plt.title(\"Campbell ground station 2nd reference sample frequency response\")\n",
    "plt.show()\n",
    "\n",
    "pxx, freqs, bins, im = plt.specgram(domCplx[-nS_each + gate :], NFFT=16*1024, Fs=sampleRate, noverlap=0, scale=\"dB\")\n",
    "plt.ylim([-250000,250000])\n",
    "plt.xlabel(\"Time [seconds]\")\n",
    "plt.ylabel(\"Frequency (deviation from 98.5 MHz) [Hz]\")\n",
    "plt.title(\"Cupertino ground station 2nd reference sample frequency response\")\n",
    "plt.show()\n"
   ]
  },
  {
   "cell_type": "code",
   "execution_count": null,
   "metadata": {},
   "outputs": [],
   "source": [
    "# plot some things\n",
    "# plot the spectrogram (PSD) of the references for each ground station\n",
    "# note that frequency=0 corresponds to the center frequency, in this case 98.5 MHz\n",
    "\n",
    "pxx, freqs, bins, im = plt.specgram(benCplx[: nS_each - gate], NFFT=16*1024, Fs=sampleRate, noverlap=0, mode=\"phase\")\n",
    "plt.ylim([-np.pi,np.pi])\n",
    "plt.xlabel(\"Time [seconds]\")\n",
    "plt.ylabel(\"Phase angle [radians]\")\n",
    "plt.title(\"Campbell ground station 1st reference sample frequency response\")\n",
    "plt.show()\n",
    "\n",
    "pxx, freqs, bins, im = plt.specgram(domCplx[: nS_each - gate], NFFT=16*1024, Fs=sampleRate, noverlap=0, mode=\"phase\")\n",
    "plt.ylim([-np.pi,np.pi])\n",
    "plt.xlabel(\"Time [seconds]\")\n",
    "plt.ylabel(\"Phase angle [radians]\")\n",
    "plt.title(\"Cupertino ground station 1st reference sample frequency response\")\n",
    "plt.show()\n",
    "\n",
    "pxx, freqs, bins, im = plt.specgram(benCplx[-nS_each + gate :], NFFT=16*1024, Fs=sampleRate, noverlap=0, mode=\"phase\")\n",
    "plt.ylim([-np.pi,np.pi])\n",
    "plt.xlabel(\"Time [seconds]\")\n",
    "plt.ylabel(\"Phase angle [radians]\")\n",
    "plt.title(\"Campbell ground station 2nd reference sample frequency response\")\n",
    "plt.show()\n",
    "\n",
    "pxx, freqs, bins, im = plt.specgram(domCplx[-nS_each + gate :], NFFT=16*1024, Fs=sampleRate, noverlap=0, mode=\"phase\")\n",
    "plt.ylim([-np.pi,np.pi])\n",
    "plt.xlabel(\"Time [seconds]\")\n",
    "plt.ylabel(\"Phase angle [radians]\")\n",
    "plt.title(\"Cupertino ground station 2nd reference sample frequency response\")\n",
    "plt.show()"
   ]
  },
  {
   "cell_type": "code",
   "execution_count": null,
   "metadata": {},
   "outputs": [],
   "source": [
    "nyq = .5 * sampleRate\n",
    "bandPass = [98300000 / nyq, 98800000 / nyq]\n",
    "sos = signal.butter(10, bandPass, btype=\"bandpass\", fs=sampleRate, output=\"sos\")\n",
    "benCplx_filtered = signal.sosfilt(sos, benCplx)\n",
    "\n",
    "start = int(2e6)\n",
    "stop = start + 500\n",
    "\n",
    "plt.plot(t[start:stop], benCplx[start:stop])\n",
    "plt.xlabel(\"Time [seconds]\")\n",
    "plt.ylabel(\"Signal [units tbd]\")\n",
    "plt.title(\"Original Complex Signals (real parts only)\")\n",
    "plt.show()\n",
    "\n",
    "plt.plot(t[start:stop], benCplx_filtered[start:stop])\n",
    "plt.xlabel(\"Time [seconds]\")\n",
    "plt.ylabel(\"Signal [units tbd]\")\n",
    "plt.title(\"Filtered Complex Signals (real parts only)\")\n",
    "plt.show()\n",
    "\n",
    "pxx, freqs, bins, im = plt.specgram(benCplx[gate : nS_each - gate], NFFT=16*1024, Fs=sampleRate, noverlap=0, scale=\"dB\")\n",
    "plt.ylim([-250000,250000])\n",
    "plt.xlabel(\"Time [seconds]\")\n",
    "plt.ylabel(\"Frequency (deviation from 98.5 MHz) [Hz]\")\n",
    "plt.title(\"Campbell ground station 1st reference sample frequency response\")\n",
    "plt.show()\n",
    "\n",
    "pxx, freqs, bins, im = plt.specgram(benCplx_filtered[gate : nS_each - gate], NFFT=16*1024, Fs=sampleRate, noverlap=0, scale=\"dB\")\n",
    "plt.ylim([-250000,250000])\n",
    "plt.xlabel(\"Time [seconds]\")\n",
    "plt.ylabel(\"Frequency (deviation from 98.5 MHz) [Hz]\")\n",
    "plt.title(\"Campbell ground station 1st reference sample frequency response\")\n",
    "plt.show()"
   ]
  },
  {
   "cell_type": "code",
   "execution_count": null,
   "metadata": {},
   "outputs": [],
   "source": [
    "sampleRate/2"
   ]
  },
  {
   "cell_type": "code",
   "execution_count": null,
   "metadata": {},
   "outputs": [],
   "source": []
  }
 ],
 "metadata": {
  "kernelspec": {
   "display_name": "venv",
   "language": "python",
   "name": "venv"
  },
  "language_info": {
   "codemirror_mode": {
    "name": "ipython",
    "version": 3
   },
   "file_extension": ".py",
   "mimetype": "text/x-python",
   "name": "python",
   "nbconvert_exporter": "python",
   "pygments_lexer": "ipython3",
   "version": "3.8.6"
  }
 },
 "nbformat": 4,
 "nbformat_minor": 2
}
