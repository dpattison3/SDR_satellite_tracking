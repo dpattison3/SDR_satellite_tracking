{
 "cells": [
  {
   "cell_type": "code",
   "execution_count": null,
   "metadata": {},
   "outputs": [],
   "source": [
    "# import statements\n",
    "import numpy as np\n",
    "import matplotlib.pyplot as plt\n",
    "import scipy.signal as signal\n",
    "\n",
    "# loosely following this blog post: http://www.panoradio-sdr.de/correlation-for-time-delay-analysis/"
   ]
  },
  {
   "cell_type": "code",
   "execution_count": null,
   "metadata": {},
   "outputs": [],
   "source": [
    "# import the binary file\n",
    "rawData_benGS = np.fromfile(\n",
    "    \"/Users/benjaminpattison/Documents/Projects/satNav/SDR_satellite_tracking/data/test5_benGS.dat\",\n",
    "    dtype=\"uint8\",\n",
    ")\n",
    "rawData_domGS = np.fromfile(\n",
    "    \"/Users/benjaminpattison/Documents/Projects/satNav/SDR_satellite_tracking/data/test5_domGS.dat\",\n",
    "    dtype=\"uint8\",\n",
    ")\n",
    "\n",
    "# subtract 255/2 to go from unsigned to signed values\n",
    "benData = rawData_benGS - 127.5\n",
    "domData = rawData_domGS - 127.5\n",
    "\n",
    "# split the data into its real and imaginary parts\n",
    "benRealParts = benData[0::2]\n",
    "benImagParts = benData[1::2]\n",
    "domRealParts = domData[0::2]\n",
    "domImagParts = domData[1::2]\n",
    "\n",
    "# create a variable that has the real and imaginary parts together\n",
    "benCplx = benRealParts + 1j * benImagParts\n",
    "domCplx = domRealParts + 1j * domImagParts\n"
   ]
  },
  {
   "cell_type": "code",
   "execution_count": null,
   "metadata": {},
   "outputs": [],
   "source": [
    "# number of samples for each frequency\n",
    "ben_nS = np.size(benCplx, 0)\n",
    "dom_nS = np.size(domCplx, 0)\n",
    "if ben_nS != dom_nS:\n",
    "    print(\"You don't have the same number of samples from each ground station\")\n",
    "    exit()\n",
    "else:\n",
    "    nS_total = dom_nS\n",
    "    nS_each = int(nS_total / 3)\n"
   ]
  },
  {
   "cell_type": "code",
   "execution_count": null,
   "metadata": {},
   "outputs": [],
   "source": [
    "\"\"\"\n",
    "Transmitter location according to wikipedia\n",
    "https://geohack.toolforge.org/geohack.php?pagename=KUFX&params=37.205_N_121.950_W_type:landmark_region:US-CA_source:FCC\n",
    "repeaters here\n",
    "    37.151583    -121.609917 (SE of SJ)\n",
    "    37.659389    -121.933028 (NE of Fremont)\n",
    "\"\"\"\n",
    "# correlation of the two signals for just the first reference sample. this method uses the standard complex correlation talked about here:\n",
    "# http://www.panoradio-sdr.de/correlation-for-time-delay-analysis/\n",
    "sampleRate = 2e6\n",
    "xCorr = signal.correlate(benCplx[:nS_each], domCplx[:nS_each])\n",
    "lags = signal.correlation_lags(len(benCplx[:nS_each]), len(domCplx[:nS_each]))\n"
   ]
  },
  {
   "cell_type": "code",
   "execution_count": null,
   "metadata": {},
   "outputs": [],
   "source": [
    "# plot the correlation.\n",
    "xVals = np.linspace(0, np.size(xCorr), np.size(xCorr))\n",
    "plt.plot(np.abs(xCorr))\n",
    "plt.show()\n",
    "plt.plot(lags, np.abs(xCorr))\n",
    "plt.show()\n"
   ]
  }
 ],
 "metadata": {
  "kernelspec": {
   "display_name": "Python 3",
   "language": "python",
   "name": "python3"
  },
  "language_info": {
   "codemirror_mode": {
    "name": "ipython",
    "version": 3
   },
   "file_extension": ".py",
   "mimetype": "text/x-python",
   "name": "python",
   "nbconvert_exporter": "python",
   "pygments_lexer": "ipython3",
   "version": "3.8.6"
  }
 },
 "nbformat": 4,
 "nbformat_minor": 2
}
