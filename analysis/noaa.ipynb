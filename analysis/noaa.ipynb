{
 "cells": [
  {
   "cell_type": "code",
   "execution_count": null,
   "metadata": {},
   "outputs": [],
   "source": [
    "import sys\n",
    "sys.path.append(\"..\")"
   ]
  },
  {
   "cell_type": "code",
   "execution_count": null,
   "metadata": {},
   "outputs": [],
   "source": [
    "import numpy as np\n",
    "import matplotlib.pyplot as plt\n",
    "import plotly.graph_objects as go\n",
    "import scipy.io.wavfile as wavfile\n",
    "from scipy.signal import resample, correlate, hilbert\n",
    "from PIL import Image\n",
    "\n",
    "\n",
    "from util.plotting import compute_fft_plot_from_sample_rate\n",
    "from util.data_io import read_rtl_raw_data, read_gqrx_raw_data\n",
    "from util.filtering import low_pass_filter_complex_signal, low_pass_filter_real_signal\n",
    "from util.demodulation import chunked_demodulate_signal\n",
    "from util.phase_locked_loop import phase_locked_loop"
   ]
  },
  {
   "cell_type": "code",
   "execution_count": null,
   "metadata": {},
   "outputs": [],
   "source": [
    "fs, signal = wavfile.read(\"/Users/benjaminpattison/Documents/SDRconnect_IQ_20240101_104718_137912500HZ.wav\")\n",
    "signal = signal[:,0] + 1j * signal[:,1]\n",
    "\n",
    "fc = 137.1E6\n",
    "len(signal) / fs"
   ]
  },
  {
   "cell_type": "code",
   "execution_count": null,
   "metadata": {},
   "outputs": [],
   "source": [
    "start_index = 588994224 // 2\n",
    "end_index = start_index + fs\n",
    "cropped_signal = signal[start_index:end_index]\n",
    "\n",
    "f,m = compute_fft_plot_from_sample_rate(cropped_signal, sampling_rate=fs)"
   ]
  },
  {
   "cell_type": "code",
   "execution_count": null,
   "metadata": {},
   "outputs": [],
   "source": [
    "cropped_signal.shape, f.shape, m.shape"
   ]
  },
  {
   "cell_type": "code",
   "execution_count": null,
   "metadata": {},
   "outputs": [],
   "source": [
    "fig = go.Figure()\n",
    "fig.add_scattergl(x=f[::100],y=m[::100])\n",
    "fig.show()"
   ]
  },
  {
   "cell_type": "code",
   "execution_count": null,
   "metadata": {},
   "outputs": [],
   "source": [
    "audio, audio_fs = chunked_demodulate_signal(signal, fs, chunk_size=10, base_band_filter_cutoff=15E3,\n",
    "                              base_band_downsample_rate=10, audio_filter_cutoff=15000,\n",
    "                              audio_downsample_rate=5,\n",
    "                              apply_output_filter=True)\n",
    "\n",
    "\n",
    "# Alternative way of demodulating the FM signal using a PLL. This might be better able to compensate\n",
    "# for doppler. However, it doesn't sound much better and it's way slower.\n",
    "\n",
    "# filtered_signal = low_pass_filter_complex_signal(signal, sample_rate=fs, cutoff_frequency=40E3)\n",
    "# _,_,frequencies = phase_locked_loop(filtered_signal, sampling_rate=fs, initial_frequency_estimate=0, frequency_bandwidth=40E3)\n",
    "\n",
    "# filtered_frequencies = low_pass_filter_real_signal(frequencies, sample_rate=fs, cutoff_frequency=15E3)\n",
    "\n",
    "# filtered_frequencies = filtered_frequencies[::50]\n",
    "# audio_fs = fs / 50\n"
   ]
  },
  {
   "cell_type": "code",
   "execution_count": null,
   "metadata": {},
   "outputs": [],
   "source": [
    "wavfile.write(\"/Users/benjaminpattison/Documents/Projects/satNav/SDR_satellite_tracking/data/2024_01_10_57_noaa18.wav\", int(audio_fs), audio)"
   ]
  },
  {
   "cell_type": "code",
   "execution_count": null,
   "metadata": {},
   "outputs": [],
   "source": [
    "# First, use a PLL to do synchronous AM demodulation.\n",
    "\n",
    "# Crop to just the part that has a \"good\" sounding signal.\n",
    "# 3:30-9:30\n",
    "audio = audio[int(audio_fs * 210):int(audio_fs * 570)]\n",
    "\n",
    "output, _, _ = phase_locked_loop(hilbert(audio), sampling_rate=audio_fs, initial_frequency_estimate=2.4E3, frequency_bandwidth=500)\n",
    "am_demod_signal = np.real(audio * np.conjugate(output))\n",
    "\n",
    "am_demod_signal = low_pass_filter_real_signal(am_demod_signal, sample_rate=audio_fs, cutoff_frequency=2080, order=50)\n",
    "\n",
    "total_time = len(am_demod_signal) / audio_fs\n",
    "total_pixels = np.floor(total_time * 4160).astype(int)\n",
    "total_rows = total_pixels // 2080\n",
    "\n",
    "\n",
    "resampled_signal = resample(am_demod_signal, total_pixels)\n",
    "resampled_signal = resampled_signal[:total_rows*2080]"
   ]
  },
  {
   "cell_type": "code",
   "execution_count": null,
   "metadata": {},
   "outputs": [],
   "source": [
    "\"\"\"\n",
    "source: https://www.sigidwiki.com/wiki/Automatic_Picture_Transmission_(APT)\n",
    "sync_a = 000011001100110011001100110011000000000\n",
    "space_a = [0] * 47\n",
    "\n",
    "sync_b = 000011100111001110011100111001110011100\n",
    "space_b = [0] * 47\n",
    "\"\"\"\n",
    "\n",
    "# Stored as raw pixels at 4160 pixels / line.\n",
    "sync_a_pixels = [-1, -1, -1, -1, 1, 1, -1, -1, 1, 1, -1, -1, 1, 1, -1, -1, 1, 1, -1, -1, 1, 1, -1, -1, 1, 1, -1, -1, 1, 1, -1, -1, -1, -1, -1, -1, -1, -1, -1]\n",
    "sync_b_pixels = [-1, -1, -1, -1, 1, 1, 1, -1, -1, 1, 1, 1, -1, -1, 1, 1, 1, -1, -1, 1, 1, 1, -1, -1, 1, 1, 1, -1, -1, 1, 1, 1, -1, -1, 1, 1, 1, -1, -1]\n",
    "\n",
    "space_a = [-1] * 47\n",
    "space_b = [1] * 47\n",
    "\n",
    "\n",
    "sync_a_pixels = np.array(sync_a_pixels + space_a)\n",
    "sync_b_pixels = np.array(sync_b_pixels + space_b)"
   ]
  },
  {
   "cell_type": "code",
   "execution_count": null,
   "metadata": {},
   "outputs": [],
   "source": [
    "# Crop the signal to start at the first A frame.\n",
    "start_time = 0\n",
    "end_time = 3.0\n",
    "start = int(4160 * start_time)\n",
    "end = int(4160 * end_time)\n",
    "crop = resampled_signal[start:end]\n",
    "crop -= np.mean(crop)\n",
    "crop /= np.max(np.abs(crop))\n",
    "\n",
    "\n",
    "correlate_a = correlate(crop, sync_a_pixels)\n",
    "\n",
    "start = np.argmax(correlate_a) - len(sync_a_pixels) + 1\n",
    "\n",
    "num_rows = (len(resampled_signal) - start) // 2080\n",
    "total_pixels = num_rows * 2080\n",
    "\n",
    "cropped_signal = resampled_signal[start:start+total_pixels]\n",
    "\n",
    "\n",
    "num_rows"
   ]
  },
  {
   "cell_type": "code",
   "execution_count": null,
   "metadata": {},
   "outputs": [],
   "source": [
    "def get_row(signal, row_index):\n",
    "    start_index = row_index * 2080\n",
    "    end_index = start_index + 2080\n",
    "    row_data = signal[start_index:end_index]\n",
    "\n",
    "    low_value = np.percentile(row_data, 1)\n",
    "    high_value = np.percentile(row_data, 99)\n",
    "\n",
    "    normalized_row_data = (row_data - low_value) / (high_value - low_value)\n",
    "    normalized_row_data = np.clip(normalized_row_data * 255, 0, 255).astype(np.uint8)\n",
    "    return normalized_row_data.reshape([1, 2080])\n",
    "\n",
    "\n",
    "rows = []\n",
    "\n",
    "for i in range(num_rows):\n",
    "    rows.append(get_row(cropped_signal, i))\n",
    "\n",
    "image = np.concatenate(rows, axis=0)\n",
    "plt.imsave(\"/Users/benjaminpattison/Documents/Projects/satNav/SDR_satellite_tracking/data/2024_01_10_57_noaa18.png\", image, cmap='gray')\n"
   ]
  },
  {
   "cell_type": "code",
   "execution_count": null,
   "metadata": {},
   "outputs": [],
   "source": [
    "plt.figure(figsize=(8,3))\n",
    "plt.imshow(image, cmap='gray')"
   ]
  },
  {
   "cell_type": "code",
   "execution_count": null,
   "metadata": {},
   "outputs": [],
   "source": [
    "goes = plt.imread(\"/Users/benjaminpattison/Downloads/20240011900_GOES18-ABI-FD-GEOCOLOR-10848x10848.jpg\")\n",
    "goes_cropped = goes[500:3000,5500:8000]\n",
    "plt.imshow(goes_cropped)"
   ]
  },
  {
   "cell_type": "code",
   "execution_count": null,
   "metadata": {},
   "outputs": [],
   "source": [
    "goes_cropped.shape"
   ]
  },
  {
   "cell_type": "code",
   "execution_count": null,
   "metadata": {},
   "outputs": [],
   "source": [
    "resized_image = np.array(Image.fromarray(image).resize(size=(5000, 2500)))\n",
    "resized_image = np.stack([resized_image]*3,axis=-1)\n",
    "\n",
    "composite = np.zeros((5000,5000,3), dtype=np.uint8)\n",
    "composite[:2500,:,:] = resized_image\n",
    "composite[2500:,1250:3750,:] = goes_cropped\n",
    "\n",
    "\n",
    "plt.imshow(composite)\n",
    "plt.imsave(\"/Users/benjaminpattison/Documents/Projects/satNav/SDR_satellite_tracking/data/2024_01_10_57_noaa18_goes_composite.png\", composite)\n"
   ]
  },
  {
   "cell_type": "code",
   "execution_count": null,
   "metadata": {},
   "outputs": [],
   "source": []
  },
  {
   "cell_type": "code",
   "execution_count": null,
   "metadata": {},
   "outputs": [],
   "source": []
  },
  {
   "cell_type": "code",
   "execution_count": null,
   "metadata": {},
   "outputs": [],
   "source": []
  },
  {
   "cell_type": "code",
   "execution_count": null,
   "metadata": {},
   "outputs": [],
   "source": []
  },
  {
   "cell_type": "code",
   "execution_count": null,
   "metadata": {},
   "outputs": [],
   "source": []
  },
  {
   "cell_type": "code",
   "execution_count": null,
   "metadata": {},
   "outputs": [],
   "source": [
    "# another reference signal\n",
    "input_file_path = \"data/NOAA1520190811-075637-40000_reference_fm_demod_alt.wav\"\n",
    "fs, signal = wavfile.read(input_file_path)\n",
    "\n",
    "signal_cropped = signal[int(fs*1.5*60):int(fs*13.5*60)]\n",
    "\n",
    "output, _, _ = phase_locked_loop(hilbert(signal_cropped), sampling_rate=fs, initial_frequency_estimate=2.4E3, frequency_bandwidth=500)\n",
    "am_demod_signal = np.real(signal_cropped * np.conjugate(output))\n",
    "\n",
    "am_demod_signal = low_pass_filter_real_signal(am_demod_signal, sample_rate=fs, cutoff_frequency=2080, order=50)\n",
    "\n",
    "total_time = len(am_demod_signal) / fs\n",
    "total_pixels = np.floor(total_time * 4160).astype(int)\n",
    "total_rows = total_pixels // 2080\n",
    "\n",
    "\n",
    "resampled_signal = resample(am_demod_signal, total_pixels)\n",
    "resampled_signal = resampled_signal[:total_rows*2080]"
   ]
  },
  {
   "cell_type": "code",
   "execution_count": null,
   "metadata": {},
   "outputs": [],
   "source": [
    "f,m = compute_fft_plot_from_sample_rate(output, sampling_rate=fs)\n",
    "plt.plot(f,m)"
   ]
  },
  {
   "cell_type": "code",
   "execution_count": null,
   "metadata": {},
   "outputs": [],
   "source": [
    "\"\"\"\n",
    "source: https://www.sigidwiki.com/wiki/Automatic_Picture_Transmission_(APT)\n",
    "sync_a = 000011001100110011001100110011000000000\n",
    "space_a = [0] * 47\n",
    "\n",
    "sync_b = 000011100111001110011100111001110011100\n",
    "space_b = [0] * 47\n",
    "\"\"\"\n",
    "\n",
    "# Stored as raw pixels at 4160 pixels / line.\n",
    "sync_a_pixels = [-1, -1, -1, -1, 1, 1, -1, -1, 1, 1, -1, -1, 1, 1, -1, -1, 1, 1, -1, -1, 1, 1, -1, -1, 1, 1, -1, -1, 1, 1, -1, -1, -1, -1, -1, -1, -1, -1, -1]\n",
    "sync_b_pixels = [-1, -1, -1, -1, 1, 1, 1, -1, -1, 1, 1, 1, -1, -1, 1, 1, 1, -1, -1, 1, 1, 1, -1, -1, 1, 1, 1, -1, -1, 1, 1, 1, -1, -1, 1, 1, 1, -1, -1]\n",
    "\n",
    "space_a = [-1] * 47\n",
    "space_b = [1] * 47\n",
    "\n",
    "\n",
    "sync_a_pixels = np.array(sync_a_pixels + space_a)\n",
    "sync_b_pixels = np.array(sync_b_pixels + space_b)"
   ]
  },
  {
   "cell_type": "code",
   "execution_count": null,
   "metadata": {},
   "outputs": [],
   "source": [
    "len(sync_a_pixels), len(space_a)"
   ]
  },
  {
   "cell_type": "code",
   "execution_count": null,
   "metadata": {},
   "outputs": [],
   "source": [
    "# Crop the signal to start at the first A frame.\n",
    "start_time = 0\n",
    "end_time = 3.0\n",
    "start = int(4160 * start_time)\n",
    "end = int(4160 * end_time)\n",
    "crop = resampled_signal[start:end]\n",
    "crop -= np.mean(crop)\n",
    "crop /= np.max(np.abs(crop))\n",
    "\n",
    "\n",
    "correlate_a = correlate(crop, sync_a_pixels)\n",
    "\n",
    "start = np.argmax(correlate_a) - len(sync_a_pixels) + 1\n",
    "\n",
    "num_rows = (len(resampled_signal) - start) // 2080\n",
    "total_pixels = num_rows * 2080\n",
    "\n",
    "cropped_signal = resampled_signal[start:start+total_pixels]\n",
    "\n",
    "\n",
    "num_rows"
   ]
  },
  {
   "cell_type": "code",
   "execution_count": null,
   "metadata": {},
   "outputs": [],
   "source": [
    "def get_row(signal, row_index):\n",
    "    start_index = row_index * 2080\n",
    "    end_index = start_index + 2080\n",
    "    row_data = signal[start_index:end_index]\n",
    "\n",
    "    low_value = np.percentile(row_data, 1)\n",
    "    high_value = np.percentile(row_data, 99)\n",
    "\n",
    "    normalized_row_data = (row_data - low_value) / (high_value - low_value)\n",
    "    normalized_row_data = np.clip(normalized_row_data * 255, 0, 255).astype(np.uint8)\n",
    "    return normalized_row_data.reshape([1, 2080])\n",
    "\n",
    "\n",
    "rows = []\n",
    "\n",
    "for i in range(num_rows):\n",
    "    rows.append(get_row(cropped_signal, i))\n",
    "\n",
    "image = np.concatenate(rows, axis=0)\n",
    "plt.imsave(\"data/test_ref.png\", image, cmap='gray')\n"
   ]
  },
  {
   "cell_type": "code",
   "execution_count": null,
   "metadata": {},
   "outputs": [],
   "source": []
  },
  {
   "cell_type": "code",
   "execution_count": null,
   "metadata": {},
   "outputs": [],
   "source": []
  },
  {
   "cell_type": "code",
   "execution_count": null,
   "metadata": {},
   "outputs": [],
   "source": []
  },
  {
   "cell_type": "code",
   "execution_count": null,
   "metadata": {},
   "outputs": [],
   "source": [
    "start = np.argmax(correlate_a) - len(sync_a_pixels) + 1\n",
    "end = start + len(sync_a_pixels)\n",
    "correlation_signal = np.zeros_like(correlate_a)\n",
    "correlation_signal[start:end] = sync_a_pixels"
   ]
  },
  {
   "cell_type": "code",
   "execution_count": null,
   "metadata": {},
   "outputs": [],
   "source": [
    "time_vector = np.linspace(start_time, end_time, len(crop))\n",
    "\n",
    "fig = go.Figure()\n",
    "fig.add_scatter(x=time_vector, y=crop, name=\"signal\")\n",
    "fig.add_scatter(x=time_vector, y=correlate_a/np.max(correlate_a), name=\"correlation\")\n",
    "fig.add_scatter(x=time_vector, y=correlation_signal, name=\"reference\")\n",
    "\n",
    "\n",
    "fig.show()"
   ]
  },
  {
   "cell_type": "code",
   "execution_count": null,
   "metadata": {},
   "outputs": [],
   "source": []
  },
  {
   "cell_type": "code",
   "execution_count": null,
   "metadata": {},
   "outputs": [],
   "source": []
  },
  {
   "cell_type": "code",
   "execution_count": null,
   "metadata": {},
   "outputs": [],
   "source": []
  },
  {
   "cell_type": "code",
   "execution_count": null,
   "metadata": {},
   "outputs": [],
   "source": []
  },
  {
   "cell_type": "code",
   "execution_count": null,
   "metadata": {},
   "outputs": [],
   "source": []
  },
  {
   "cell_type": "code",
   "execution_count": null,
   "metadata": {},
   "outputs": [],
   "source": []
  },
  {
   "cell_type": "code",
   "execution_count": null,
   "metadata": {},
   "outputs": [],
   "source": []
  },
  {
   "cell_type": "code",
   "execution_count": null,
   "metadata": {},
   "outputs": [],
   "source": [
    "import os\n",
    "import imageio\n",
    "import tqdm"
   ]
  },
  {
   "cell_type": "code",
   "execution_count": null,
   "metadata": {},
   "outputs": [],
   "source": [
    "crop_time = 0.5\n",
    "num_crops = int(len(signal_cropped) / fs / crop_time)\n",
    "fig = plt.figure(figsize=(10,5))\n",
    "output_dir = \"data/figs/\"\n",
    "\n",
    "for i in tqdm.tqdm(range(num_crops)):\n",
    "    start = int(i * fs * crop_time)\n",
    "    end = int((i+1) * fs * crop_time)\n",
    "    crop = signal_cropped[start:end]\n",
    "\n",
    "    frequency_estimate = np.mean(frequencies[start:end]) * fs / (2*np.pi)\n",
    "\n",
    "    f,m = compute_fft_plot_from_sample_rate(crop, sampling_rate=fs)\n",
    "\n",
    "    plt.xlim((0, 5000))\n",
    "    plt.ylim((0, 5000))\n",
    "    plt.plot([frequency_estimate, frequency_estimate], [0, 5000])\n",
    "    plt.plot(f,m)\n",
    "    fig.savefig(os.path.join(output_dir, f\"test{i}.png\"))\n",
    "    plt.clf()\n",
    "\n",
    "plt.close()"
   ]
  },
  {
   "cell_type": "code",
   "execution_count": null,
   "metadata": {},
   "outputs": [],
   "source": [
    "figs =[]\n",
    "fig_file_names = os.listdir(output_dir)\n",
    "\n",
    "for file_name in tqdm.tqdm(fig_file_names):\n",
    "    image = plt.imread(os.path.join(output_dir, file_name))\n",
    "    figs.append((image * 255).astype(np.uint8))\n",
    "\n",
    "imageio.mimwrite(os.path.join(output_dir, \"output.gif\"), figs, fps=30)"
   ]
  },
  {
   "cell_type": "code",
   "execution_count": null,
   "metadata": {},
   "outputs": [],
   "source": [
    "len(figs) / 30"
   ]
  },
  {
   "cell_type": "code",
   "execution_count": null,
   "metadata": {},
   "outputs": [],
   "source": [
    "fig_file_names = os.listdir(output_dir)\n",
    "\n",
    "for file_name in fig_file_names:\n",
    "    figs.append(plt.imread(os.path.join(output_dir, file_name)))\n",
    "    os.remove(os.path.join(output_dir, file_name))"
   ]
  },
  {
   "cell_type": "code",
   "execution_count": null,
   "metadata": {},
   "outputs": [],
   "source": []
  },
  {
   "cell_type": "code",
   "execution_count": null,
   "metadata": {},
   "outputs": [],
   "source": []
  },
  {
   "cell_type": "code",
   "execution_count": null,
   "metadata": {},
   "outputs": [],
   "source": []
  },
  {
   "cell_type": "code",
   "execution_count": null,
   "metadata": {},
   "outputs": [],
   "source": [
    "# MINE!\n",
    "input_file_path = \"data/gqrx_20220101_024640_137100000_2080000_fc.raw\"\n",
    "signal = read_gqrx_raw_data(input_file_path)\n",
    "fs = 2080000\n",
    "len(signal) / fs\n",
    "\n",
    "audio, audio_fs = chunked_demodulate_signal(signal, fs, chunk_size=30, base_band_filter_cutoff=40E3,\n",
    "                              base_band_downsample_rate=10, audio_filter_cutoff=15000,\n",
    "                              audio_downsample_rate=5,\n",
    "                              apply_output_filter=True)\n",
    "\n",
    "wavfile.write(\"data/newest.wav\", int(audio_fs), audio)"
   ]
  },
  {
   "cell_type": "code",
   "execution_count": null,
   "metadata": {},
   "outputs": [],
   "source": [
    "audio_fs"
   ]
  },
  {
   "cell_type": "code",
   "execution_count": null,
   "metadata": {},
   "outputs": [],
   "source": [
    "# another reference signal\n",
    "\n",
    "signal_cropped = audio[int(audio_fs*1*60):int(audio_fs*8.5*60)]\n",
    "\n",
    "output, _, _ = phase_locked_loop(hilbert(signal_cropped), sampling_rate=audio_fs, initial_frequency_estimate=2.4E3, frequency_bandwidth=500)\n",
    "am_demod_signal = np.real(signal_cropped * np.conjugate(output))\n",
    "\n",
    "am_demod_signal = low_pass_filter_real_signal(am_demod_signal, sample_rate=audio_fs, cutoff_frequency=2080, order=50)\n",
    "\n",
    "total_time = len(am_demod_signal) / audio_fs\n",
    "total_pixels = np.floor(total_time * 4160).astype(int)\n",
    "total_rows = total_pixels // 2080\n",
    "\n",
    "\n",
    "resampled_signal = resample(am_demod_signal, total_pixels)\n",
    "resampled_signal = resampled_signal[:total_rows*2080]"
   ]
  },
  {
   "cell_type": "code",
   "execution_count": null,
   "metadata": {},
   "outputs": [],
   "source": [
    "# Crop the signal to start at the first A frame.\n",
    "start_time = 0\n",
    "end_time = 3.0\n",
    "start = int(4160 * start_time)\n",
    "end = int(4160 * end_time)\n",
    "crop = resampled_signal[start:end]\n",
    "crop -= np.mean(crop)\n",
    "crop /= np.max(np.abs(crop))\n",
    "\n",
    "\n",
    "correlate_a = correlate(crop, sync_a_pixels)\n",
    "\n",
    "start = np.argmax(correlate_a) - len(sync_a_pixels) + 1\n",
    "\n",
    "num_rows = (len(resampled_signal) - start) // 2080\n",
    "total_pixels = num_rows * 2080\n",
    "\n",
    "cropped_signal = resampled_signal[start:start+total_pixels]\n",
    "\n",
    "\n",
    "num_rows\n",
    "\n",
    "\n",
    "def get_row(signal, row_index):\n",
    "    start_index = row_index * 2080\n",
    "    end_index = start_index + 2080\n",
    "    row_data = signal[start_index:end_index]\n",
    "\n",
    "    low_value = np.percentile(row_data, 1)\n",
    "    high_value = np.percentile(row_data, 99)\n",
    "\n",
    "    normalized_row_data = (row_data - low_value) / (high_value - low_value)\n",
    "    normalized_row_data = np.clip(normalized_row_data * 255, 0, 255).astype(np.uint8)\n",
    "    return normalized_row_data.reshape([1, 2080])\n",
    "\n",
    "\n",
    "rows = []\n",
    "\n",
    "for i in range(num_rows):\n",
    "    rows.append(get_row(cropped_signal, i))\n",
    "\n",
    "image = np.concatenate(rows, axis=0)\n",
    "plt.imsave(\"data/mine_test.png\", image, cmap='gray')"
   ]
  },
  {
   "cell_type": "code",
   "execution_count": null,
   "metadata": {},
   "outputs": [],
   "source": []
  },
  {
   "cell_type": "code",
   "execution_count": null,
   "metadata": {},
   "outputs": [],
   "source": [
    "973871319 / 2080000 / 2"
   ]
  },
  {
   "cell_type": "code",
   "execution_count": null,
   "metadata": {},
   "outputs": [],
   "source": [
    "# With Ben's antenna!\n",
    "input_file_path = \"data/gqrx_20220109_025620_136741000_2080000_fc.raw\"\n",
    "signal = read_gqrx_raw_data(input_file_path)\n",
    "fs = 2080000\n",
    "len(signal) / fs\n",
    "\n",
    "half_index = int(len(signal)/2)\n",
    "signal = signal[:half_index]"
   ]
  },
  {
   "cell_type": "code",
   "execution_count": null,
   "metadata": {},
   "outputs": [],
   "source": [
    "len(signal) / fs"
   ]
  },
  {
   "cell_type": "code",
   "execution_count": null,
   "metadata": {},
   "outputs": [],
   "source": [
    "signal_length = len(signal)\n",
    "start_index = 0\n",
    "chunk_size = 30\n",
    "chunk_sample_size = int(fs * chunk_size)\n",
    "end_index = chunk_sample_size\n",
    "\n",
    "shifted_signal = []\n",
    "\n",
    "\n",
    "while end_index < signal_length:\n",
    "    # Bring the end index back in case it has gone over.\n",
    "    end_index = min(end_index, signal_length - 1)\n",
    "\n",
    "    signal_crop = signal[start_index:end_index]\n",
    "\n",
    "    offset_frequency = 363.1792E3\n",
    "    time_vector = np.linspace(0, 30, len(signal_crop))\n",
    "    offset_signal = np.exp(2j * np.pi * offset_frequency * time_vector)\n",
    "\n",
    "    shifted_signal.append( signal_crop * offset_signal )\n",
    "\n",
    "\n"
   ]
  },
  {
   "cell_type": "code",
   "execution_count": null,
   "metadata": {},
   "outputs": [],
   "source": [
    "shifted_signal = np.concatenate(shifted_signal)\n",
    "len(shifted_signal)"
   ]
  },
  {
   "cell_type": "code",
   "execution_count": null,
   "metadata": {},
   "outputs": [],
   "source": []
  },
  {
   "cell_type": "code",
   "execution_count": null,
   "metadata": {},
   "outputs": [],
   "source": []
  },
  {
   "cell_type": "code",
   "execution_count": null,
   "metadata": {},
   "outputs": [],
   "source": []
  },
  {
   "cell_type": "markdown",
   "metadata": {},
   "source": []
  },
  {
   "cell_type": "code",
   "execution_count": null,
   "metadata": {},
   "outputs": [],
   "source": [
    "len(shifted_signal)"
   ]
  },
  {
   "cell_type": "code",
   "execution_count": null,
   "metadata": {},
   "outputs": [],
   "source": [
    "cropped_signal = shifted_signal[:int(fs*1)]\n",
    "f,m = compute_fft_plot_from_sample_rate(cropped_signal, sampling_rate=fs)\n",
    "\n",
    "fig = go.Figure()\n",
    "fig.add_scatter(x=f[::250],y=m[::250])\n",
    "fig.show()"
   ]
  },
  {
   "cell_type": "code",
   "execution_count": null,
   "metadata": {},
   "outputs": [],
   "source": [
    "offset_frequency = 363.1792E3\n",
    "cropped_signal = signal[:int(fs*30)]\n",
    "\n",
    "\n",
    "output, _, frequencies = phase_locked_loop(\n",
    "    cropped_signal, sampling_rate=fs, initial_frequency_estimate=offset_frequency,\n",
    "    frequency_bandwidth=40E3\n",
    ")\n",
    "\n",
    "\n",
    "frequencies_filtered = low_pass_filter_real_signal(frequencies, sample_rate=fs, cutoff_frequency=3000, order=50)\n",
    "frequencies_filtered = frequencies_filtered[::10]\n",
    "filtered_fs = fs / 10"
   ]
  },
  {
   "cell_type": "code",
   "execution_count": null,
   "metadata": {},
   "outputs": [],
   "source": [
    "f,m = compute_fft_plot_from_sample_rate(frequencies_filtered, sampling_rate=filtered_fs)\n",
    "\n",
    "fig = go.Figure()\n",
    "fig.add_scatter(x=f[::250],y=m[::250])\n",
    "fig.show()"
   ]
  },
  {
   "cell_type": "code",
   "execution_count": null,
   "metadata": {},
   "outputs": [],
   "source": [
    "wavfile.write(\"data/newest.wav\", int(filtered_fs), frequencies_filtered)"
   ]
  },
  {
   "cell_type": "code",
   "execution_count": null,
   "metadata": {},
   "outputs": [],
   "source": []
  },
  {
   "cell_type": "code",
   "execution_count": null,
   "metadata": {},
   "outputs": [],
   "source": []
  },
  {
   "cell_type": "code",
   "execution_count": null,
   "metadata": {},
   "outputs": [],
   "source": []
  },
  {
   "cell_type": "code",
   "execution_count": null,
   "metadata": {},
   "outputs": [],
   "source": [
    "audio, audio_fs = chunked_demodulate_signal(signal, fs, chunk_size=30, base_band_filter_cutoff=40E3,\n",
    "                              base_band_downsample_rate=10, audio_filter_cutoff=15000,\n",
    "                              audio_downsample_rate=5,\n",
    "                              apply_output_filter=True)\n",
    "\n",
    "wavfile.write(\"data/newest.wav\", int(audio_fs), audio)"
   ]
  }
 ],
 "metadata": {
  "kernelspec": {
   "display_name": "Python 3",
   "language": "python",
   "name": "python3"
  },
  "language_info": {
   "codemirror_mode": {
    "name": "ipython",
    "version": 3
   },
   "file_extension": ".py",
   "mimetype": "text/x-python",
   "name": "python",
   "nbconvert_exporter": "python",
   "pygments_lexer": "ipython3",
   "version": "3.10.8"
  },
  "orig_nbformat": 4
 },
 "nbformat": 4,
 "nbformat_minor": 2
}
