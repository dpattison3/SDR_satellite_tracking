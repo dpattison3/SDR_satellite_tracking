{
 "cells": [
  {
   "cell_type": "code",
   "execution_count": null,
   "id": "patient-holder",
   "metadata": {},
   "outputs": [],
   "source": [
    "from plotly.offline import iplot, init_notebook_mode\n",
    "from plotly.subplots import make_subplots\n",
    "init_notebook_mode()\n",
    "import plotly.graph_objs as go\n",
    "\n",
    "\n",
    "import numpy as np"
   ]
  },
  {
   "cell_type": "code",
   "execution_count": null,
   "id": "distributed-victim",
   "metadata": {},
   "outputs": [],
   "source": [
    "time = np.linspace(0, 2*np.pi, 20)"
   ]
  },
  {
   "cell_type": "code",
   "execution_count": null,
   "id": "metric-knowing",
   "metadata": {},
   "outputs": [],
   "source": [
    "RADIUS = 10\n",
    "x_pos = RADIUS * np.cos(time)\n",
    "y_pos = RADIUS * np.sin(time)"
   ]
  },
  {
   "cell_type": "code",
   "execution_count": null,
   "id": "mental-moment",
   "metadata": {},
   "outputs": [],
   "source": [
    "ground_station0 = (5,0)\n",
    "ground_station1 = (-5,0)"
   ]
  },
  {
   "cell_type": "code",
   "execution_count": null,
   "id": "increasing-somalia",
   "metadata": {},
   "outputs": [],
   "source": [
    "traces = list()\n",
    "traces.append(go.Scatter(\n",
    "    x=x_pos,\n",
    "    y=y_pos,\n",
    "    name='trajectory',\n",
    "    mode='markers',\n",
    "    marker={'color' : 'rgb(0, 0, 0)', 'size' : 5}\n",
    "))\n",
    "\n",
    "traces.append(go.Scatter(\n",
    "    x=np.array(ground_station0[:1]),\n",
    "    y=np.array(ground_station0[1:]),\n",
    "    name='ground station 0',\n",
    "    mode='markers',\n",
    "    marker={'color' : 'rgb(255, 0, 0)', 'size' : 20},\n",
    "    marker_symbol='x',\n",
    "))\n",
    "\n",
    "traces.append(go.Scatter(\n",
    "    x=np.array(ground_station1[:1]),\n",
    "    y=np.array(ground_station1[1:]),\n",
    "    name='ground station 1',\n",
    "    mode='markers',\n",
    "    marker={'color' : 'rgb(255, 0, 0)', 'size' : 20},\n",
    "    marker_symbol='x',\n",
    "))"
   ]
  },
  {
   "cell_type": "code",
   "execution_count": null,
   "id": "norman-rolling",
   "metadata": {},
   "outputs": [],
   "source": [
    "# x^2/a^2 - y^2/b^2 = 1\n",
    "# x^2/a^2 - 1 = y^2/b^2\n",
    "# (x^2/a^2 - 1) * b^2 = y^2\n",
    "# y = +/- (x^2/a^2 - 1) * b^2\n",
    "\n",
    "def compute_hyperbolic_plot(a, b, trace_name):\n",
    "    x = np.linspace(-15, 15, 100)\n",
    "    y_p =  ( (x**2/a**2 - 1) * b**2 )**0.5\n",
    "    y_n = -( (x**2/a**2 - 1) * b**2 )**0.5\n",
    "    \n",
    "    traces = list()\n",
    "    traces.append(go.Scatter(\n",
    "        x=x,\n",
    "        y=y_p,\n",
    "        name=trace_name,\n",
    "        legendgroup=trace_name,\n",
    "        mode='lines',\n",
    "        marker={'color' : 'rgb(0, 0, 255)', 'size' : 3}\n",
    "    ))\n",
    "    \n",
    "    traces.append(go.Scatter(\n",
    "        x=x,\n",
    "        y=y_n,\n",
    "        name=trace_name,\n",
    "        legendgroup=trace_name,\n",
    "        mode='lines',\n",
    "        marker={'color' : 'rgb(0, 0, 255)', 'size' : 3}\n",
    "    ))\n",
    "    \n",
    "    return traces"
   ]
  },
  {
   "cell_type": "code",
   "execution_count": null,
   "id": "corresponding-training",
   "metadata": {},
   "outputs": [],
   "source": [
    "for i in range(len(x_pos)):\n",
    "    x = x_pos[i]\n",
    "    y = y_pos[i]\n",
    "    \n",
    "    d0 = ((ground_station0[0] - x)**2 + (ground_station0[1] - y)**2) ** 0.5\n",
    "    d1 = ((ground_station1[0] - x)**2 + (ground_station1[1] - y)**2) ** 0.5\n",
    "    \n",
    "    difference = d1 - d0\n",
    "    \n",
    "    a = 0.5 * difference\n",
    "    b = (ground_station0[0]**2 - 0.25*difference**2) ** 0.5\n",
    "    \n",
    "    traces.extend( compute_hyperbolic_plot(a, b, 'tdoa {}'.format(i)) )"
   ]
  },
  {
   "cell_type": "code",
   "execution_count": null,
   "id": "multiple-thickness",
   "metadata": {},
   "outputs": [],
   "source": [
    "iplot({\n",
    "    'data': traces,\n",
    "    'layout': go.Layout(yaxis=dict(range=[-13, 13]))\n",
    "#     'yaxis': dict(range=[-13, 13])\n",
    "})"
   ]
  },
  {
   "cell_type": "code",
   "execution_count": null,
   "id": "selective-algeria",
   "metadata": {},
   "outputs": [],
   "source": []
  }
 ],
 "metadata": {
  "kernelspec": {
   "display_name": "Python 3",
   "language": "python",
   "name": "python3"
  },
  "language_info": {
   "codemirror_mode": {
    "name": "ipython",
    "version": 3
   },
   "file_extension": ".py",
   "mimetype": "text/x-python",
   "name": "python",
   "nbconvert_exporter": "python",
   "pygments_lexer": "ipython3",
   "version": "3.8.2"
  }
 },
 "nbformat": 4,
 "nbformat_minor": 5
}
