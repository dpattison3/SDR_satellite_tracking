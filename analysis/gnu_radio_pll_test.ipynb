{
 "cells": [
  {
   "cell_type": "code",
   "execution_count": 1,
   "metadata": {},
   "outputs": [],
   "source": [
    "from gnuradio import gr, analog, blocks\n",
    "import math"
   ]
  },
  {
   "cell_type": "code",
   "execution_count": null,
   "metadata": {},
   "outputs": [],
   "source": [
    "sampling_freq = 10e3\n",
    "freq = sampling_freq / 100\n",
    "\n",
    "loop_bw = math.pi / 100.0\n",
    "maxf = 1\n",
    "minf = -1\n",
    "\n",
    "src = analog.sig_source_c(sampling_freq, analog.GR_COS_WAVE, freq, 1.0)\n",
    "pll = analog.pll_refout_cc(loop_bw, maxf, minf)\n",
    "head = blocks.head(gr.sizeof_gr_complex, int(freq))\n",
    "dst = blocks.vector_sink_c()\n",
    "\n",
    "tb = gr.top_block()\n",
    "tb.connect(src, pll, head)\n",
    "tb.connect(head, dst)\n",
    "\n",
    "tb.run()\n",
    "dst_data = dst.data()\n"
   ]
  },
  {
   "cell_type": "code",
   "execution_count": null,
   "metadata": {},
   "outputs": [],
   "source": [
    "src = analog.sig_source_c(sampling_freq, analog.GR_COS_WAVE, freq, 1.0)\n",
    "dst = blocks.vector_sink_c()\n",
    "head = blocks.head(gr.sizeof_gr_complex, int(freq))\n",
    "to_real_block = blocks.complex_to_real()\n",
    "to_complex = blocks.float_to_complex()\n",
    "\n",
    "tb = gr.top_block()\n",
    "tb.connect(src, head)\n",
    "tb.connect(head, to_real_block)\n",
    "tb.connect(to_real_block, to_complex)\n",
    "tb.connect(to_complex, dst)\n",
    "\n",
    "tb.run()\n",
    "input_data = dst.data()"
   ]
  },
  {
   "cell_type": "code",
   "execution_count": null,
   "metadata": {},
   "outputs": [],
   "source": [
    "f,m = compute_fft_plot_from_sample_rate(input_data, sampling_freq)\n",
    "\n",
    "fig = go.Figure()\n",
    "fig.add_scatter(x=f,y=m)\n",
    "fig.show()"
   ]
  },
  {
   "cell_type": "code",
   "execution_count": null,
   "metadata": {},
   "outputs": [],
   "source": [
    "sampling_freq = 10e3\n",
    "freq = sampling_freq / 100\n",
    "\n",
    "loop_bw = math.pi / 100.0\n",
    "maxf = 1\n",
    "minf = -1\n",
    "\n",
    "\n",
    "src = analog.sig_source_c(sampling_freq, analog.GR_COS_WAVE, freq, 1.0)\n",
    "dst = blocks.vector_sink_c()\n",
    "head = blocks.head(gr.sizeof_gr_complex, int(freq))\n",
    "to_real_block = blocks.complex_to_real()\n",
    "to_complex = blocks.float_to_complex()\n",
    "\n",
    "pll = analog.pll_refout_cc(loop_bw, maxf, minf)\n",
    "\n",
    "\n",
    "\n",
    "tb = gr.top_block()\n",
    "tb.connect(src, head)\n",
    "tb.connect(head, to_real_block)\n",
    "tb.connect(to_real_block, to_complex)\n",
    "tb.connect(to_complex, pll)\n",
    "tb.connect(pll, dst)\n",
    "\n",
    "tb.run()\n",
    "\n",
    "dst_data = dst.data()"
   ]
  },
  {
   "cell_type": "code",
   "execution_count": null,
   "metadata": {},
   "outputs": [],
   "source": [
    "f,m = compute_fft_plot_from_sample_rate(dst_data, sampling_freq)\n",
    "\n",
    "fig = go.Figure()\n",
    "fig.add_scatter(x=f,y=m)\n",
    "fig.show()"
   ]
  }
 ],
 "metadata": {
  "kernelspec": {
   "display_name": "Python 3",
   "language": "python",
   "name": "python3"
  },
  "language_info": {
   "codemirror_mode": {
    "name": "ipython",
    "version": 3
   },
   "file_extension": ".py",
   "mimetype": "text/x-python",
   "name": "python",
   "nbconvert_exporter": "python",
   "pygments_lexer": "ipython3",
   "version": "3.8.10"
  },
  "orig_nbformat": 4
 },
 "nbformat": 4,
 "nbformat_minor": 2
}
