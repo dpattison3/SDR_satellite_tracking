{
 "cells": [
  {
   "cell_type": "code",
   "execution_count": null,
   "metadata": {},
   "outputs": [],
   "source": [
    "from rtlsdr import RtlSdr\n",
    "import pylab\n",
    "\n",
    "# NOTE(dominic): This is super lame, but iptyhon kernels are running in the directory they are\n",
    "# contained. That means, we cannot access any other sub-modules from within these notebooks.\n",
    "# We resolve this by temporarily adding the parent directory to the path.\n",
    "\n",
    "import os\n",
    "import sys\n",
    "sys.path.insert(0, os.path.abspath('..'))\n",
    "\n",
    "from util.plotting import compute_fft_plot, compute_fft_plot_from_sample_rate, compute_frequency_response\n",
    "from util.filtering import compute_lpf_coeff, filter_complex_signal, filter_real_signal\n",
    "from util.data_io import read_sdriq_data\n",
    "from util.demodulation import demodulate_signal, chunked_demodulate_signal\n",
    "\n",
    "import numpy as np\n",
    "from scipy.io import wavfile"
   ]
  },
  {
   "cell_type": "code",
   "execution_count": null,
   "metadata": {},
   "outputs": [],
   "source": [
    "signal = read_sdriq_data(\"/Users/benjaminpattison/Documents/Projects/satNav/SDR_satellite_tracking/data/gqrx_20211121_204702_435103000_1920000_fc_cropped.raw\")\n",
    "center_frequency = 435103000\n",
    "sample_frequency = 1920000\n",
    "trimmed_signal = signal[169:int(169+1*sample_frequency/9600)]\n",
    "\n",
    "print(\"Signal min:\", np.min(np.abs(trimmed_signal)))\n",
    "print(\"Signal mean:\", np.mean(np.abs(trimmed_signal)))\n",
    "print(\"Signal max:\", np.max(np.abs(trimmed_signal)))\n",
    "\n",
    "pylab.figure(1,figsize=(15,5))\n",
    "pylab.plot(np.abs(trimmed_signal))\n",
    "pylab.title(\"Trimmed signal magnitude\")\n",
    "pylab.show(1)"
   ]
  },
  {
   "cell_type": "code",
   "execution_count": null,
   "metadata": {},
   "outputs": [],
   "source": [
    "trimmed_signal_no_mean = np.abs(trimmed_signal) - np.mean(np.abs(trimmed_signal))\n",
    "pylab.figure(2,figsize=(15,5))\n",
    "pylab.plot(np.abs(trimmed_signal_no_mean))\n",
    "pylab.title(\"Trimmed signal magnitude with mean subtracted\")\n",
    "pylab.show(2)"
   ]
  },
  {
   "cell_type": "code",
   "execution_count": null,
   "metadata": {},
   "outputs": [],
   "source": [
    "phase_angles = np.angle(trimmed_signal)\n",
    "\n",
    "pylab.figure(3,figsize=[15,5])\n",
    "pylab.plot(phase_angles)\n",
    "pylab.title(\"Phase angles\")\n",
    "pylab.show(3)\n",
    "\n",
    "pylab.figure(4,figsize=(10,10))\n",
    "pylab.polar(phase_angles,np.abs(trimmed_signal),'bo')\n",
    "pylab.title(\"Polar plot\")\n",
    "pylab.show()\n"
   ]
  },
  {
   "cell_type": "code",
   "execution_count": null,
   "metadata": {},
   "outputs": [],
   "source": [
    "unwrapped_phase_angles = np.unwrap(phase_angles,discont=(np.max(phase_angles)-np.min(phase_angles)))\n",
    "print(\"Min angle:\", np.min(phase_angles))\n",
    "print(\"Max angle:\", np.max(phase_angles))\n",
    "\n",
    "pylab.figure(5,figsize=[15,5])\n",
    "pylab.plot(unwrapped_phase_angles)\n",
    "pylab.title(\"Unwrapped phase angles\")\n",
    "pylab.show(5)"
   ]
  },
  {
   "cell_type": "code",
   "execution_count": null,
   "metadata": {},
   "outputs": [],
   "source": [
    "phase_angle_diff = np.diff(phase_angles)\n",
    "\n",
    "pylab.figure(4,figsize=[15,5])\n",
    "pylab.plot(phase_angle_diff)\n",
    "pylab.title(\"Diff of the phase angles\")\n",
    "pylab.show(4)"
   ]
  },
  {
   "cell_type": "code",
   "execution_count": null,
   "metadata": {},
   "outputs": [],
   "source": [
    "threshold_signal = np.empty(phase_angle_diff.shape[0])\n",
    "threshold_signal[phase_angle_diff<0] = 0\n",
    "threshold_signal[phase_angle_diff>0] = 1\n",
    "\n",
    "print(threshold_signal)\n",
    "\n",
    "pylab.figure(5,figsize=[15,5])\n",
    "pylab.plot(threshold_signal)\n",
    "pylab.title(\"Thresholded signal\")\n",
    "pylab.show(5)"
   ]
  },
  {
   "cell_type": "code",
   "execution_count": 30,
   "metadata": {},
   "outputs": [],
   "source": [
    "time_vector = np.linspace(0,len(signal)/sample_frequency,len(signal))\n",
    "test_signal = np.cos(2 * np.pi * 300 * time_vector + 1)\n",
    "#10*np.exp(-1j*2*np.pi/10000*time_vector)\n",
    "frequencies,magnitudes = compute_fft_plot_from_sample_rate(test_signal,sample_frequency)\n",
    "\n"
   ]
  },
  {
   "cell_type": "code",
   "execution_count": null,
   "metadata": {},
   "outputs": [],
   "source": [
    "pylab.figure()\n",
    "pylab.plot(frequencies,magnitudes)\n",
    "pylab.show()"
   ]
  },
  {
   "cell_type": "code",
   "execution_count": null,
   "metadata": {},
   "outputs": [],
   "source": [
    "print(\"Time: \", time_vector[:10])\n",
    "print(\"Test signal: \",test_signal[:10])"
   ]
  },
  {
   "cell_type": "code",
   "execution_count": null,
   "metadata": {},
   "outputs": [],
   "source": [
    "import scipy.signal\n",
    "from scipy.fft import fftshift\n",
    "window_param = scipy.signal.get_window(\"hamming\",int(1.92e6))\n",
    "\n",
    "time_vector = np.linspace(0,len(signal)/sample_frequency,len(signal))\n",
    "test_signal = signal + np.exp(-1*j*2*np.pi*1000*time_vector)\n",
    "f,t,Sxx = scipy.signal.spectrogram(signal,fs=1.92e6/2,window=window_param)\n",
    "\n",
    "# Get spectra\n",
    "spec=Sxx\n",
    "\n",
    "# Get extrema\n",
    "fmin,fmax=np.min(f),np.max(f)\n",
    "tmin,tmax=np.min(t),np.max(t)\n",
    "\"\"\"\n",
    "# Set dynamic range\n",
    "c=spec>-200.0\n",
    "if np.sum(c)>100:\n",
    "    vmin=np.mean(spec[c])-2.0*np.std(spec[c])\n",
    "    vmax=np.mean(spec[c])+6.0*np.std(spec[c])\n",
    "else:\n",
    "    vmin=-100\n",
    "    vmax=-50\n",
    "\"\"\"\n",
    "\n",
    "cmap=\"viridis\"\n",
    "#print(\"%s %.2f %.2f %.2f %.2f %.2f\"%(fname,np.mean(spec[c]),np.median(spec[c]),np.std(spec[c]),vmin,vmax))\n",
    "\n",
    "# Make plot\n",
    "pylab.figure(figsize=(10,20))\n",
    "pylab.imshow(spec,origin='lower',aspect='auto',interpolation='None',extent=[fmin,fmax,tmin,tmax],vmin=vmin,vmax=vmax,cmap=cmap)\n",
    "pylab.xlabel(\"Frequency (kHz)\")\n",
    "pylab.ylabel(\"Time (seconds)\")\n",
    "fig=pylab.colorbar(aspect=50)\n",
    "fig.set_label(\"Power (dB)\")\n",
    "pylab.show()"
   ]
  },
  {
   "cell_type": "code",
   "execution_count": null,
   "metadata": {},
   "outputs": [],
   "source": [
    "print(Sxx.shape)\n",
    "print(f.shape)\n",
    "print(t.shape)\n",
    "print(signal.shape[0]/1.92e6)"
   ]
  },
  {
   "cell_type": "code",
   "execution_count": null,
   "metadata": {},
   "outputs": [],
   "source": [
    "pylab.pcolormesh(t, fftshift(f), fftshift(Sxx, axes=0), shading='gouraud')\n",
    "pylab.ylabel('Frequency [Hz]')\n",
    "pylab.xlabel('Time [sec]')\n",
    "pylab.show()"
   ]
  },
  {
   "cell_type": "code",
   "execution_count": null,
   "metadata": {},
   "outputs": [],
   "source": [
    "pylab.imshow(Sxx,cmap)"
   ]
  }
 ],
 "metadata": {
  "interpreter": {
   "hash": "5b00768f8c07d00184186722ce9d2718c4fba12e1ec012d9b0bb99b07b75249c"
  },
  "kernelspec": {
   "display_name": "Python 3.8.6 64-bit ('venv': venv)",
   "language": "python",
   "name": "python3"
  },
  "language_info": {
   "codemirror_mode": {
    "name": "ipython",
    "version": 3
   },
   "file_extension": ".py",
   "mimetype": "text/x-python",
   "name": "python",
   "nbconvert_exporter": "python",
   "pygments_lexer": "ipython3",
   "version": "3.8.6"
  },
  "orig_nbformat": 4
 },
 "nbformat": 4,
 "nbformat_minor": 2
}
