{
 "cells": [
  {
   "cell_type": "code",
   "execution_count": null,
   "metadata": {},
   "outputs": [],
   "source": [
    "import numpy as np\n",
    "import matplotlib.pyplot as plt\n",
    "import plotly.graph_objects as go\n",
    "import scipy.io.wavfile as wavfile\n",
    "\n",
    "from util.plotting import compute_fft_plot_from_sample_rate\n",
    "from util.data_io import read_rtl_raw_data, read_gqrx_raw_data\n",
    "from util.filtering import low_pass_filter_complex_signal, low_pass_filter_real_signal\n",
    "\n",
    "from util.phase_lock_loop import phase_lock_loop"
   ]
  },
  {
   "cell_type": "markdown",
   "metadata": {},
   "source": [
    "## Test synchronous AM demodulation"
   ]
  },
  {
   "cell_type": "code",
   "execution_count": null,
   "metadata": {},
   "outputs": [],
   "source": [
    "fc = 1.170E3\n",
    "fs = 2.048E6\n",
    "\n",
    "input_file = \"data/gqrx_20211220_224958_126170000_2048000_fc.raw\"\n",
    "signal = read_gqrx_raw_data(input_file)\n",
    "\n",
    "len(signal) / fs"
   ]
  },
  {
   "cell_type": "code",
   "execution_count": null,
   "metadata": {},
   "outputs": [],
   "source": [
    "# AM is pretty narrow in bandwidth.\n",
    "filtered_signal = low_pass_filter_complex_signal(signal, sample_rate=fs, cutoff_frequency=5E3)\n",
    "filtered_signal = filtered_signal[::10]\n",
    "filtered_fs = fs / 10"
   ]
  },
  {
   "cell_type": "code",
   "execution_count": null,
   "metadata": {},
   "outputs": [],
   "source": [
    "# You can actually hear the audio with no other processing...\n",
    "wavfile.write(\"data/test_dumb_am.wav\", int(filtered_fs), np.real(filtered_signal))"
   ]
  },
  {
   "cell_type": "code",
   "execution_count": null,
   "metadata": {},
   "outputs": [],
   "source": [
    "f,m = compute_fft_plot_from_sample_rate(filtered_signal, sampling_rate=filtered_fs)\n",
    "\n",
    "fig = go.Figure()\n",
    "fig.add_scatter(x=f[::100],y=m[::100])\n",
    "fig.show()\n",
    "# plt.plot(f,m)"
   ]
  },
  {
   "cell_type": "code",
   "execution_count": null,
   "metadata": {},
   "outputs": [],
   "source": [
    "# PLL decoding only works if the signal is at an intermediate frequency. Shift up from baseband.\n",
    "\n",
    "frequency_shift = 25E3\n",
    "time_vector = np.linspace(0, len(filtered_signal) / filtered_fs, len(filtered_signal))\n",
    "shift_signal = np.exp(2j*np.pi*frequency_shift*time_vector)\n",
    "\n",
    "signal_shifted = filtered_signal * shift_signal"
   ]
  },
  {
   "cell_type": "code",
   "execution_count": null,
   "metadata": {},
   "outputs": [],
   "source": [
    "# f,m = compute_fft_plot_from_sample_rate(signal_shifted, sampling_rate=filtered_fs)\n",
    "\n",
    "# plt.plot(f,m)\n",
    "fig = go.Figure()\n",
    "fig.add_scatter(x=f[::100],y=m[::100])\n",
    "fig.show()"
   ]
  },
  {
   "cell_type": "code",
   "execution_count": null,
   "metadata": {},
   "outputs": [],
   "source": [
    "pll_output, _, _ = phase_lock_loop(signal_shifted, fs=filtered_fs, initial_frequency_estimate=frequency_shift, frequency_bandwidth=250)"
   ]
  },
  {
   "cell_type": "code",
   "execution_count": null,
   "metadata": {},
   "outputs": [],
   "source": [
    "f,m = compute_fft_plot_from_sample_rate(pll_output, sampling_rate=filtered_fs)\n",
    "\n",
    "# plt.plot(f,m)\n",
    "fig = go.Figure()\n",
    "fig.add_scatter(x=f[::100],y=m[::100])\n",
    "fig.show()"
   ]
  },
  {
   "cell_type": "code",
   "execution_count": null,
   "metadata": {},
   "outputs": [],
   "source": [
    "am_demod = np.conjugate(pll_output) * signal_shifted\n",
    "\n",
    "am_demod = low_pass_filter_real_signal(am_demod, cutoff_frequency=5E3, sample_rate=filtered_fs)\n",
    "am_demod = am_demod[::5]\n",
    "audio_fs = filtered_fs / 5"
   ]
  },
  {
   "cell_type": "code",
   "execution_count": null,
   "metadata": {},
   "outputs": [],
   "source": [
    "f,m = compute_fft_plot_from_sample_rate(am_demod, sampling_rate=filtered_fs)\n",
    "\n",
    "plt.plot(f,m)\n",
    "# fig = go.Figure()\n",
    "# fig.add_scatter(x=f[::100],y=m[::100])\n",
    "# fig.show()"
   ]
  },
  {
   "cell_type": "code",
   "execution_count": null,
   "metadata": {},
   "outputs": [],
   "source": [
    "wavfile.write(\"data/test_am_pll.wav\", int(audio_fs), am_demod)"
   ]
  },
  {
   "cell_type": "code",
   "execution_count": null,
   "metadata": {},
   "outputs": [],
   "source": [
    "# Now, compare against the naive way of just using magnitude. To my ears, on this signal, I can't\n",
    "# hear any difference in quality.\n",
    "am_magnitude_demod = np.abs(filtered_signal)\n",
    "am_magnitude_demod = low_pass_filter_real_signal(am_magnitude_demod, cutoff_frequency=5E3, sample_rate=filtered_fs)\n",
    "am_magnitude_demod = am_magnitude_demod[::5]\n",
    "audio_fs = filtered_fs / 5\n",
    "\n",
    "wavfile.write(\"data/test_am_mag.wav\", int(audio_fs), am_magnitude_demod)"
   ]
  }
 ],
 "metadata": {
  "kernelspec": {
   "display_name": "Python 3",
   "language": "python",
   "name": "python3"
  },
  "language_info": {
   "codemirror_mode": {
    "name": "ipython",
    "version": 3
   },
   "file_extension": ".py",
   "mimetype": "text/x-python",
   "name": "python",
   "nbconvert_exporter": "python",
   "pygments_lexer": "ipython3",
   "version": "3.8.10"
  },
  "orig_nbformat": 4
 },
 "nbformat": 4,
 "nbformat_minor": 2
}
