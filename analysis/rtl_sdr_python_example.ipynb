{
 "cells": [
  {
   "cell_type": "code",
   "execution_count": null,
   "id": "increased-notice",
   "metadata": {},
   "outputs": [],
   "source": [
    "from rtlsdr import RtlSdr\n",
    "import pylab\n",
    "\n",
    "\n",
    "%matplotlib widget"
   ]
  },
  {
   "cell_type": "code",
   "execution_count": null,
   "id": "spatial-understanding",
   "metadata": {},
   "outputs": [],
   "source": [
    "# NOTE(dominic): This is super lame, but iptyhon kernels are running in the directory they are\n",
    "# contained. That means, we cannot access any other sub-modules from within these notebooks.\n",
    "# We resolve this by temporarily adding the parent directory to the path.\n",
    "\n",
    "import os\n",
    "import sys\n",
    "sys.path.insert(0, os.path.abspath('..'))\n",
    "\n",
    "\n",
    "from util.plotting import compute_fft_plot, compute_fft_plot_from_sample_rate"
   ]
  },
  {
   "cell_type": "code",
   "execution_count": null,
   "id": "featured-graham",
   "metadata": {},
   "outputs": [],
   "source": [
    "sdr = RtlSdr()\n",
    "\n",
    "# configure device\n",
    "sdr.sample_rate = 2.048e6  # Hz\n",
    "sdr.center_freq = 98.5e6     # Hz\n",
    "sdr.freq_correction = 60   # PPM\n",
    "sdr.gain = 'auto'"
   ]
  },
  {
   "cell_type": "code",
   "execution_count": null,
   "id": "organized-enough",
   "metadata": {},
   "outputs": [],
   "source": [
    "# Record 4s.\n",
    "# NOTE(dominic): This tool isn't great and can't record data for longer than a handful of seconds.\n",
    "# I have not been able to record more than about 4s of data.\n",
    "samples = sdr.read_samples(4 * sdr.sample_rate)"
   ]
  },
  {
   "cell_type": "code",
   "execution_count": null,
   "id": "experienced-exploration",
   "metadata": {},
   "outputs": [],
   "source": [
    "sdr.close()"
   ]
  },
  {
   "cell_type": "code",
   "execution_count": null,
   "id": "tribal-hunter",
   "metadata": {},
   "outputs": [],
   "source": [
    "pylab.figure(figsize=(5,5))\n",
    "\n",
    "pylab.psd(samples, NFFT=1024, Fs=sdr.sample_rate, Fc=sdr.center_freq)\n",
    "pylab.xlabel('Frequency (MHz)')\n",
    "pylab.ylabel('Relative power (dB)')\n",
    "\n",
    "pylab.show()"
   ]
  },
  {
   "cell_type": "code",
   "execution_count": null,
   "id": "material-calculation",
   "metadata": {},
   "outputs": [],
   "source": []
  }
 ],
 "metadata": {
  "kernelspec": {
   "display_name": "Python 3",
   "language": "python",
   "name": "python3"
  },
  "language_info": {
   "codemirror_mode": {
    "name": "ipython",
    "version": 3
   },
   "file_extension": ".py",
   "mimetype": "text/x-python",
   "name": "python",
   "nbconvert_exporter": "python",
   "pygments_lexer": "ipython3",
   "version": "3.8.5"
  }
 },
 "nbformat": 4,
 "nbformat_minor": 5
}
