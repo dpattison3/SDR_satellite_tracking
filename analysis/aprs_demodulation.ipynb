{
 "cells": [
  {
   "cell_type": "code",
   "execution_count": null,
   "metadata": {},
   "outputs": [],
   "source": [
    "import os\n",
    "import sys\n",
    "sys.path.insert(0, os.path.abspath('..'))\n",
    "\n",
    "import numpy as np\n",
    "import scipy.signal as signal\n",
    "from scipy.fft import fft, fftshift, fftfreq\n",
    "from util.data_io import read_sdriq_data\n",
    "from util.plotting import compute_fft_plot, compute_fft_plot_from_sample_rate, compute_frequency_response\n",
    "import pylab\n",
    "import matplotlib.pyplot as plt\n",
    "\n",
    "from util.demodulation import demodulate_signal\n",
    "\n",
    "import scipy.io.wavfile as wavfile"
   ]
  },
  {
   "cell_type": "code",
   "execution_count": null,
   "metadata": {},
   "outputs": [],
   "source": [
    "# Crop and save the data. It's too much!\n",
    "fs = 2048000\n",
    "center_frequency = 144.390e6\n",
    "raw_file = \"/Users/benjaminpattison/Desktop/aprs_test5.dat\"\n",
    "imported_signal = read_sdriq_data(raw_file,start_index_fraction=4.85/30,end_index_fraction=5.5/30)"
   ]
  },
  {
   "cell_type": "code",
   "execution_count": null,
   "metadata": {},
   "outputs": [],
   "source": [
    "\n",
    "f,t,sxx = signal.spectrogram(imported_signal,fs=fs,nfft=16*1024,return_onesided=False)\n",
    "sxx = fftshift(sxx, axes=0)\n",
    "print(f\"Spectrum is %i by %i\"%(np.shape(sxx)[0],np.shape(sxx)[1]))\n",
    "f_min,f_max=np.min(f),np.max(f)\n",
    "t_min,t_max=np.min(t),np.max(t)\n",
    "c = sxx>-200\n",
    "if np.sum(c)>100:\n",
    "    lwr_range = np.mean(sxx[c]-2.0*np.std(sxx[c]))\n",
    "    upr_range = np.mean(sxx[c]+6.0*np.std(sxx[c]))\n",
    "else:\n",
    "    lwr_range = -100\n",
    "    upr_range = -50\n",
    "\n",
    "\n"
   ]
  },
  {
   "cell_type": "code",
   "execution_count": null,
   "metadata": {},
   "outputs": [],
   "source": [
    "# Get time\n",
    "#t=data[:,:1]\n",
    "\n",
    "# Get spectra\n",
    "spec=np.transpose(sxx)\n",
    "\n",
    "# Get extrema\n",
    "fmin,fmax=np.min(f),np.max(f)\n",
    "tmin,tmax=np.min(t),np.max(t)\n",
    "\n",
    "# Set dynamic range\n",
    "c=spec>-200.0\n",
    "if np.sum(c)>100:\n",
    "    vmin=np.mean(spec[c])-2.0*np.std(spec[c])\n",
    "    vmax=np.mean(spec[c])+6.0*np.std(spec[c])\n",
    "else:\n",
    "    vmin=-100\n",
    "    vmax=-50\n",
    "    \n",
    "cmap=\"viridis\"\n",
    "print(\"%s %.2f %.2f %.2f %.2f %.2f\"%(\"test\",np.mean(spec[c]),np.median(spec[c]),np.std(spec[c]),vmin,vmax))\n",
    "\n",
    "# Make plot\n",
    "plt.figure(figsize=(5,10))\n",
    "plt.imshow(spec,origin='lower',aspect='auto',interpolation='None',extent=[fmin,fmax,tmin,tmax],vmin=vmin,vmax=vmax,cmap=cmap)\n",
    "plt.xlabel(\"Frequency (kHz)\")\n",
    "plt.ylabel(\"Time (seconds)\")\n",
    "plt.xlim((-10e3,10e3))\n",
    "fig=plt.colorbar(aspect=50)\n",
    "fig.set_label(\"Power (dB)\")"
   ]
  },
  {
   "cell_type": "code",
   "execution_count": null,
   "metadata": {},
   "outputs": [],
   "source": [
    "decimated_signal = signal.decimate(\n",
    "    signal.decimate(imported_signal,8,ftype='fir')\n",
    "    ,8,ftype='fir')\n",
    "resampled_signal = signal.resample(\n",
    "    decimated_signal,\n",
    "    int(len(decimated_signal)*.75)\n",
    "    )"
   ]
  },
  {
   "cell_type": "code",
   "execution_count": null,
   "metadata": {},
   "outputs": [],
   "source": [
    "demodulated_packets = np.angle(\n",
    "    np.conjugate(resampled_signal[:-1])*\n",
    "    resampled_signal[1:]\n",
    "    )\n",
    "\n",
    "fm_demodulated_signal, demod_fs = demodulate_signal(imported_signal, sample_rate=fs, base_band_filter_cutoff=10e3, base_band_downsample_rate=100, audio_filter_cutoff=10e3, audio_downsample_rate=1)\n",
    "wavfile.write(\"/Users/benjaminpattison/Desktop/test.wav\", int(demod_fs), fm_demodulated_signal)"
   ]
  },
  {
   "cell_type": "code",
   "execution_count": null,
   "metadata": {},
   "outputs": [],
   "source": [
    "plt.figure(figsize=(10,5))\n",
    "plt.plot(demodulated_packets[:10000])\n",
    "plt.title(\"Angles of delayed conj * signal\")\n",
    "\n",
    "plt.figure(figsize=(10,5))\n",
    "plt.plot(fm_demodulated_signal[:10000])\n",
    "plt.title(\"Demod using demod signal util\")"
   ]
  },
  {
   "cell_type": "code",
   "execution_count": null,
   "metadata": {},
   "outputs": [],
   "source": [
    "t20 = np.arange(-10,10,1)/20\n",
    "mf1200 = np.exp(1j*2*np.pi*t20*1.0)\n",
    "mf2200 = np.exp(1j*2*np.pi*t20*1.8)\n",
    "\n",
    "cos_1200 = np.exp(2*np.pi*1200*t20) + np.exp(-2*np.pi*1200*t20)\n",
    "sin_1200 = np.exp(2*np.pi*1200*t20 + np.pi/2) + np.exp(-2*np.pi*1200*t20 + np.pi/2)\n",
    "cos_2200 = np.exp(2*np.pi*2200*t20) + np.exp(-2*np.pi*2200*t20)\n",
    "sin_2200 = np.exp(2*np.pi*2200*t20 + np.pi/2) + np.exp(-2*np.pi*2200*t20 + np.pi/2)\n",
    "\n",
    "packet_1200 = np.convolve(demodulated_packets,mf1200,mode='same')\n",
    "packet_2200 = np.convolve(demodulated_packets,mf2200,mode='same')\n",
    "packet_diff = abs(packet_2200) - abs(packet_1200)\n",
    "\n",
    "packet_1200a = np.convolve(fm_demodulated_signal,mf1200,mode='same')\n",
    "packet_2200a = np.convolve(fm_demodulated_signal,mf2200,mode='same')\n",
    "packet_diffa = abs(packet_2200a) - abs(packet_1200a)\n",
    "\n",
    "offset = 1\n",
    "n3 = 512\n",
    "n4 = 20\n",
    "n1 = 517 - offset\n",
    "n2 = n1 + n4*n3\n",
    "\n",
    "plt.figure(figsize=(10,5))\n",
    "plt.plot(packet_diff[n1:n2])\n",
    "\n",
    "plt.figure(figsize=(10,5))\n",
    "plt.plot(packet_diffa[n1:n2])"
   ]
  },
  {
   "cell_type": "code",
   "execution_count": null,
   "metadata": {},
   "outputs": [],
   "source": [
    "print( np.size(packet_diff[n1:n2]) )\n",
    "print(n3*n4)\n",
    "\n",
    "boff = np.arange(-10,10)\n",
    "eyed = np.reshape(packet_diff[n1:n2],(n4,n3),order='F')\n",
    "eyeda = np.reshape(packet_diffa[n1:n2],(n4,n3),order='F')\n",
    "\n",
    "plt.figure(figsize=(5,5))\n",
    "plt.plot(boff,eyed)\n",
    "\n",
    "plt.figure(figsize=(5,5))\n",
    "plt.plot(boff,eyeda)"
   ]
  },
  {
   "cell_type": "code",
   "execution_count": null,
   "metadata": {},
   "outputs": [],
   "source": [
    "bits = packet_diff[n1:n2] > 0\n",
    "bitsa = packet_diffa[n1:n2] > 0\n",
    "\n",
    "plt.figure(figsize=(20,5))\n",
    "plt.plot(bits)\n",
    "plt.figure(figsize=(20,5))\n",
    "plt.plot(bitsa)"
   ]
  },
  {
   "cell_type": "code",
   "execution_count": null,
   "metadata": {},
   "outputs": [],
   "source": []
  }
 ],
 "metadata": {
  "interpreter": {
   "hash": "397e3b623edf964fc26f04e4624ddb7ac88e2978d6d450dff6bbbe0e3384e210"
  },
  "kernelspec": {
   "display_name": "Python 3.8.6 64-bit ('python_venv': venv)",
   "language": "python",
   "name": "python3"
  },
  "language_info": {
   "codemirror_mode": {
    "name": "ipython",
    "version": 3
   },
   "file_extension": ".py",
   "mimetype": "text/x-python",
   "name": "python",
   "nbconvert_exporter": "python",
   "pygments_lexer": "ipython3",
   "version": "3.8.6"
  },
  "orig_nbformat": 4
 },
 "nbformat": 4,
 "nbformat_minor": 2
}
