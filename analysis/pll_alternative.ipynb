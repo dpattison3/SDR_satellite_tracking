{
 "cells": [
  {
   "cell_type": "code",
   "execution_count": null,
   "metadata": {},
   "outputs": [],
   "source": [
    "import sys\n",
    "sys.path.append(\"..\")\n",
    "\n",
    "import numpy as np\n",
    "import matplotlib.pyplot as plt\n",
    "import plotly.graph_objects as go\n",
    "from scipy import signal\n",
    "import scipy.io.wavfile as wavfile\n",
    "from scipy.signal import resample, correlate, hilbert\n",
    "from PIL import Image\n",
    "\n",
    "\n",
    "from util.plotting import compute_fft_plot_from_sample_rate\n",
    "from util.data_io import read_rtl_raw_data, read_gqrx_raw_data\n",
    "from util.filtering import low_pass_filter_complex_signal, low_pass_filter_real_signal\n",
    "from util.demodulation import chunked_demodulate_signal\n",
    "from util.phase_locked_loop import phase_locked_loop"
   ]
  },
  {
   "cell_type": "code",
   "execution_count": null,
   "metadata": {},
   "outputs": [],
   "source": [
    "class LowPassFilter():\n",
    "    def __init__(self, frequency_cutoff: float, sample_rate: int, order: int) -> None:\n",
    "        self.b,self.a = signal.butter(N=order, Wn=frequency_cutoff, fs=sample_rate)\n",
    "        self.y = np.zeros((len(self.a) - 1,))\n",
    "        self.x = np.zeros((len(self.b),))\n",
    "    \n",
    "    def step(self, x: float):\n",
    "        self.x = np.concatenate([[x], self.x[:-1]])\n",
    "        y = (1/self.a[0]) * (self.x.dot(self.b) - self.y.dot(self.a[1:]))\n",
    "        self.y = np.concatenate([[y], self.y[:-1]])\n",
    "\n",
    "        return y"
   ]
  },
  {
   "cell_type": "code",
   "execution_count": null,
   "metadata": {},
   "outputs": [],
   "source": [
    "sample_rate = 250\n",
    "\n",
    "time = np.arange(sample_rate * 5) / sample_rate\n",
    "test_frequency = 10.0\n",
    "test_signal = np.sin(2 * np.pi * test_frequency * time)\n"
   ]
  },
  {
   "cell_type": "code",
   "execution_count": null,
   "metadata": {},
   "outputs": [],
   "source": [
    "fig = go.Figure()\n",
    "fig.add_scattergl(x=time,y=test_signal)\n",
    "fig.show()"
   ]
  },
  {
   "cell_type": "code",
   "execution_count": null,
   "metadata": {},
   "outputs": [],
   "source": [
    "phase = 0\n",
    "frequency = 9.9 * (2*np.pi / sample_rate)\n",
    "gain = 0.00001\n",
    "\n",
    "output = []\n",
    "errors = []\n",
    "frequencies = []\n",
    "\n",
    "lpf_i = LowPassFilter(frequency_cutoff=3, sample_rate=sample_rate, order=5)\n",
    "lpf_q = LowPassFilter(frequency_cutoff=3, sample_rate=sample_rate, order=5)\n",
    "\n",
    "i = 0\n",
    "\n",
    "for x in test_signal:\n",
    "    phase_sin = np.sin(phase)\n",
    "    phase_cos = np.cos(phase)\n",
    "\n",
    "    output.append(phase_sin)\n",
    "\n",
    "    error_i = lpf_i.step(phase_sin * x)\n",
    "    error_q = lpf_q.step(phase_cos * x)\n",
    "    error = np.arctan2(error_q, error_i)\n",
    "\n",
    "    errors.append(error)\n",
    "    # error = 0\n",
    "\n",
    "    frequency += gain * error\n",
    "    frequencies.append(frequency)\n",
    "\n",
    "    phase = np.mod(phase + frequency, 2*np.pi)\n",
    "\n",
    "    # print(f\"psin: {phase_sin:.2f} pcos: {phase_cos:.2f}\")\n",
    "    # print(f\"error_i: {error_i:.6f} error_q: {error_q:.6f}\")\n",
    "    # print(f\"frequency_update:{gain * error:.6f}\")\n",
    "    # print(\"\")\n",
    "\n",
    "    # if i > 5:\n",
    "    #     break\n",
    "    # i+=1\n"
   ]
  },
  {
   "cell_type": "code",
   "execution_count": null,
   "metadata": {},
   "outputs": [],
   "source": [
    "\n",
    "\n",
    "fig = go.Figure()\n",
    "fig.add_scattergl(x=time,y=test_signal, name=\"ref\")\n",
    "fig.add_scattergl(x=time,y=output, name=\"out\")\n",
    "fig.add_scattergl(x=time,y=frequencies, name=\"freq\")\n",
    "fig.add_scattergl(x=time,y=errors, name=\"error\")\n",
    "\n",
    "\n",
    "\n",
    "fig.show()"
   ]
  },
  {
   "cell_type": "code",
   "execution_count": null,
   "metadata": {},
   "outputs": [],
   "source": [
    "phase = 0\n",
    "frequency = 9.9 * (2*np.pi / sample_rate)\n",
    "gain = 0.00001\n",
    "\n",
    "output = []\n",
    "errors = []\n",
    "frequencies = []\n",
    "\n",
    "lpf_i = LowPassFilter(frequency_cutoff=3, sample_rate=sample_rate, order=5)\n",
    "lpf_q = LowPassFilter(frequency_cutoff=3, sample_rate=sample_rate, order=5)\n",
    "\n",
    "i = 0\n",
    "\n",
    "for x in test_signal:\n",
    "    phase_sin = np.sin(phase)\n",
    "    phase_cos = np.cos(phase)\n",
    "\n",
    "    output.append(phase_sin)\n",
    "\n",
    "    error_i = lpf_i.step(phase_sin * x)\n",
    "    error_q = lpf_q.step(phase_cos * x)\n",
    "    error = np.arctan2(error_q, error_i)\n",
    "\n",
    "    errors.append(error)\n",
    "    # error = 0\n",
    "\n",
    "    frequency += gain * error\n",
    "    frequencies.append(frequency)\n",
    "\n",
    "    phase = np.mod(phase + frequency, 2*np.pi)\n",
    "\n",
    "    # print(f\"psin: {phase_sin:.2f} pcos: {phase_cos:.2f}\")\n",
    "    # print(f\"error_i: {error_i:.6f} error_q: {error_q:.6f}\")\n",
    "    # print(f\"frequency_update:{gain * error:.6f}\")\n",
    "    # print(\"\")\n",
    "\n",
    "    # if i > 5:\n",
    "    #     break\n",
    "    # i+=1\n"
   ]
  },
  {
   "cell_type": "code",
   "execution_count": null,
   "metadata": {},
   "outputs": [],
   "source": []
  }
 ],
 "metadata": {
  "kernelspec": {
   "display_name": "jrti",
   "language": "python",
   "name": "python3"
  },
  "language_info": {
   "codemirror_mode": {
    "name": "ipython",
    "version": 3
   },
   "file_extension": ".py",
   "mimetype": "text/x-python",
   "name": "python",
   "nbconvert_exporter": "python",
   "pygments_lexer": "ipython3",
   "version": "3.10.8"
  }
 },
 "nbformat": 4,
 "nbformat_minor": 2
}
