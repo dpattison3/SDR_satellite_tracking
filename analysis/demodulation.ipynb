{
 "cells": [
  {
   "cell_type": "code",
   "execution_count": null,
   "id": "excited-essay",
   "metadata": {},
   "outputs": [],
   "source": [
    "from rtlsdr import RtlSdr\n",
    "import pylab\n",
    "import plotly.graph_objects as go\n",
    "\n",
    "import numpy as np\n",
    "from scipy.io import wavfile\n",
    "from scipy.signal import butter, sosfilt\n",
    "from scipy.signal import hilbert\n",
    "\n",
    "from util.plotting import compute_fft_plot, compute_fft_plot_from_sample_rate, compute_frequency_response\n",
    "from util.filtering import compute_lpf_coeff, low_pass_filter_complex_signal, low_pass_filter_real_signal, filter_complex_signal, compute_bandpass_coeff\n",
    "from util.data_io import read_sdriq_data\n",
    "from util.demodulation import demodulate_signal, chunked_demodulate_signal"
   ]
  },
  {
   "cell_type": "code",
   "execution_count": null,
   "id": "guilty-nowhere",
   "metadata": {},
   "outputs": [],
   "source": [
    "fs = 2048000\n",
    "center_frequency = 98500000\n",
    "\n",
    "signal = read_sdriq_data(\"/home/dominic/radio/data/long_test.sdriq\")\n",
    "signal = signal[:fs*5]\n",
    "len(signal) / fs"
   ]
  },
  {
   "cell_type": "code",
   "execution_count": null,
   "id": "b1dc5293",
   "metadata": {},
   "outputs": [],
   "source": [
    "filtered_signal = low_pass_filter_complex_signal(signal=signal, cutoff_frequency=75E3, sample_rate=fs)\n",
    "filtered_fs = fs / 10\n",
    "filtered_signal = filtered_signal[::10]"
   ]
  },
  {
   "cell_type": "code",
   "execution_count": null,
   "id": "db691a91",
   "metadata": {},
   "outputs": [],
   "source": [
    "pylab.figure(figsize=(5,5))\n",
    "freq, mag = compute_fft_plot_from_sample_rate(filtered_signal, sampling_rate=filtered_fs, center_frequency=0)\n",
    "pylab.plot(freq, mag)\n",
    "pylab.show()"
   ]
  },
  {
   "cell_type": "code",
   "execution_count": null,
   "id": "c73f759a",
   "metadata": {},
   "outputs": [],
   "source": [
    "angle_diff = np.angle(\n",
    "    np.conjugate(filtered_signal[:-1]) * filtered_signal[1:]\n",
    ")\n",
    "envelope = np.abs(hilbert(angle_diff))"
   ]
  },
  {
   "cell_type": "code",
   "execution_count": null,
   "id": "6c061865",
   "metadata": {},
   "outputs": [],
   "source": [
    "pylab.figure(figsize=(5,5))\n",
    "freq, mag = compute_fft_plot_from_sample_rate(angle_diff, sampling_rate=filtered_fs, center_frequency=0)\n",
    "pylab.plot(freq, mag)\n",
    "pylab.show()"
   ]
  },
  {
   "cell_type": "code",
   "execution_count": null,
   "id": "50908b9f",
   "metadata": {},
   "outputs": [],
   "source": [
    "pylab.figure(figsize=(5,5))\n",
    "freq, mag = compute_fft_plot_from_sample_rate(envelope, sampling_rate=filtered_fs, center_frequency=0)\n",
    "pylab.plot(freq, mag)\n",
    "pylab.show()"
   ]
  },
  {
   "cell_type": "code",
   "execution_count": null,
   "id": "94d914a7",
   "metadata": {},
   "outputs": [],
   "source": [
    "filtered_angle_diff = low_pass_filter_real_signal(signal=angle_diff, cutoff_frequency=15e3, sample_rate=filtered_fs)\n",
    "filtered_envelope = low_pass_filter_real_signal(signal=envelope, cutoff_frequency=15e3, sample_rate=filtered_fs)\n",
    "\n",
    "\n",
    "filter_angle_diff_downsampled = filtered_angle_diff[::5]\n",
    "filtered_envelope_downsampled = filtered_envelope[::5]\n",
    "output_fs = filtered_fs / 5"
   ]
  },
  {
   "cell_type": "code",
   "execution_count": null,
   "id": "e17723af",
   "metadata": {},
   "outputs": [],
   "source": [
    "pylab.figure(figsize=(5,5))\n",
    "freq, mag = compute_fft_plot_from_sample_rate(filter_angle_diff_downsampled, sampling_rate=output_fs)\n",
    "pylab.plot(freq, mag)\n",
    "pylab.show()"
   ]
  },
  {
   "cell_type": "code",
   "execution_count": null,
   "id": "1c6e8609",
   "metadata": {},
   "outputs": [],
   "source": [
    "pylab.figure(figsize=(5,5))\n",
    "freq, mag = compute_fft_plot_from_sample_rate(filtered_envelope_downsampled, sampling_rate=output_fs)\n",
    "pylab.plot(freq, mag)\n",
    "pylab.show()"
   ]
  },
  {
   "cell_type": "code",
   "execution_count": null,
   "id": "fe2df7bd",
   "metadata": {},
   "outputs": [],
   "source": [
    "wavfile.write(\"data/test_angle_diff.wav\", int(output_fs), filter_angle_diff_downsampled)\n",
    "wavfile.write(\"data/test_envelope.wav\", int(output_fs), filtered_envelope_downsampled)"
   ]
  },
  {
   "cell_type": "code",
   "execution_count": null,
   "id": "4112b303",
   "metadata": {},
   "outputs": [],
   "source": []
  },
  {
   "cell_type": "code",
   "execution_count": null,
   "id": "3a7e86f8",
   "metadata": {},
   "outputs": [],
   "source": []
  },
  {
   "cell_type": "code",
   "execution_count": null,
   "id": "59f2d3bd",
   "metadata": {},
   "outputs": [],
   "source": [
    "sos = compute_bandpass_coeff(low_cutoff=18.5E3, high_cutoff=19.5E3, sample_rate=filtered_fs)\n",
    "freq, mag = compute_frequency_response(sos, filtered_fs)\n",
    "\n",
    "fig = go.Figure()\n",
    "fig.add_scatter(x=freq,y=mag)\n",
    "fig.show()\n"
   ]
  },
  {
   "cell_type": "code",
   "execution_count": null,
   "id": "6718d7d2",
   "metadata": {},
   "outputs": [],
   "source": [
    "band_passed_diff = filter_complex_signal(angle_diff, sos)\n",
    "\n",
    "pylab.figure(figsize=(5,5))\n",
    "freq, mag = compute_fft_plot_from_sample_rate(band_passed_diff, sampling_rate=filtered_fs)\n",
    "pylab.plot(freq, mag)\n",
    "pylab.show()"
   ]
  },
  {
   "cell_type": "code",
   "execution_count": null,
   "id": "01d0f1e8",
   "metadata": {},
   "outputs": [],
   "source": [
    "pylab.plot(band_passed_diff[:int(0.0075*filtered_fs)])"
   ]
  },
  {
   "cell_type": "code",
   "execution_count": null,
   "id": "429cb1e1",
   "metadata": {},
   "outputs": [],
   "source": [
    "import plotly.graph_objects as go"
   ]
  },
  {
   "cell_type": "code",
   "execution_count": null,
   "id": "babb73ff",
   "metadata": {},
   "outputs": [],
   "source": [
    "fig = go.Figure()\n",
    "fig.add_scatter(x=freq,y=mag)\n",
    "fig.show()"
   ]
  },
  {
   "cell_type": "code",
   "execution_count": null,
   "id": "7aa29b0a",
   "metadata": {},
   "outputs": [],
   "source": []
  },
  {
   "cell_type": "code",
   "execution_count": null,
   "id": "09fc4dce",
   "metadata": {},
   "outputs": [],
   "source": []
  },
  {
   "cell_type": "code",
   "execution_count": null,
   "id": "430afd88",
   "metadata": {},
   "outputs": [],
   "source": [
    "pylab.figure(figsize=(5,5))\n",
    "freq, mag = compute_fft_plot_from_sample_rate(signal, sampling_rate=fs, center_frequency=0)\n",
    "pylab.plot(freq, mag)\n",
    "pylab.show()"
   ]
  },
  {
   "cell_type": "code",
   "execution_count": null,
   "id": "painted-healing",
   "metadata": {},
   "outputs": [],
   "source": [
    "filtered_signal = filter_complex_signal(signal=signal, cutoff_frequency=75000, sample_rate=fs)\n",
    "\n",
    "angles = np.angle(filtered_signal)\n",
    "angle_diff = np.unwrap(np.diff(angles))\n",
    "\n",
    "wavfile.write('/home/dominic/radio/data/raw_filter_before_diff.wav', int(fs), angle_diff)"
   ]
  },
  {
   "cell_type": "code",
   "execution_count": null,
   "id": "5ab97c26",
   "metadata": {},
   "outputs": [],
   "source": [
    "filtered_signal = filter_complex_signal(signal=signal, cutoff_frequency=75000, sample_rate=fs)\n",
    "\n",
    "angles = np.angle(filtered_signal)\n",
    "angle_diff = np.unwrap(np.diff(angles))\n",
    "\n",
    "angle_diff_downsampled = angle_diff[::40]\n",
    "downsampled_fs = fs / 40\n",
    "\n",
    "wavfile.write('/home/dominic/radio/data/filter_before_diff_downsampled.wav', int(downsampled_fs), angle_diff_downsampled)"
   ]
  },
  {
   "cell_type": "code",
   "execution_count": null,
   "id": "10707c10",
   "metadata": {},
   "outputs": [],
   "source": [
    "filtered_signal = filter_complex_signal(signal=signal, cutoff_frequency=75000, sample_rate=fs)\n",
    "filtered_signal_downsampled = filtered_signal[::10]\n",
    "downsampled_fs = fs / 10\n",
    "\n",
    "angles = np.angle(filtered_signal_downsampled)\n",
    "angle_diff = np.unwrap(np.diff(angles))\n",
    "\n",
    "freq, mag = compute_fft_plot_from_sample_rate(angle_diff, sampling_rate=downsampled_fs, center_frequency=0)\n",
    "\n",
    "fig = go.Figure()\n",
    "fig.add_scatter(x=freq, y=mag)\n",
    "fig.show()\n",
    "\n",
    "wavfile.write('/home/dominic/radio/data/filter_downsampled_before_diff.wav', int(downsampled_fs), angle_diff)"
   ]
  },
  {
   "cell_type": "code",
   "execution_count": null,
   "id": "b47f1614",
   "metadata": {},
   "outputs": [],
   "source": [
    "filtered_signal = filter_complex_signal(signal=signal, cutoff_frequency=75000, sample_rate=fs)\n",
    "filtered_signal_downsampled = filtered_signal[::10]\n",
    "downsampled_fs = fs / 10\n",
    "\n",
    "angles = np.angle(filtered_signal_downsampled)\n",
    "angle_diff = np.unwrap(np.diff(angles))\n",
    "\n",
    "angle_diff_downsampled = angle_diff[::5]\n",
    "downsampled_fs = downsampled_fs / 5\n",
    "\n",
    "\n",
    "freq, mag = compute_fft_plot_from_sample_rate(angle_diff_downsampled, sampling_rate=downsampled_fs, center_frequency=0)\n",
    "\n",
    "fig = go.Figure()\n",
    "fig.add_scatter(x=freq, y=mag)\n",
    "fig.show()\n",
    "\n",
    "wavfile.write('/home/dominic/radio/data/filter_before_diff_double_downsampled.wav', int(downsampled_fs), angle_diff_downsampled)"
   ]
  },
  {
   "cell_type": "code",
   "execution_count": null,
   "id": "eaaf31ab",
   "metadata": {},
   "outputs": [],
   "source": [
    "filtered_signal = filter_complex_signal(signal=signal, cutoff_frequency=75000, sample_rate=fs)\n",
    "filtered_signal_downsampled = filtered_signal[::10]\n",
    "downsampled_fs = fs / 10\n",
    "\n",
    "angles = np.angle(filtered_signal_downsampled)\n",
    "angle_diff = np.diff(angles)\n",
    "\n",
    "angle_diff_downsampled = angle_diff[::5]\n",
    "downsampled_fs = downsampled_fs / 5\n",
    "\n",
    "\n",
    "freq, mag = compute_fft_plot_from_sample_rate(angle_diff_downsampled, sampling_rate=downsampled_fs, center_frequency=0)\n",
    "\n",
    "fig = go.Figure()\n",
    "fig.add_scatter(x=freq, y=mag)\n",
    "fig.show()\n",
    "\n",
    "wavfile.write('/home/dominic/radio/data/filter_before_diff_double_downsampled_no_unwrap.wav', int(downsampled_fs), angle_diff_downsampled)"
   ]
  },
  {
   "cell_type": "code",
   "execution_count": null,
   "id": "333264e0",
   "metadata": {},
   "outputs": [],
   "source": [
    "filtered_signal = filter_complex_signal(signal=signal, cutoff_frequency=75000, sample_rate=fs)\n",
    "filtered_signal_downsampled = filtered_signal[::10]\n",
    "downsampled_fs = fs / 10\n",
    "\n",
    "angles = np.angle(filtered_signal_downsampled)\n",
    "angle_diff = np.diff(angles)\n",
    "\n",
    "angle_diff[angle_diff < -np.pi] += 2*np.pi\n",
    "angle_diff[angle_diff > np.pi] -= 2*np.pi\n",
    "\n",
    "\n",
    "angle_diff_downsampled = angle_diff[::5]\n",
    "downsampled_fs = downsampled_fs / 5\n",
    "\n",
    "\n",
    "freq, mag = compute_fft_plot_from_sample_rate(angle_diff_downsampled, sampling_rate=downsampled_fs, center_frequency=0)\n",
    "\n",
    "fig = go.Figure()\n",
    "fig.add_scatter(x=freq, y=mag)\n",
    "fig.show()\n",
    "\n",
    "wavfile.write('/home/dominic/radio/data/filter_before_diff_double_downsampled_cust_unwrap.wav', int(downsampled_fs), angle_diff_downsampled)"
   ]
  },
  {
   "cell_type": "code",
   "execution_count": null,
   "id": "be5aa20a",
   "metadata": {},
   "outputs": [],
   "source": []
  },
  {
   "cell_type": "code",
   "execution_count": null,
   "id": "90720c55",
   "metadata": {},
   "outputs": [],
   "source": []
  },
  {
   "cell_type": "code",
   "execution_count": null,
   "id": "700cbba2",
   "metadata": {},
   "outputs": [],
   "source": []
  },
  {
   "cell_type": "code",
   "execution_count": null,
   "id": "b609e34b",
   "metadata": {},
   "outputs": [],
   "source": []
  },
  {
   "cell_type": "code",
   "execution_count": null,
   "id": "c26efa6b",
   "metadata": {},
   "outputs": [],
   "source": [
    "angles = np.angle(signal)\n",
    "angle_diff = np.unwrap(np.diff(angles))\n",
    "\n",
    "wavfile.write('/home/dominic/radio/data/no_filter_full_rate.wav', int(fs), angle_diff)"
   ]
  },
  {
   "cell_type": "code",
   "execution_count": null,
   "id": "560aa2b8",
   "metadata": {},
   "outputs": [],
   "source": [
    "angles = np.angle(signal)\n",
    "angle_diff = np.unwrap(np.diff(angles))\n",
    "\n",
    "filtered_signal = filter_real_signal(signal=angle_diff, cutoff_frequency=20000, sample_rate=fs)\n",
    "filtered_signal_downsampled = filtered_signal[::40]\n",
    "downsampled_fs = fs / 40\n",
    "\n",
    "\n",
    "wavfile.write('/home/dominic/radio/data/filter_after_diff.wav', int(downsampled_fs), filtered_signal_downsampled)"
   ]
  },
  {
   "cell_type": "code",
   "execution_count": null,
   "id": "df01448e",
   "metadata": {},
   "outputs": [],
   "source": [
    "filtered_signal = filter_complex_signal(signal=signal, cutoff_frequency=75000, sample_rate=fs)\n",
    "\n",
    "angles = np.angle(filtered_signal)\n",
    "angle_diff = np.unwrap(np.diff(angles))\n",
    "\n",
    "filtered_signal = filter_real_signal(signal=angle_diff, cutoff_frequency=20000, sample_rate=fs)\n",
    "filtered_signal_downsampled = filtered_signal[::40]\n",
    "downsampled_fs = fs / 40\n",
    "\n",
    "\n",
    "wavfile.write('/home/dominic/radio/data/filter_both_diff.wav', int(downsampled_fs), filtered_signal_downsampled)"
   ]
  },
  {
   "cell_type": "code",
   "execution_count": null,
   "id": "7357bac2",
   "metadata": {},
   "outputs": [],
   "source": [
    "filtered_signal = filter_complex_signal(signal=signal, cutoff_frequency=75000, sample_rate=fs)\n",
    "\n",
    "angles = np.angle(filtered_signal)\n",
    "angle_diff = np.diff(angles)\n",
    "\n",
    "filtered_signal = filter_real_signal(signal=angle_diff, cutoff_frequency=20000, sample_rate=fs)\n",
    "filtered_signal_downsampled = filtered_signal[::40]\n",
    "downsampled_fs = fs / 40\n",
    "\n",
    "\n",
    "wavfile.write('/home/dominic/radio/data/filter_both_diff_no_unwrap.wav', int(downsampled_fs), filtered_signal_downsampled)"
   ]
  },
  {
   "cell_type": "code",
   "execution_count": null,
   "id": "6de8644c",
   "metadata": {},
   "outputs": [],
   "source": []
  },
  {
   "cell_type": "code",
   "execution_count": null,
   "id": "abf09497",
   "metadata": {},
   "outputs": [],
   "source": []
  },
  {
   "cell_type": "code",
   "execution_count": null,
   "id": "8414de49",
   "metadata": {},
   "outputs": [],
   "source": []
  },
  {
   "cell_type": "code",
   "execution_count": null,
   "id": "199ec613",
   "metadata": {},
   "outputs": [],
   "source": []
  },
  {
   "cell_type": "code",
   "execution_count": null,
   "id": "5ba52d77",
   "metadata": {},
   "outputs": [],
   "source": []
  },
  {
   "cell_type": "code",
   "execution_count": null,
   "id": "2406379f",
   "metadata": {},
   "outputs": [],
   "source": []
  },
  {
   "cell_type": "code",
   "execution_count": null,
   "id": "express-garbage",
   "metadata": {},
   "outputs": [],
   "source": [
    "pylab.figure(figsize=(5,5))\n",
    "\n",
    "pylab.psd(filtered_signal_downsampled, NFFT=1024, Fs=downsampled_fs, Fc=center_frequency)\n",
    "pylab.xlabel('Frequency (MHz)')\n",
    "pylab.ylabel('Relative power (dB)')\n",
    "\n",
    "pylab.show()"
   ]
  },
  {
   "cell_type": "code",
   "execution_count": null,
   "id": "narrative-protection",
   "metadata": {},
   "outputs": [],
   "source": [
    "pylab.figure(figsize=(5,5))\n",
    "freq, mag = compute_fft_plot_from_sample_rate(filtered_signal_downsampled, sampling_rate=downsampled_fs, center_frequency=0)\n",
    "pylab.plot(freq, mag)\n",
    "pylab.show()"
   ]
  },
  {
   "cell_type": "code",
   "execution_count": null,
   "id": "similar-australian",
   "metadata": {},
   "outputs": [],
   "source": [
    "angles = np.angle(filtered_signal)\n",
    "# Difference the phase angle and convert to +/-pi range.\n",
    "angle_diff = np.unwrap(np.diff(angles))"
   ]
  },
  {
   "cell_type": "code",
   "execution_count": null,
   "id": "nominated-secretariat",
   "metadata": {},
   "outputs": [],
   "source": [
    "pylab.figure()\n",
    "\n",
    "freq, mag = compute_fft_plot_from_sample_rate(angle_diff, sampling_rate=downsampled_fs, center_frequency=0)\n",
    "\n",
    "pylab.plot(freq, mag)\n",
    "\n",
    "pylab.show()"
   ]
  },
  {
   "cell_type": "code",
   "execution_count": null,
   "id": "national-louis",
   "metadata": {},
   "outputs": [],
   "source": [
    "filtered_angle_diff = filter_real_signal(signal=angle_diff, cutoff_frequency=20e3, sample_rate=fs)\n",
    "\n",
    "\n",
    "# pylab.figure()\n",
    "\n",
    "# freq, mag = compute_fft_plot_from_sample_rate(filtered_angle_diff, sampling_rate=fs, center_frequency=0)\n",
    "\n",
    "# pylab.plot(freq, mag)\n",
    "\n",
    "# pylab.show()"
   ]
  },
  {
   "cell_type": "code",
   "execution_count": null,
   "id": "immediate-cache",
   "metadata": {},
   "outputs": [],
   "source": [
    "angle_diff_downsampled = filtered_angle_diff[::25]\n",
    "angle_diff_downsampled_fs = fs/25\n",
    "\n",
    "# pylab.figure()\n",
    "\n",
    "# freq, mag = compute_fft_plot_from_sample_rate(angle_diff_downsampled, sampling_rate=angle_diff_downsampled_fs, center_frequency=0)\n",
    "\n",
    "# pylab.plot(freq, mag)\n",
    "\n",
    "# pylab.show()"
   ]
  },
  {
   "cell_type": "code",
   "execution_count": null,
   "id": "beautiful-arthur",
   "metadata": {},
   "outputs": [],
   "source": [
    "wavfile.write('/home/dominic/radio/data/test.wav', int(downsampled_fs), filtered_angle_diff)"
   ]
  },
  {
   "cell_type": "code",
   "execution_count": null,
   "id": "tamil-madrid",
   "metadata": {},
   "outputs": [],
   "source": [
    "pylab.figure()\n",
    "pylab.plot(angle_diff_downsampled[:int(angle_diff_downsampled_fs*0.01)])\n",
    "pylab.show()"
   ]
  },
  {
   "cell_type": "code",
   "execution_count": null,
   "id": "45bf098f",
   "metadata": {},
   "outputs": [],
   "source": []
  },
  {
   "cell_type": "code",
   "execution_count": null,
   "id": "018157d6",
   "metadata": {},
   "outputs": [],
   "source": []
  },
  {
   "cell_type": "code",
   "execution_count": null,
   "id": "brief-ferry",
   "metadata": {},
   "outputs": [],
   "source": [
    "angle_diff_alt = np.diff(angles)\n",
    "\n",
    "filtered_angle_diff_alt = filter_real_signal(signal=angle_diff_alt, cutoff_frequency=20e3, sample_rate=fs)\n",
    "angle_diff_downsampled_alt = filtered_angle_diff_alt[::25]\n",
    "angle_diff_downsampled_fs_alt = fs/25\n"
   ]
  },
  {
   "cell_type": "code",
   "execution_count": null,
   "id": "careful-night",
   "metadata": {},
   "outputs": [],
   "source": [
    "pylab.figure()\n",
    "pylab.plot(angle_diff_downsampled_alt[:int(angle_diff_downsampled_fs_alt*0.01)])\n",
    "pylab.show()"
   ]
  },
  {
   "cell_type": "code",
   "execution_count": null,
   "id": "awful-injury",
   "metadata": {},
   "outputs": [],
   "source": [
    "wavfile.write('/home/dominic/radio/data/test_alt.wav', int(angle_diff_downsampled_fs_alt), angle_diff_downsampled_alt)"
   ]
  },
  {
   "cell_type": "code",
   "execution_count": null,
   "id": "0de9a27b",
   "metadata": {},
   "outputs": [],
   "source": [
    "test = np.diff(angles)\n",
    "test_unwrap = np.unwrap(np.diff(angles))\n",
    "\n",
    "test_diff = (test - test_unwrap) > 1e-4"
   ]
  },
  {
   "cell_type": "code",
   "execution_count": null,
   "id": "dc7e2397",
   "metadata": {},
   "outputs": [],
   "source": [
    "np.sum(test_diff) / float(len(test_diff))"
   ]
  },
  {
   "cell_type": "code",
   "execution_count": null,
   "id": "7d16d3f6",
   "metadata": {},
   "outputs": [],
   "source": [
    "test_diff[1000:1010]"
   ]
  },
  {
   "cell_type": "code",
   "execution_count": null,
   "id": "9625b034",
   "metadata": {},
   "outputs": [],
   "source": [
    "test[1000:1010]"
   ]
  },
  {
   "cell_type": "code",
   "execution_count": null,
   "id": "e89b0461",
   "metadata": {},
   "outputs": [],
   "source": [
    "test_unwrap[1000:1010]"
   ]
  },
  {
   "cell_type": "code",
   "execution_count": null,
   "id": "97c4a041",
   "metadata": {},
   "outputs": [],
   "source": [
    "np.where(test_diff)"
   ]
  },
  {
   "cell_type": "code",
   "execution_count": null,
   "id": "7ab0549b",
   "metadata": {},
   "outputs": [],
   "source": [
    "test[63], test_unwrap[63]"
   ]
  },
  {
   "cell_type": "code",
   "execution_count": null,
   "id": "39459fa8",
   "metadata": {},
   "outputs": [],
   "source": []
  },
  {
   "cell_type": "code",
   "execution_count": null,
   "id": "a34e20cd",
   "metadata": {},
   "outputs": [],
   "source": [
    "test = np.diff(angles)\n",
    "test_unwrap = np.unwrap(test)\n",
    "\n",
    "\n",
    "\n",
    "test_alt = test.copy()\n",
    "test_alt[test_alt > 2*np.pi] -= 2*np.pi\n",
    "test_alt[test_alt < -2*np.pi] += 2*np.pi\n",
    "\n",
    "test_alt_diff = (test_alt - test_unwrap) > 1e-4\n",
    "np.sum(test_alt_diff) / float(len(test_alt_diff))"
   ]
  },
  {
   "cell_type": "code",
   "execution_count": null,
   "id": "e66fa6c2",
   "metadata": {},
   "outputs": [],
   "source": [
    "len(test) / 30, fs"
   ]
  },
  {
   "cell_type": "code",
   "execution_count": null,
   "id": "949bf866",
   "metadata": {},
   "outputs": [],
   "source": [
    "wavfile.write('/home/dominic/radio/data/test_raw.wav', int(fs), test)\n",
    "wavfile.write('/home/dominic/radio/data/test_unwrapped.wav', int(fs), test_unwrap)\n",
    "wavfile.write('/home/dominic/radio/data/test_mod2pi.wav', int(fs), test_alt)"
   ]
  },
  {
   "cell_type": "code",
   "execution_count": null,
   "id": "cd6c3edf",
   "metadata": {},
   "outputs": [],
   "source": [
    "pylab.figure()\n",
    "freq, mag = compute_fft_plot_from_sample_rate(test, sampling_rate=fs, center_frequency=0)\n",
    "pylab.plot(freq, mag)\n",
    "pylab.show()"
   ]
  },
  {
   "cell_type": "code",
   "execution_count": null,
   "id": "78f18bda",
   "metadata": {},
   "outputs": [],
   "source": [
    "pylab.figure()\n",
    "freq, mag = compute_fft_plot_from_sample_rate(test_unwrap, sampling_rate=fs, center_frequency=0)\n",
    "pylab.plot(freq, mag)\n",
    "pylab.show()"
   ]
  },
  {
   "cell_type": "code",
   "execution_count": null,
   "id": "1c73804b",
   "metadata": {},
   "outputs": [],
   "source": [
    "pylab.figure()\n",
    "freq, mag = compute_fft_plot_from_sample_rate(test_alt, sampling_rate=fs, center_frequency=0)\n",
    "pylab.plot(freq, mag)\n",
    "pylab.show()"
   ]
  },
  {
   "cell_type": "code",
   "execution_count": null,
   "id": "da81015b",
   "metadata": {},
   "outputs": [],
   "source": []
  },
  {
   "cell_type": "code",
   "execution_count": null,
   "id": "8cba7348",
   "metadata": {},
   "outputs": [],
   "source": []
  },
  {
   "cell_type": "code",
   "execution_count": null,
   "id": "5cb587e7",
   "metadata": {},
   "outputs": [],
   "source": [
    "np.where(test_alt_diff)"
   ]
  },
  {
   "cell_type": "code",
   "execution_count": null,
   "id": "d14a7a17",
   "metadata": {},
   "outputs": [],
   "source": [
    "2*np.pi"
   ]
  },
  {
   "cell_type": "code",
   "execution_count": null,
   "id": "b8ca804a",
   "metadata": {},
   "outputs": [],
   "source": [
    "test_alt[63]"
   ]
  },
  {
   "cell_type": "code",
   "execution_count": null,
   "id": "1bb3f27f",
   "metadata": {},
   "outputs": [],
   "source": [
    "test[63]"
   ]
  },
  {
   "cell_type": "code",
   "execution_count": null,
   "id": "339add5f",
   "metadata": {},
   "outputs": [],
   "source": [
    "test_unwrap[63]"
   ]
  },
  {
   "cell_type": "code",
   "execution_count": null,
   "id": "fbca6d79",
   "metadata": {},
   "outputs": [],
   "source": []
  },
  {
   "cell_type": "code",
   "execution_count": null,
   "id": "e72a4d94",
   "metadata": {},
   "outputs": [],
   "source": []
  },
  {
   "cell_type": "code",
   "execution_count": null,
   "id": "744ec950",
   "metadata": {},
   "outputs": [],
   "source": []
  },
  {
   "cell_type": "code",
   "execution_count": null,
   "id": "81554d29",
   "metadata": {},
   "outputs": [],
   "source": []
  },
  {
   "cell_type": "code",
   "execution_count": null,
   "id": "64b06875",
   "metadata": {},
   "outputs": [],
   "source": []
  },
  {
   "cell_type": "code",
   "execution_count": null,
   "id": "suitable-development",
   "metadata": {},
   "outputs": [],
   "source": [
    "fs = 2048000\n",
    "center_frequency = 98500000\n",
    "\n",
    "signal = read_sdriq_data(\"/home/dominic/radio/data/long_test.sdriq\")\n",
    "\n",
    "audio_signal, audio_signal_fs = chunked_demodulate_signal(signal, sample_rate=fs)\n",
    "# wavfile.write('/home/dominic/radio/data/test.wav', int(audio_signal_fs), audio_signal)"
   ]
  },
  {
   "cell_type": "code",
   "execution_count": null,
   "id": "standard-addiction",
   "metadata": {},
   "outputs": [],
   "source": [
    "np.min(audio_signal), np.max(audio_signal), np.mean(audio_signal)"
   ]
  },
  {
   "cell_type": "code",
   "execution_count": null,
   "id": "brilliant-craft",
   "metadata": {},
   "outputs": [],
   "source": []
  },
  {
   "cell_type": "code",
   "execution_count": null,
   "id": "secret-nicholas",
   "metadata": {},
   "outputs": [],
   "source": [
    "np.round(test_floats).astype(int)"
   ]
  },
  {
   "cell_type": "code",
   "execution_count": null,
   "id": "authentic-bibliography",
   "metadata": {},
   "outputs": [],
   "source": [
    "import numpy as np\n",
    "import struct"
   ]
  },
  {
   "cell_type": "code",
   "execution_count": null,
   "id": "oriental-collect",
   "metadata": {},
   "outputs": [],
   "source": [
    "test_ints = np.random.randint(-65, 65, size=(100,))\n",
    "\n",
    "test_ints = np.random.randint(-65, 65, size=(100,))\n"
   ]
  },
  {
   "cell_type": "code",
   "execution_count": null,
   "id": "informative-relevance",
   "metadata": {},
   "outputs": [],
   "source": [
    "format_string = \">b\"  # big endian encoding of signed 8 bit integers\n",
    "test_bytes = [struct.pack(format_string, i) for i in test_ints]"
   ]
  },
  {
   "cell_type": "code",
   "execution_count": null,
   "id": "right-consultancy",
   "metadata": {},
   "outputs": [],
   "source": [
    "test_bytes[0]"
   ]
  },
  {
   "cell_type": "code",
   "execution_count": null,
   "id": "located-psychology",
   "metadata": {},
   "outputs": [],
   "source": [
    "0xC0"
   ]
  },
  {
   "cell_type": "code",
   "execution_count": null,
   "id": "established-probability",
   "metadata": {},
   "outputs": [],
   "source": [
    "2**7"
   ]
  },
  {
   "cell_type": "code",
   "execution_count": null,
   "id": "devoted-output",
   "metadata": {},
   "outputs": [],
   "source": []
  },
  {
   "cell_type": "code",
   "execution_count": null,
   "id": "funny-occasion",
   "metadata": {},
   "outputs": [],
   "source": []
  },
  {
   "cell_type": "code",
   "execution_count": null,
   "id": "accurate-orbit",
   "metadata": {},
   "outputs": [],
   "source": []
  },
  {
   "cell_type": "code",
   "execution_count": null,
   "id": "equipped-mistress",
   "metadata": {},
   "outputs": [],
   "source": []
  },
  {
   "cell_type": "code",
   "execution_count": null,
   "id": "democratic-digest",
   "metadata": {},
   "outputs": [],
   "source": [
    "from scipy import signal\n",
    "# from scipy.fft import fftshift\n",
    "import matplotlib.pyplot as plt"
   ]
  },
  {
   "cell_type": "code",
   "execution_count": null,
   "id": "dedicated-uganda",
   "metadata": {},
   "outputs": [],
   "source": [
    "fs = 100\n",
    "total_time = 10\n",
    "time = np.linspace(0, total_time, fs*total_time)"
   ]
  },
  {
   "cell_type": "code",
   "execution_count": null,
   "id": "urban-mumbai",
   "metadata": {},
   "outputs": [],
   "source": [
    "frequency = 10.0\n",
    "values = np.cos(2*np.pi * frequency * time)"
   ]
  },
  {
   "cell_type": "code",
   "execution_count": null,
   "id": "quiet-bronze",
   "metadata": {},
   "outputs": [],
   "source": [
    "f, t, Sxx = signal.spectrogram(values, fs=fs)\n",
    "\n",
    "plt.pcolormesh(t, f, Sxx, shading='gouraud')\n",
    "plt.ylabel('Frequency [Hz]')\n",
    "plt.xlabel('Time [sec]')\n",
    "plt.show()"
   ]
  },
  {
   "cell_type": "code",
   "execution_count": null,
   "id": "involved-genesis",
   "metadata": {},
   "outputs": [],
   "source": []
  },
  {
   "cell_type": "code",
   "execution_count": null,
   "id": "fabulous-majority",
   "metadata": {},
   "outputs": [],
   "source": []
  },
  {
   "cell_type": "code",
   "execution_count": null,
   "id": "magnetic-courtesy",
   "metadata": {},
   "outputs": [],
   "source": [
    "values_sum = values + np.cos(2*np.pi * frequency*1.5 * time)\n",
    "\n",
    "f, t, Sxx = signal.spectrogram(values_sum, fs=fs)\n",
    "\n",
    "plt.pcolormesh(t, f, Sxx, shading='gouraud')\n",
    "plt.ylabel('Frequency [Hz]')\n",
    "plt.xlabel('Time [sec]')\n",
    "plt.show()"
   ]
  },
  {
   "cell_type": "code",
   "execution_count": null,
   "id": "diagnostic-edinburgh",
   "metadata": {},
   "outputs": [],
   "source": []
  },
  {
   "cell_type": "code",
   "execution_count": null,
   "id": "organized-earth",
   "metadata": {},
   "outputs": [],
   "source": [
    "values = np.cos(2*np.pi * frequency * time)\n",
    "values_mult = values * np.cos(2*np.pi * 5 * time)\n",
    "\n",
    "\n",
    "f, t, Sxx = signal.spectrogram(values_mult, fs=fs)\n",
    "\n",
    "plt.pcolormesh(t, f, Sxx, shading='gouraud')\n",
    "plt.ylabel('Frequency [Hz]')\n",
    "plt.xlabel('Time [sec]')\n",
    "plt.show()"
   ]
  },
  {
   "cell_type": "code",
   "execution_count": null,
   "id": "bright-stockholm",
   "metadata": {},
   "outputs": [],
   "source": []
  },
  {
   "cell_type": "code",
   "execution_count": null,
   "id": "imperial-uniform",
   "metadata": {},
   "outputs": [],
   "source": [
    "values = np.cos(2*np.pi * frequency * time)\n",
    "conv = np.power(np.e, 2j*np.pi*frequency*time)\n",
    "values_mult = values * np.cos(2*np.pi * 5 * time)\n",
    "\n",
    "\n",
    "f, t, Sxx = signal.spectrogram(values_mult, fs=fs)\n",
    "\n",
    "plt.pcolormesh(t, f, Sxx, shading='gouraud')\n",
    "plt.ylabel('Frequency [Hz]')\n",
    "plt.xlabel('Time [sec]')\n",
    "plt.show()"
   ]
  },
  {
   "cell_type": "code",
   "execution_count": null,
   "id": "alien-conclusion",
   "metadata": {},
   "outputs": [],
   "source": [
    "np.e"
   ]
  },
  {
   "cell_type": "code",
   "execution_count": null,
   "id": "dietary-caribbean",
   "metadata": {},
   "outputs": [],
   "source": [
    "np.power(np.e, np.pi * 1j)"
   ]
  },
  {
   "cell_type": "code",
   "execution_count": null,
   "id": "peaceful-shirt",
   "metadata": {},
   "outputs": [],
   "source": [
    "np.power(np.e, )"
   ]
  },
  {
   "cell_type": "code",
   "execution_count": null,
   "id": "quarterly-amsterdam",
   "metadata": {},
   "outputs": [],
   "source": [
    "\n"
   ]
  },
  {
   "cell_type": "code",
   "execution_count": null,
   "id": "referenced-civilization",
   "metadata": {},
   "outputs": [],
   "source": [
    "values = np.cos(2*np.pi * frequency * time)\n",
    "\n",
    "\n",
    "pylab.figure()\n",
    "\n",
    "freq, mag = compute_fft_plot_from_sample_rate(values, sampling_rate=fs, center_frequency=0)\n",
    "\n",
    "pylab.plot(freq, mag)\n",
    "\n",
    "pylab.show()"
   ]
  },
  {
   "cell_type": "code",
   "execution_count": null,
   "id": "tropical-lesbian",
   "metadata": {},
   "outputs": [],
   "source": [
    "values = np.cos(2*np.pi * frequency * time)\n",
    "conv = np.power(np.e, 2j*np.pi*frequency*time) # + np.power(np.e, -2j*np.pi*frequency*time)\n",
    "values_mult = values * conv\n",
    "\n",
    "\n",
    "\n",
    "pylab.figure()\n",
    "freq, mag = compute_fft_plot_from_sample_rate(values_mult, sampling_rate=fs, center_frequency=0)\n",
    "pylab.plot(np.fft.fftshift(freq), np.fft.fftshift(mag))\n",
    "pylab.show()"
   ]
  },
  {
   "cell_type": "code",
   "execution_count": null,
   "id": "consolidated-album",
   "metadata": {},
   "outputs": [],
   "source": [
    "conv = np.power(np.e, -2j*np.pi*frequency*time)\n",
    "values_mult_alt = values_mult * conv\n",
    "\n",
    "\n",
    "pylab.figure()\n",
    "freq, mag = compute_fft_plot_from_sample_rate(values_mult_alt, sampling_rate=fs, center_frequency=0)\n",
    "pylab.plot(np.fft.fftshift(freq), np.fft.fftshift(mag))\n",
    "pylab.show()"
   ]
  },
  {
   "cell_type": "code",
   "execution_count": null,
   "id": "faced-bunch",
   "metadata": {},
   "outputs": [],
   "source": [
    "np.abs(conv)"
   ]
  },
  {
   "cell_type": "code",
   "execution_count": null,
   "id": "efficient-thriller",
   "metadata": {},
   "outputs": [],
   "source": []
  },
  {
   "cell_type": "code",
   "execution_count": null,
   "id": "twelve-blanket",
   "metadata": {},
   "outputs": [],
   "source": []
  },
  {
   "cell_type": "code",
   "execution_count": null,
   "id": "prime-girlfriend",
   "metadata": {},
   "outputs": [],
   "source": [
    "pylab.figure()\n",
    "\n",
    "freq, mag = compute_fft_plot_from_sample_rate(values, sampling_rate=fs, center_frequency=0)\n",
    "\n",
    "pylab.plot(freq, mag)\n",
    "\n",
    "pylab.show()"
   ]
  },
  {
   "cell_type": "code",
   "execution_count": null,
   "id": "a5e8aa1c",
   "metadata": {},
   "outputs": [],
   "source": []
  },
  {
   "cell_type": "code",
   "execution_count": null,
   "id": "bb0fb9cc",
   "metadata": {},
   "outputs": [],
   "source": []
  },
  {
   "cell_type": "code",
   "execution_count": null,
   "id": "85f8ed1d",
   "metadata": {},
   "outputs": [],
   "source": []
  },
  {
   "cell_type": "code",
   "execution_count": null,
   "id": "0731b1bd",
   "metadata": {},
   "outputs": [],
   "source": [
    "from util.demodulation import chunked_demodulate_signal"
   ]
  },
  {
   "cell_type": "code",
   "execution_count": null,
   "id": "e598fdfa",
   "metadata": {},
   "outputs": [],
   "source": [
    "fs = 2048000\n",
    "center_frequency = 98500000\n",
    "\n",
    "signal = read_sdriq_data(\"/home/dominic/radio/data/long_test.sdriq\")\n",
    "len(signal) / fs"
   ]
  },
  {
   "cell_type": "code",
   "execution_count": null,
   "id": "b2a19f66",
   "metadata": {},
   "outputs": [],
   "source": [
    "audio, audio_fs = chunked_demodulate_signal(signal, fs)"
   ]
  },
  {
   "cell_type": "code",
   "execution_count": null,
   "id": "140b9351",
   "metadata": {},
   "outputs": [],
   "source": [
    "wavfile.write(\"data/test_long_decode_update.wav\", int(audio_fs), audio)"
   ]
  },
  {
   "cell_type": "code",
   "execution_count": null,
   "id": "de0fa56f",
   "metadata": {},
   "outputs": [],
   "source": [
    "audio_fs"
   ]
  },
  {
   "cell_type": "code",
   "execution_count": null,
   "id": "4718f7fc",
   "metadata": {},
   "outputs": [],
   "source": [
    "import matplotlib.pyplot as plt"
   ]
  },
  {
   "cell_type": "code",
   "execution_count": null,
   "id": "267864a3",
   "metadata": {},
   "outputs": [],
   "source": [
    "fs = 1920E3\n",
    "center_frequency = 446E6\n",
    "\n",
    "signal = read_sdriq_data(\"/home/dominic/radio/data/ben_handheld_radio_test_center_446MHz_sample_1920KHz.raw\")\n",
    "signal = signal[int(fs*15):int(fs*25)]\n",
    "len(signal) / fs"
   ]
  },
  {
   "cell_type": "code",
   "execution_count": null,
   "id": "9739058d",
   "metadata": {},
   "outputs": [],
   "source": [
    "audio, audio_fs = chunked_demodulate_signal(signal, fs)"
   ]
  },
  {
   "cell_type": "code",
   "execution_count": null,
   "id": "777d442e",
   "metadata": {},
   "outputs": [],
   "source": [
    "wavfile.write(\"data/ben_handheld_radio_test.wav\", int(audio_fs), audio)"
   ]
  },
  {
   "cell_type": "code",
   "execution_count": null,
   "id": "57b1e55a",
   "metadata": {},
   "outputs": [],
   "source": [
    "plt.specgram(signal, Fs=fs)"
   ]
  },
  {
   "cell_type": "code",
   "execution_count": null,
   "id": "3ba1c723",
   "metadata": {},
   "outputs": [],
   "source": [
    "pylab.figure()\n",
    "freq, mag = compute_fft_plot_from_sample_rate(signal, sampling_rate=fs, center_frequency=0)\n",
    "pylab.plot(freq, mag)\n",
    "pylab.show()"
   ]
  },
  {
   "cell_type": "code",
   "execution_count": null,
   "id": "ff053852",
   "metadata": {},
   "outputs": [],
   "source": [
    "filtered_signal = low_pass_filter_complex_signal(signal=signal, cutoff_frequency=25E3, sample_rate=fs)\n",
    "filtered_fs = fs / 20\n",
    "filtered_signal = filtered_signal[::20]"
   ]
  },
  {
   "cell_type": "code",
   "execution_count": null,
   "id": "b634ed32",
   "metadata": {},
   "outputs": [],
   "source": [
    "filtered_fs"
   ]
  },
  {
   "cell_type": "code",
   "execution_count": null,
   "id": "68182e8b",
   "metadata": {},
   "outputs": [],
   "source": [
    "pylab.figure()\n",
    "freq, mag = compute_fft_plot_from_sample_rate(filtered_signal, sampling_rate=filtered_fs, center_frequency=0)\n",
    "pylab.plot(freq, mag)\n",
    "pylab.show()"
   ]
  },
  {
   "cell_type": "code",
   "execution_count": null,
   "id": "e6450733",
   "metadata": {},
   "outputs": [],
   "source": [
    "angle_diff = np.angle(\n",
    "    np.conjugate(filtered_signal[:-1]) * filtered_signal[1:]\n",
    ")\n"
   ]
  },
  {
   "cell_type": "code",
   "execution_count": null,
   "id": "491d2626",
   "metadata": {},
   "outputs": [],
   "source": [
    "pylab.figure()\n",
    "freq, mag = compute_fft_plot_from_sample_rate(angle_diff, sampling_rate=filtered_fs, center_frequency=0)\n",
    "pylab.plot(freq, mag)\n",
    "pylab.show()"
   ]
  },
  {
   "cell_type": "code",
   "execution_count": null,
   "id": "bd58eaf0",
   "metadata": {},
   "outputs": [],
   "source": [
    "wavfile.write(\"data/ben_handheld_radio_test.wav\", int(filtered_fs), angle_diff)"
   ]
  },
  {
   "cell_type": "code",
   "execution_count": null,
   "id": "dee469f1",
   "metadata": {},
   "outputs": [],
   "source": [
    "plt.psd(signal, Fs=fs)"
   ]
  },
  {
   "cell_type": "code",
   "execution_count": null,
   "id": "7c4c23be",
   "metadata": {},
   "outputs": [],
   "source": [
    "plt.psd(filtered_signal, Fs=filtered_fs)"
   ]
  },
  {
   "cell_type": "code",
   "execution_count": null,
   "id": "adae6538",
   "metadata": {},
   "outputs": [],
   "source": []
  }
 ],
 "metadata": {
  "kernelspec": {
   "display_name": "Python 3",
   "language": "python",
   "name": "python3"
  }
 },
 "nbformat": 4,
 "nbformat_minor": 5
}
