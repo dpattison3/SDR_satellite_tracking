{
 "cells": [
  {
   "cell_type": "code",
   "execution_count": null,
   "id": "random-indonesia",
   "metadata": {},
   "outputs": [],
   "source": [
    "from rtlsdr import RtlSdr\n",
    "import pylab\n",
    "\n",
    "\n",
    "%matplotlib widget"
   ]
  },
  {
   "cell_type": "code",
   "execution_count": null,
   "id": "vanilla-adventure",
   "metadata": {},
   "outputs": [],
   "source": [
    "# NOTE(dominic): This is super lame, but iptyhon kernels are running in the directory they are\n",
    "# contained. That means, we cannot access any other sub-modules from within these notebooks.\n",
    "# We resolve this by temporarily adding the parent directory to the path.\n",
    "\n",
    "import os\n",
    "import sys\n",
    "sys.path.insert(0, os.path.abspath('..'))\n",
    "\n",
    "\n",
    "from util.plotting import compute_fft_plot, compute_fft_plot_from_sample_rate, compute_frequency_response\n",
    "from util.filtering import compute_lpf_coeff, filter_complex_signal, filter_real_signal\n",
    "from util.data_io import read_sdriq_data\n",
    "from util.demodulation import demodulate_signal, chunked_demodulate_signal"
   ]
  },
  {
   "cell_type": "code",
   "execution_count": null,
   "id": "fifteen-provincial",
   "metadata": {},
   "outputs": [],
   "source": [
    "import numpy as np\n",
    "from scipy.io import wavfile"
   ]
  },
  {
   "cell_type": "code",
   "execution_count": null,
   "id": "paperback-turkey",
   "metadata": {},
   "outputs": [],
   "source": [
    "fs = 2048000\n",
    "center_frequency = 98500000\n",
    "\n",
    "signal = read_sdriq_data(\"/home/dominic/radio/long_test.sdriq\")"
   ]
  },
  {
   "cell_type": "code",
   "execution_count": null,
   "id": "posted-industry",
   "metadata": {},
   "outputs": [],
   "source": [
    "pylab.figure(figsize=(5,5))\n",
    "\n",
    "pylab.psd(signal, NFFT=1024, Fs=fs, Fc=center_frequency)\n",
    "pylab.xlabel('Frequency (MHz)')\n",
    "pylab.ylabel('Relative power (dB)')\n",
    "\n",
    "pylab.show()"
   ]
  },
  {
   "cell_type": "code",
   "execution_count": null,
   "id": "caring-study",
   "metadata": {},
   "outputs": [],
   "source": [
    "pylab.figure(figsize=(5,5))\n",
    "\n",
    "freq, mag = compute_fft_plot_from_sample_rate(signal, sampling_rate=fs, center_frequency=98500000)\n",
    "\n",
    "pylab.plot(freq, mag)\n",
    "\n",
    "pylab.show()"
   ]
  },
  {
   "cell_type": "code",
   "execution_count": null,
   "id": "eleven-executive",
   "metadata": {},
   "outputs": [],
   "source": [
    "sos = compute_lpf_coeff(cutoff_frequency=75000, sample_rate=fs)\n",
    "\n",
    "frequencies, magnitudes = compute_frequency_response(sos, fs)\n",
    "\n",
    "pylab.figure(figsize=(5,5))\n",
    "pylab.plot(frequencies, magnitudes)\n",
    "pylab.show()"
   ]
  },
  {
   "cell_type": "code",
   "execution_count": null,
   "id": "automotive-cargo",
   "metadata": {},
   "outputs": [],
   "source": [
    "filtered_signal = filter_complex_signal(signal=signal, cutoff_frequency=75000, sample_rate=fs)"
   ]
  },
  {
   "cell_type": "code",
   "execution_count": null,
   "id": "attempted-destiny",
   "metadata": {},
   "outputs": [],
   "source": [
    "pylab.figure(figsize=(5,5))\n",
    "\n",
    "pylab.psd(filtered_signal, NFFT=1024, Fs=fs, Fc=center_frequency)\n",
    "pylab.xlabel('Frequency (MHz)')\n",
    "pylab.ylabel('Relative power (dB)')\n",
    "\n",
    "pylab.show()"
   ]
  },
  {
   "cell_type": "code",
   "execution_count": null,
   "id": "industrial-immunology",
   "metadata": {},
   "outputs": [],
   "source": [
    "pylab.figure(figsize=(5,5))\n",
    "\n",
    "freq, mag = compute_fft_plot_from_sample_rate(filtered_signal, sampling_rate=fs, center_frequency=center_frequency)\n",
    "\n",
    "pylab.plot(freq, mag)\n",
    "\n",
    "pylab.show()"
   ]
  },
  {
   "cell_type": "code",
   "execution_count": null,
   "id": "plain-deviation",
   "metadata": {},
   "outputs": [],
   "source": [
    "angles = np.angle(filtered_signal)\n",
    "# Difference the phase angle and convert to +/-pi range.\n",
    "angle_diff = np.unwrap(np.diff(angles))"
   ]
  },
  {
   "cell_type": "code",
   "execution_count": null,
   "id": "certain-briefs",
   "metadata": {},
   "outputs": [],
   "source": [
    "pylab.figure()\n",
    "\n",
    "freq, mag = compute_fft_plot_from_sample_rate(angle_diff, sampling_rate=fs, center_frequency=0)\n",
    "\n",
    "pylab.plot(freq, mag)\n",
    "\n",
    "pylab.show()"
   ]
  },
  {
   "cell_type": "code",
   "execution_count": null,
   "id": "olive-karaoke",
   "metadata": {},
   "outputs": [],
   "source": [
    "filtered_angle_diff = filter_real_signal(signal=angle_diff, cutoff_frequency=20e3, sample_rate=fs)\n",
    "\n",
    "\n",
    "pylab.figure()\n",
    "\n",
    "freq, mag = compute_fft_plot_from_sample_rate(filtered_angle_diff, sampling_rate=fs, center_frequency=0)\n",
    "\n",
    "pylab.plot(freq, mag)\n",
    "\n",
    "pylab.show()"
   ]
  },
  {
   "cell_type": "code",
   "execution_count": null,
   "id": "julian-visit",
   "metadata": {},
   "outputs": [],
   "source": [
    "angle_diff_downsampled = filtered_angle_diff[::25]\n",
    "angle_diff_downsampled_fs = fs/25\n",
    "\n",
    "pylab.figure()\n",
    "\n",
    "freq, mag = compute_fft_plot_from_sample_rate(angle_diff_downsampled, sampling_rate=angle_diff_downsampled_fs, center_frequency=0)\n",
    "\n",
    "pylab.plot(freq, mag)\n",
    "\n",
    "pylab.show()"
   ]
  },
  {
   "cell_type": "code",
   "execution_count": null,
   "id": "facial-conviction",
   "metadata": {},
   "outputs": [],
   "source": [
    "wavfile.write('/home/dominic/radio/data/test.wav', int(angle_diff_downsampled_fs), angle_diff_downsampled)"
   ]
  },
  {
   "cell_type": "code",
   "execution_count": null,
   "id": "weird-thesis",
   "metadata": {},
   "outputs": [],
   "source": []
  },
  {
   "cell_type": "code",
   "execution_count": null,
   "id": "public-declaration",
   "metadata": {},
   "outputs": [],
   "source": []
  },
  {
   "cell_type": "code",
   "execution_count": null,
   "id": "convenient-courage",
   "metadata": {},
   "outputs": [],
   "source": []
  },
  {
   "cell_type": "code",
   "execution_count": null,
   "id": "convertible-metallic",
   "metadata": {},
   "outputs": [],
   "source": []
  },
  {
   "cell_type": "code",
   "execution_count": null,
   "id": "fuzzy-raising",
   "metadata": {},
   "outputs": [],
   "source": [
    "fs = 2048000\n",
    "center_frequency = 98500000\n",
    "\n",
    "signal = read_sdriq_data(\"/home/dominic/radio/long_test.sdriq\")\n",
    "\n",
    "audio_signal, audio_signal_fs = chunked_demodulate_signal(signal, sample_rate=fs)\n",
    "wavfile.write('/home/dominic/radio/data/test.wav', int(audio_signal_fs), audio_signal)"
   ]
  },
  {
   "cell_type": "code",
   "execution_count": null,
   "id": "pretty-fleet",
   "metadata": {},
   "outputs": [],
   "source": []
  }
 ],
 "metadata": {
  "kernelspec": {
   "display_name": "Python 3",
   "language": "python",
   "name": "python3"
  },
  "language_info": {
   "codemirror_mode": {
    "name": "ipython",
    "version": 3
   },
   "file_extension": ".py",
   "mimetype": "text/x-python",
   "name": "python",
   "nbconvert_exporter": "python",
   "pygments_lexer": "ipython3",
   "version": "3.8.5"
  }
 },
 "nbformat": 4,
 "nbformat_minor": 5
}
