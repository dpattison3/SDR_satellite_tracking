{
 "cells": [
  {
   "cell_type": "code",
   "execution_count": null,
   "metadata": {},
   "outputs": [],
   "source": [
    "from rtlsdr import RtlSdr\n",
    "import matplotlib.pyplot as plt\n",
    "import numpy as np\n",
    "from scipy.io import wavfile\n",
    "from scipy.signal import correlate\n",
    "\n",
    "from plotly import graph_objects as go\n",
    "\n",
    "from util.plotting import compute_fft_plot, compute_fft_plot_from_sample_rate, compute_frequency_response\n",
    "from util.filtering import low_pass_filter_complex_signal, band_pass_filter_real_signal, low_pass_filter_real_signal\n",
    "from util.data_io import read_gqrx_raw_data\n",
    "from util.demodulation import demodulate_signal, chunked_demodulate_signal\n",
    "\n",
    "\n",
    "# from scipy.signal import hilbert, resample, get_window, spectrogram\n",
    "# from scipy.fftpack import fftshift\n",
    "# import plotly.graph_objects as go"
   ]
  },
  {
   "cell_type": "code",
   "execution_count": null,
   "metadata": {},
   "outputs": [],
   "source": [
    "fs = 1.8E6\n",
    "center_frequency = 144.390E6\n",
    "\n",
    "signal = read_gqrx_raw_data(\"data/gqrx_20211128_230741_144390000_1800000_fc.raw\")\n",
    "len(signal) / fs"
   ]
  },
  {
   "cell_type": "code",
   "execution_count": null,
   "metadata": {},
   "outputs": [],
   "source": [
    "filtered_signal = low_pass_filter_complex_signal(signal=signal, cutoff_frequency=10E3, sample_rate=fs)\n",
    "\n",
    "angle_diff = np.angle(\n",
    "    np.conjugate(filtered_signal[:-1]) * filtered_signal[1:]\n",
    ")\n",
    "\n",
    "filtered_signal = band_pass_filter_real_signal(\n",
    "    signal=angle_diff, low_cutoff_frequency=1000, high_cutoff_frequency=2500,\n",
    "    sample_rate=fs\n",
    ")\n",
    "filtered_signal = filtered_signal[::30]\n",
    "downsampled_fs = fs / 30\n",
    "\n"
   ]
  },
  {
   "cell_type": "code",
   "execution_count": null,
   "metadata": {},
   "outputs": [],
   "source": [
    "downsampled_fs"
   ]
  },
  {
   "cell_type": "code",
   "execution_count": null,
   "metadata": {},
   "outputs": [],
   "source": [
    "f,m = compute_fft_plot_from_sample_rate(filtered_signal, downsampled_fs)\n",
    "\n",
    "# plt.plot(f,m)\n",
    "fig = go.Figure()\n",
    "fig.add_scatter(x=f,y=m)\n",
    "fig.show()"
   ]
  },
  {
   "cell_type": "code",
   "execution_count": null,
   "metadata": {},
   "outputs": [],
   "source": [
    "space_signal_filtered = band_pass_filter_real_signal(\n",
    "    signal=filtered_signal, low_cutoff_frequency=1150, high_cutoff_frequency=1250,\n",
    "    sample_rate=downsampled_fs, order=50\n",
    ")\n",
    "space_envelope = low_pass_filter_real_signal(np.abs(space_signal_filtered), cutoff_frequency=1.2E3,\n",
    "                                             sample_rate=downsampled_fs, apply_mean_shift=False)\n",
    "\n",
    "mark_signal_filtered = band_pass_filter_real_signal(\n",
    "    signal=filtered_signal, low_cutoff_frequency=2150, high_cutoff_frequency=2250,\n",
    "    sample_rate=downsampled_fs, order=50\n",
    ")\n",
    "mark_envelope = low_pass_filter_real_signal(np.abs(mark_signal_filtered), cutoff_frequency=1.2E3,\n",
    "                                            sample_rate=downsampled_fs, apply_mean_shift=False)\n",
    "\n",
    "decision_signal = mark_envelope - space_envelope"
   ]
  },
  {
   "cell_type": "code",
   "execution_count": null,
   "metadata": {},
   "outputs": [],
   "source": [
    "fig = go.Figure()\n",
    "\n",
    "f,m = compute_fft_plot_from_sample_rate(space_signal_filtered, downsampled_fs)\n",
    "fig.add_scatter(x=f,y=m, name=\"space\")\n",
    "\n",
    "f,m = compute_fft_plot_from_sample_rate(mark_signal_filtered, downsampled_fs)\n",
    "fig.add_scatter(x=f,y=m, name=\"mark\")\n",
    "\n",
    "fig.show()"
   ]
  },
  {
   "cell_type": "code",
   "execution_count": null,
   "metadata": {},
   "outputs": [],
   "source": [
    "fig = go.Figure()\n",
    "\n",
    "time = np.arange(len(space_signal_filtered)) / downsampled_fs\n",
    "fig.add_scatter(x=time,y=space_signal_filtered, name=\"space\")\n",
    "fig.add_scatter(x=time,y=space_envelope, name=\"space envelope\")\n",
    "\n",
    "fig.add_scatter(x=time,y=mark_signal_filtered, name=\"mark\")\n",
    "fig.add_scatter(x=time,y=mark_envelope, name=\"mark envelope\")\n",
    "\n",
    "fig.add_scatter(x=time,y=decision_signal, name=\"decision\")\n",
    "\n",
    "\n",
    "fig.show()"
   ]
  },
  {
   "cell_type": "code",
   "execution_count": null,
   "metadata": {},
   "outputs": [],
   "source": [
    "mark_frequency = 2225\n",
    "space_frequency = 1176\n",
    "\n",
    "mark_time = np.arange(downsampled_fs/mark_frequency+1) / downsampled_fs\n",
    "mark_cos = np.cos(2*np.pi*mark_frequency*mark_time)\n",
    "mark_sin = np.sin(2*np.pi*mark_frequency*mark_time)\n",
    "\n",
    "space_time = np.arange(downsampled_fs/space_frequency+1) / downsampled_fs\n",
    "space_cos = np.cos(2*np.pi*space_frequency*space_time)\n",
    "space_sin = np.sin(2*np.pi*space_frequency*space_time)"
   ]
  },
  {
   "cell_type": "code",
   "execution_count": null,
   "metadata": {},
   "outputs": [],
   "source": [
    "fig = go.Figure()\n",
    "fig.add_scatter(x=mark_time,y=mark_cos, name=\"mark cos\")\n",
    "fig.add_scatter(x=mark_time,y=mark_sin, name=\"mark sin\")\n",
    "\n",
    "fig.add_scatter(x=space_time,y=space_sin, name=\"space sin\")\n",
    "fig.add_scatter(x=space_time,y=space_cos, name=\"space cos\")\n",
    "\n",
    "fig.show()"
   ]
  },
  {
   "cell_type": "code",
   "execution_count": null,
   "metadata": {},
   "outputs": [],
   "source": [
    "mark_cos_correlation = correlate(filtered_signal, mark_cos, mode=\"same\")\n",
    "mark_sin_correlation = correlate(filtered_signal, mark_sin, mode=\"same\")\n",
    "\n",
    "mark_correlation = np.sqrt(mark_cos_correlation**2 + mark_sin_correlation**2)\n",
    "mark_correlation /= np.max(mark_correlation)\n",
    "\n",
    "space_cos_correlation = correlate(filtered_signal, space_cos, mode=\"same\")\n",
    "space_sin_correlation = correlate(filtered_signal, space_sin, mode=\"same\")\n",
    "\n",
    "space_correlation = np.sqrt(space_cos_correlation**2 + space_sin_correlation**2)\n",
    "space_correlation /= np.max(space_correlation)\n",
    "\n",
    "decision_signal = mark_correlation - space_correlation\n",
    "decision_signal -= np.mean(decision_signal)"
   ]
  },
  {
   "cell_type": "code",
   "execution_count": null,
   "metadata": {},
   "outputs": [],
   "source": [
    "len(mark_correlation), len(space_correlation)"
   ]
  },
  {
   "cell_type": "code",
   "execution_count": null,
   "metadata": {},
   "outputs": [],
   "source": [
    "time = np.arange(len(mark_correlation)) / downsampled_fs\n",
    "\n",
    "fig = go.Figure()\n",
    "fig.add_scatter(x=time,y=mark_correlation, name=\"mark\")\n",
    "fig.add_scatter(x=time,y=space_correlation, name=\"space\")\n",
    "fig.add_scatter(x=time,y=decision_signal, name=\"decision\")\n",
    "fig.show()"
   ]
  },
  {
   "cell_type": "code",
   "execution_count": null,
   "metadata": {},
   "outputs": [],
   "source": [
    "f,m = compute_fft_plot_from_sample_rate(decision_signal, downsampled_fs)\n",
    "\n",
    "fig = go.Figure()\n",
    "fig.add_scatter(x=f,y=m)\n",
    "fig.show()\n"
   ]
  },
  {
   "cell_type": "code",
   "execution_count": null,
   "metadata": {},
   "outputs": [],
   "source": []
  },
  {
   "cell_type": "code",
   "execution_count": null,
   "metadata": {},
   "outputs": [],
   "source": []
  },
  {
   "cell_type": "code",
   "execution_count": null,
   "metadata": {},
   "outputs": [],
   "source": []
  },
  {
   "cell_type": "code",
   "execution_count": null,
   "metadata": {},
   "outputs": [],
   "source": []
  },
  {
   "cell_type": "code",
   "execution_count": null,
   "metadata": {},
   "outputs": [],
   "source": [
    "filtered_signal = low_pass_filter_complex_signal(signal=signal, cutoff_frequency=10E3, sample_rate=fs)\n",
    "filtered_signal = filtered_signal[::10]\n",
    "downsampled_fs = fs / 10\n",
    "\n",
    "\n",
    "angle_diff = np.angle(\n",
    "    np.conjugate(filtered_signal[:-1]) * filtered_signal[1:]\n",
    ")\n",
    "\n",
    "filtered_angle_diff = band_pass_filter_real_signal(\n",
    "    signal=angle_diff, low_cutoff_frequency=1000, high_cutoff_frequency=2500,\n",
    "    sample_rate=downsampled_fs\n",
    ")\n",
    "filtered_angle_diff = filtered_angle_diff[::10]\n",
    "downsampled_fs = downsampled_fs / 10\n"
   ]
  },
  {
   "cell_type": "code",
   "execution_count": null,
   "metadata": {},
   "outputs": [],
   "source": [
    "len(filtered_angle_diff) / downsampled_fs\n",
    "int(downsampled_fs * 0.5), int(downsampled_fs * 1.5)"
   ]
  },
  {
   "cell_type": "code",
   "execution_count": null,
   "metadata": {},
   "outputs": [],
   "source": [
    "wavfile.write(\"data/aprs.wav\", int(downsampled_fs), filtered_angle_diff)"
   ]
  },
  {
   "cell_type": "code",
   "execution_count": null,
   "metadata": {},
   "outputs": [],
   "source": [
    "f,m = compute_fft_plot_from_sample_rate(filtered_angle_diff, downsampled_fs)\n",
    "\n",
    "fig = go.Figure()\n",
    "fig.add_scatter(x=f,y=m)\n",
    "fig.show()\n",
    "# plt.plot(f,m)"
   ]
  },
  {
   "cell_type": "code",
   "execution_count": null,
   "metadata": {},
   "outputs": [],
   "source": [
    "# shift the frequencies to be centered at zero.\n",
    "time_vector = np.linspace(0, len(filtered_angle_diff) / downsampled_fs, len(filtered_angle_diff))\n",
    "shift_frequency = 1700\n",
    "shift_signal = np.exp(-2j*np.pi*shift_frequency*time_vector)\n",
    "\n",
    "centered_signal = filtered_angle_diff * shift_signal\n",
    "\n",
    "centered_signal = low_pass_filter_complex_signal(\n",
    "    signal=centered_signal, cutoff_frequency=1000, sample_rate=downsampled_fs\n",
    ")\n"
   ]
  },
  {
   "cell_type": "code",
   "execution_count": null,
   "metadata": {},
   "outputs": [],
   "source": [
    "f,m = compute_fft_plot_from_sample_rate(centered_signal, downsampled_fs)\n",
    "\n",
    "fig = go.Figure()\n",
    "fig.add_scatter(x=f,y=m)\n",
    "fig.show()"
   ]
  },
  {
   "cell_type": "code",
   "execution_count": null,
   "metadata": {},
   "outputs": [],
   "source": [
    "angle_diff = np.angle(\n",
    "    np.conjugate(centered_signal[:-1]) * centered_signal[1:]\n",
    ")\n",
    "\n",
    "angle_diff = low_pass_filter_complex_signal(\n",
    "    signal=angle_diff, cutoff_frequency=1500, sample_rate=downsampled_fs\n",
    ")"
   ]
  },
  {
   "cell_type": "code",
   "execution_count": null,
   "metadata": {},
   "outputs": [],
   "source": [
    "f,m = compute_fft_plot_from_sample_rate(angle_diff, downsampled_fs)\n",
    "\n",
    "fig = go.Figure()\n",
    "fig.add_scatter(x=f,y=m)\n",
    "fig.show()"
   ]
  },
  {
   "cell_type": "code",
   "execution_count": null,
   "metadata": {},
   "outputs": [],
   "source": [
    "\n",
    "fig = go.Figure()\n",
    "fig.add_scatter(x=time_vector,y=np.real(angle_diff))\n",
    "fig.show()"
   ]
  },
  {
   "cell_type": "code",
   "execution_count": null,
   "metadata": {},
   "outputs": [],
   "source": []
  },
  {
   "cell_type": "code",
   "execution_count": null,
   "metadata": {},
   "outputs": [],
   "source": []
  },
  {
   "cell_type": "code",
   "execution_count": null,
   "metadata": {},
   "outputs": [],
   "source": [
    "zero_frequency = 1200\n",
    "one_frequency = 2200\n",
    "\n",
    "times = np.linspace(0, len(demodulated_audio) / audio_fs, len(demodulated_audio))\n",
    "\n",
    "zero_signal_cos = np.cos(2*np.pi*times*zero_frequency)\n",
    "zero_signal_sin = np.sin(2*np.pi*times*zero_frequency)\n",
    "\n",
    "one_signal_cos = np.cos(2*np.pi*times*one_frequency)\n",
    "one_signal_sin = np.sin(2*np.pi*times*one_frequency)"
   ]
  },
  {
   "cell_type": "code",
   "execution_count": null,
   "metadata": {},
   "outputs": [],
   "source": [
    "f,m = compute_fft_plot_from_sample_rate(zero_signal_cos + one_signal_cos, audio_fs)\n",
    "plt.plot(f,m)"
   ]
  },
  {
   "cell_type": "code",
   "execution_count": null,
   "metadata": {},
   "outputs": [],
   "source": []
  },
  {
   "cell_type": "code",
   "execution_count": null,
   "metadata": {},
   "outputs": [],
   "source": []
  },
  {
   "cell_type": "code",
   "execution_count": null,
   "metadata": {},
   "outputs": [],
   "source": []
  },
  {
   "cell_type": "code",
   "execution_count": null,
   "metadata": {},
   "outputs": [],
   "source": []
  },
  {
   "cell_type": "code",
   "execution_count": null,
   "metadata": {},
   "outputs": [],
   "source": []
  },
  {
   "cell_type": "code",
   "execution_count": null,
   "metadata": {},
   "outputs": [],
   "source": [
    "fs, signal = wavfile.read(\"data/SDRSharp_20150819_190253Z_145070kHz_IQ.wav\")\n",
    "\n",
    "signal = (signal[:, 0] + 1j * signal[:, 1]) / np.mean(np.abs(signal))"
   ]
  },
  {
   "cell_type": "code",
   "execution_count": null,
   "metadata": {},
   "outputs": [],
   "source": [
    "f,m = compute_fft_plot_from_sample_rate(signal, fs)\n",
    "\n",
    "fig = go.Figure()\n",
    "fig.add_scatter(x=f,y=m)\n",
    "fig.show()"
   ]
  },
  {
   "cell_type": "code",
   "execution_count": null,
   "metadata": {},
   "outputs": [],
   "source": [
    "filtered_signal = low_pass_filter_complex_signal(signal=signal, cutoff_frequency=10E3, sample_rate=fs)\n",
    "\n",
    "\n",
    "angle_diff = np.angle(\n",
    "    np.conjugate(filtered_signal[:-1]) * filtered_signal[1:]\n",
    ")\n",
    "\n",
    "filtered_angle_diff = band_pass_filter_real_signal(\n",
    "    signal=angle_diff, low_cutoff_frequency=1000, high_cutoff_frequency=2500,\n",
    "    sample_rate=fs\n",
    ")\n"
   ]
  },
  {
   "cell_type": "code",
   "execution_count": null,
   "metadata": {},
   "outputs": [],
   "source": [
    "f,m = compute_fft_plot_from_sample_rate(filtered_angle_diff, fs)\n",
    "\n",
    "fig = go.Figure()\n",
    "fig.add_scatter(x=f,y=m)\n",
    "fig.show()"
   ]
  },
  {
   "cell_type": "code",
   "execution_count": null,
   "metadata": {},
   "outputs": [],
   "source": [
    "# shift the frequencies to be centered at zero.\n",
    "time_vector = np.linspace(0, len(filtered_angle_diff) / fs, len(filtered_angle_diff))\n",
    "shift_frequency = 1700\n",
    "shift_signal = np.exp(-2j*np.pi*shift_frequency*time_vector)\n",
    "\n",
    "centered_signal = filtered_angle_diff * shift_signal\n",
    "\n",
    "centered_signal = low_pass_filter_complex_signal(\n",
    "    signal=centered_signal, cutoff_frequency=1000, sample_rate=fs\n",
    ")\n",
    "\n",
    "\n",
    "angle_diff = np.angle(\n",
    "    np.conjugate(centered_signal[:-1]) * centered_signal[1:]\n",
    ")\n",
    "\n",
    "angle_diff = low_pass_filter_complex_signal(\n",
    "    signal=angle_diff, cutoff_frequency=1500, sample_rate=fs\n",
    ")"
   ]
  },
  {
   "cell_type": "code",
   "execution_count": null,
   "metadata": {},
   "outputs": [],
   "source": [
    "st = int(fs * 1)\n",
    "end = int(fs * 10)\n",
    "\n",
    "\n",
    "fig = go.Figure()\n",
    "fig.add_scatter(x=time_vector[st:end],y=np.real(angle_diff[st:end]))\n",
    "fig.show()"
   ]
  },
  {
   "cell_type": "code",
   "execution_count": null,
   "metadata": {},
   "outputs": [],
   "source": []
  }
 ],
 "metadata": {
  "kernelspec": {
   "display_name": "Python 3",
   "language": "python",
   "name": "python3"
  },
  "language_info": {
   "codemirror_mode": {
    "name": "ipython",
    "version": 3
   },
   "file_extension": ".py",
   "mimetype": "text/x-python",
   "name": "python",
   "nbconvert_exporter": "python",
   "pygments_lexer": "ipython3",
   "version": "3.8.10"
  },
  "orig_nbformat": 4
 },
 "nbformat": 4,
 "nbformat_minor": 2
}
